{
  "cells": [
    {
      "cell_type": "markdown",
      "metadata": {
        "id": "view-in-github",
        "colab_type": "text"
      },
      "source": [
        "<a href=\"https://colab.research.google.com/github/cafrii/fastai_fastbook/blob/main/01_intro.ipynb\" target=\"_parent\"><img src=\"https://colab.research.google.com/assets/colab-badge.svg\" alt=\"Open In Colab\"/></a>"
      ]
    },
    {
      "cell_type": "code",
      "execution_count": 1,
      "metadata": {
        "colab": {
          "base_uri": "https://localhost:8080/"
        },
        "id": "U3imGpqeXxj-",
        "outputId": "ae9729bd-e25b-4e1b-b6b1-fa9d738e38b2"
      },
      "outputs": [
        {
          "output_type": "stream",
          "name": "stdout",
          "text": [
            "\u001b[?25l   \u001b[90m━━━━━━━━━━━━━━━━━━━━━━━━━━━━━━━━━━━━━━━━\u001b[0m \u001b[32m0.0/719.8 kB\u001b[0m \u001b[31m?\u001b[0m eta \u001b[36m-:--:--\u001b[0m\r\u001b[2K   \u001b[91m━━━━━━━━━━━━━━━━━━━━━━━━━━━━━━━━━━━━━━━\u001b[0m\u001b[91m╸\u001b[0m \u001b[32m716.8/719.8 kB\u001b[0m \u001b[31m41.1 MB/s\u001b[0m eta \u001b[36m0:00:01\u001b[0m\r\u001b[2K   \u001b[90m━━━━━━━━━━━━━━━━━━━━━━━━━━━━━━━━━━━━━━━━\u001b[0m \u001b[32m719.8/719.8 kB\u001b[0m \u001b[31m10.5 MB/s\u001b[0m eta \u001b[36m0:00:00\u001b[0m\n",
            "\u001b[?25h\u001b[?25l   \u001b[90m━━━━━━━━━━━━━━━━━━━━━━━━━━━━━━━━━━━━━━━━\u001b[0m \u001b[32m0.0/491.2 kB\u001b[0m \u001b[31m?\u001b[0m eta \u001b[36m-:--:--\u001b[0m\r\u001b[2K   \u001b[90m━━━━━━━━━━━━━━━━━━━━━━━━━━━━━━━━━━━━━━━━\u001b[0m \u001b[32m491.2/491.2 kB\u001b[0m \u001b[31m17.5 MB/s\u001b[0m eta \u001b[36m0:00:00\u001b[0m\n",
            "\u001b[2K   \u001b[90m━━━━━━━━━━━━━━━━━━━━━━━━━━━━━━━━━━━━━━━━\u001b[0m \u001b[32m116.3/116.3 kB\u001b[0m \u001b[31m5.8 MB/s\u001b[0m eta \u001b[36m0:00:00\u001b[0m\n",
            "\u001b[2K   \u001b[90m━━━━━━━━━━━━━━━━━━━━━━━━━━━━━━━━━━━━━━━━\u001b[0m \u001b[32m183.9/183.9 kB\u001b[0m \u001b[31m8.5 MB/s\u001b[0m eta \u001b[36m0:00:00\u001b[0m\n",
            "\u001b[2K   \u001b[90m━━━━━━━━━━━━━━━━━━━━━━━━━━━━━━━━━━━━━━━━\u001b[0m \u001b[32m143.5/143.5 kB\u001b[0m \u001b[31m7.6 MB/s\u001b[0m eta \u001b[36m0:00:00\u001b[0m\n",
            "\u001b[2K   \u001b[90m━━━━━━━━━━━━━━━━━━━━━━━━━━━━━━━━━━━━━━━━\u001b[0m \u001b[32m363.4/363.4 MB\u001b[0m \u001b[31m4.1 MB/s\u001b[0m eta \u001b[36m0:00:00\u001b[0m\n",
            "\u001b[2K   \u001b[90m━━━━━━━━━━━━━━━━━━━━━━━━━━━━━━━━━━━━━━━━\u001b[0m \u001b[32m13.8/13.8 MB\u001b[0m \u001b[31m46.8 MB/s\u001b[0m eta \u001b[36m0:00:00\u001b[0m\n",
            "\u001b[2K   \u001b[90m━━━━━━━━━━━━━━━━━━━━━━━━━━━━━━━━━━━━━━━━\u001b[0m \u001b[32m24.6/24.6 MB\u001b[0m \u001b[31m30.4 MB/s\u001b[0m eta \u001b[36m0:00:00\u001b[0m\n",
            "\u001b[2K   \u001b[90m━━━━━━━━━━━━━━━━━━━━━━━━━━━━━━━━━━━━━━━━\u001b[0m \u001b[32m883.7/883.7 kB\u001b[0m \u001b[31m36.9 MB/s\u001b[0m eta \u001b[36m0:00:00\u001b[0m\n",
            "\u001b[2K   \u001b[90m━━━━━━━━━━━━━━━━━━━━━━━━━━━━━━━━━━━━━━━━\u001b[0m \u001b[32m664.8/664.8 MB\u001b[0m \u001b[31m2.7 MB/s\u001b[0m eta \u001b[36m0:00:00\u001b[0m\n",
            "\u001b[2K   \u001b[90m━━━━━━━━━━━━━━━━━━━━━━━━━━━━━━━━━━━━━━━━\u001b[0m \u001b[32m211.5/211.5 MB\u001b[0m \u001b[31m5.4 MB/s\u001b[0m eta \u001b[36m0:00:00\u001b[0m\n",
            "\u001b[2K   \u001b[90m━━━━━━━━━━━━━━━━━━━━━━━━━━━━━━━━━━━━━━━━\u001b[0m \u001b[32m56.3/56.3 MB\u001b[0m \u001b[31m12.7 MB/s\u001b[0m eta \u001b[36m0:00:00\u001b[0m\n",
            "\u001b[2K   \u001b[90m━━━━━━━━━━━━━━━━━━━━━━━━━━━━━━━━━━━━━━━━\u001b[0m \u001b[32m127.9/127.9 MB\u001b[0m \u001b[31m7.4 MB/s\u001b[0m eta \u001b[36m0:00:00\u001b[0m\n",
            "\u001b[2K   \u001b[90m━━━━━━━━━━━━━━━━━━━━━━━━━━━━━━━━━━━━━━━━\u001b[0m \u001b[32m207.5/207.5 MB\u001b[0m \u001b[31m5.6 MB/s\u001b[0m eta \u001b[36m0:00:00\u001b[0m\n",
            "\u001b[2K   \u001b[90m━━━━━━━━━━━━━━━━━━━━━━━━━━━━━━━━━━━━━━━━\u001b[0m \u001b[32m21.1/21.1 MB\u001b[0m \u001b[31m59.6 MB/s\u001b[0m eta \u001b[36m0:00:00\u001b[0m\n",
            "\u001b[2K   \u001b[90m━━━━━━━━━━━━━━━━━━━━━━━━━━━━━━━━━━━━━━━━\u001b[0m \u001b[32m194.8/194.8 kB\u001b[0m \u001b[31m15.2 MB/s\u001b[0m eta \u001b[36m0:00:00\u001b[0m\n",
            "\u001b[2K   \u001b[90m━━━━━━━━━━━━━━━━━━━━━━━━━━━━━━━━━━━━━━━━\u001b[0m \u001b[32m1.6/1.6 MB\u001b[0m \u001b[31m63.1 MB/s\u001b[0m eta \u001b[36m0:00:00\u001b[0m\n",
            "\u001b[?25h\u001b[31mERROR: pip's dependency resolver does not currently take into account all the packages that are installed. This behaviour is the source of the following dependency conflicts.\n",
            "gcsfs 2025.3.2 requires fsspec==2025.3.2, but you have fsspec 2024.12.0 which is incompatible.\u001b[0m\u001b[31m\n",
            "\u001b[0mMounted at /content/gdrive\n"
          ]
        }
      ],
      "source": [
        "#hide\n",
        "! [ -e /content ] && pip install -Uqq fastbook\n",
        "import fastbook\n",
        "fastbook.setup_book()"
      ]
    },
    {
      "cell_type": "code",
      "execution_count": 2,
      "metadata": {
        "id": "h8rcNrolXxj-"
      },
      "outputs": [],
      "source": [
        "#hide\n",
        "from fastbook import *"
      ]
    },
    {
      "cell_type": "raw",
      "metadata": {
        "id": "ZJZu9TeHXxj_"
      },
      "source": [
        "[[chapter_intro]]"
      ]
    },
    {
      "cell_type": "markdown",
      "metadata": {
        "id": "cGmWPu0DXxj_"
      },
      "source": [
        "# Your Deep Learning Journey"
      ]
    },
    {
      "cell_type": "markdown",
      "metadata": {
        "id": "Yyj66ySfXxj_"
      },
      "source": [
        "Hello, and thank you for letting us join you on your deep learning journey, however far along that you may be! In this chapter, we will tell you a little bit more about what to expect in this book, introduce the key concepts behind deep learning, and train our first models on different tasks. It doesn't matter if you don't come from a technical or a mathematical background (though it's okay if you do too!); we wrote this book to make deep learning accessible to as many people as possible.\n",
        "\n",
        "안녕하세요. 여러분이 아무리 멀리 왔더라도 딥 러닝 여정에 동참하게 해주셔서 감사합니다! 이 장에서는 이 책에서 무엇을 기대해야 할지 조금 더 자세히 설명하고, 딥 러닝의 핵심 개념을 소개하고, 다양한 과제에 대한 첫 번째 모델을 훈련합니다. 기술적 또는 수학적 배경이 없어도 상관없습니다(하지만 그렇더라도 괜찮습니다!). 우리는 가능한 한 많은 사람이 딥 러닝을 접할 수 있도록 이 책을 썼습니다."
      ]
    },
    {
      "cell_type": "markdown",
      "metadata": {
        "id": "ctbgzqquXxj_"
      },
      "source": [
        "## Deep Learning Is for Everyone"
      ]
    },
    {
      "cell_type": "markdown",
      "metadata": {
        "id": "CnYhk2PNXxj_"
      },
      "source": [
        "A lot of people assume that you need all kinds of hard-to-find stuff to get great results with deep learning, but as you'll see in this book, those people are wrong. <<myths>> is a list of a few thing you *absolutely don't need* to do world-class deep learning.\n",
        "\n",
        "많은 사람들이 딥러닝으로 좋은 결과를 얻으려면 찾기 힘든 온갖 것들이 필요하다고 생각하지만, 이 책에서 알 수 있듯이 그런 사람들은 틀렸습니다. < >는 세계적 수준의 딥러닝을 하는 데 절대적으로 필요하지 않은 몇 가지 사항의 목록입니다 .\n",
        "\n",
        "```asciidoc\n",
        "[[myths]]\n",
        ".What you don't need to do deep learning\n",
        "[options=\"header\"]\n",
        "|======\n",
        "| Myth (don't need) | Truth\n",
        "| Lots of math | Just high school math is sufficient\n",
        "| Lots of data | We've seen record-breaking results with <50 items of data\n",
        "| Lots of expensive computers | You can get what you need for state of the art work for free\n",
        "|======\n",
        "```\n",
        "\n",
        "Deep learning is a computer technique to extract and transform data–-with use cases ranging from human speech recognition to animal imagery classification–-by using multiple layers of neural networks. Each of these layers takes its inputs from previous layers and progressively refines them. The layers are trained by algorithms that minimize their errors and improve their accuracy. In this way, the network learns to perform a specified task. We will discuss training algorithms in detail in the next section.\n",
        "\n",
        "딥 러닝은 여러 계층의 신경망을 사용하여 데이터를 추출하고 변환하는 컴퓨터 기술입니다. 사용 사례는 인간의 음성 인식에서 동물 이미지 분류에 이르기까지 다양합니다. 이러한 각 계층은 이전 계층에서 입력을 가져와 점진적으로 개선합니다. 계층은 오류를 최소화하고 정확도를 개선하는 알고리즘으로 학습합니다. 이런 방식으로 네트워크는 지정된 작업을 수행하는 방법을 학습합니다. 다음 섹션에서 학습 알고리즘에 대해 자세히 설명합니다.\n"
      ]
    },
    {
      "cell_type": "markdown",
      "metadata": {
        "id": "nO0TGr6BXxj_"
      },
      "source": [
        "Deep learning has power, flexibility, and simplicity. That's why we believe it should be applied across many disciplines. These include the social and physical sciences, the arts, medicine, finance, scientific research, and many more. To give a personal example, despite having no background in medicine, Jeremy started Enlitic, a company that uses deep learning algorithms to diagnose illness and disease. Within months of starting the company, it was announced that its algorithm could identify malignant tumors [more accurately than radiologists](https://www.nytimes.com/2016/02/29/technology/the-promise-of-artificial-intelligence-unfolds-in-small-steps.html).\n",
        "\n",
        "딥 러닝은 강력하고 유연하며 단순합니다. 그래서 우리는 그것이 여러 분야에 적용되어야 한다고 믿습니다. 여기에는 사회 및 물리 과학, 예술, 의학, 금융, 과학 연구 등이 포함됩니다. 개인적인 예를 들자면, Jeremy는 의학 분야를 전혀 알지 못했지만, 질병과 질환을 진단하기 위해 딥 러닝 알고리즘을 사용하는 회사인 Enlitic을 시작했습니다. 회사를 시작한 지 몇 달 만에, 그 알고리즘이 방사선과 의사보다 악성 종양을 더 정확하게 식별할 수 있다는 발표가 있었습니다 .\n",
        "\n",
        "Here's a list of some of the thousands of tasks in different areas at which deep learning, or methods heavily using deep learning, is now the best in the world:\n",
        "\n",
        "다음은 딥 러닝, 또는 딥 러닝을 적극적으로 활용한 방법이 현재 세계 최고로 평가받는 다양한 분야의 수천 개 과제 중 일부를 나열한 것입니다.\n",
        "\n",
        "- Natural language processing (NLP):: Answering questions; speech recognition; summarizing documents; classifying documents; finding names, dates, etc. in documents; searching for articles mentioning a concept\n",
        "- Computer vision:: Satellite and drone imagery interpretation (e.g., for disaster resilience); face recognition; image captioning; reading traffic signs; locating pedestrians and vehicles in autonomous vehicles\n",
        "- Medicine:: Finding anomalies in radiology images, including CT, MRI, and X-ray images; counting features in pathology slides; measuring features in ultrasounds; diagnosing diabetic retinopathy\n",
        "- Biology:: Folding proteins; classifying proteins; many genomics tasks, such as tumor-normal sequencing and classifying clinically actionable genetic mutations; cell classification; analyzing protein/protein interactions\n",
        "- Image generation:: Colorizing images; increasing image resolution; removing noise from images; converting images to art in the style of famous artists\n",
        "- Recommendation systems:: Web search; product recommendations; home page layout\n",
        "- Playing games:: Chess, Go, most Atari video games, and many real-time strategy games\n",
        "- Robotics:: Handling objects that are challenging to locate (e.g., transparent, shiny, lacking texture) or hard to pick up\n",
        "- Other applications:: Financial and logistical forecasting, text to speech, and much more...\n",
        "\n",
        "- 자연어 처리(NLP):: 질문에 답하기; 음성 인식; 문서 요약하기; 문서 분류하기; 문서에서 이름, 날짜 등 찾기; 개념을 언급하는 기사 검색하기\n",
        "- 컴퓨터 비전: 위성 및 드론 이미지 해석(예: 재난 회복력); 얼굴 인식; 이미지 캡션; 교통 표지판 판독;자율 주행차에서 보행자 및 차량 위치 파악\n",
        "- 의학:: CT, MRI, X-선 이미지를 포함한 방사선 이미지에서 이상 찾기; 병리 슬라이드에서 특징 계산; - 초음파에서 특징 측정; 당뇨성 망막증 진단\n",
        "- 생물학:: 단백질 접힘; 단백질 분류; 종양 정상 시퀀싱 및 임상적으로 활용 가능한 유전자 돌연변이 분류와 같은 많은 유전체학 과제; 세포 분류; 단백질/단백질 상호 작용 분석\n",
        "- 이미지 생성:: 이미지 컬러링; 이미지 해상도 증가; 이미지의 노이즈 제거; 유명 아티스트의 스타일로 - 이미지를 예술 작품으로 변환\n",
        "- 추천 시스템:: 웹 검색; 제품 추천; 홈페이지 레이아웃\n",
        "- 게임 플레이:: 체스, 바둑, 대부분의 Atari 비디오 게임 및 많은 실시간 전략 게임\n",
        "- 로봇공학:: 찾기 힘든 물체(예: 투명, 반짝임, 질감 없음) 또는 집어 올리기 어려운 물체 처리\n",
        "- 기타 응용 분야: 재무 및 물류 예측, 텍스트 음성 변환 등..."
      ]
    },
    {
      "cell_type": "markdown",
      "metadata": {
        "id": "DRhFTDYkXxj_"
      },
      "source": [
        "What is remarkable is that deep learning has such varied application yet nearly all of deep learning is based on a single type of model, the neural network.\n",
        "\n",
        "주목할 점은 딥러닝이 매우 다양한 분야에 적용 가능함에도 불구하고 거의 대부분의 딥러닝은 신경망이라는 단일 유형의 모델을 기반으로 한다는 점입니다.\n",
        "\n",
        "But neural networks are not in fact completely new. In order to have a wider perspective on the field, it is worth it to start with a bit of history.\n",
        "\n",
        "하지만 신경망은 사실 완전히 새로운 것은 아닙니다. 이 분야에 대한 더 넓은 관점을 갖기 위해서는 약간의 역사부터 시작하는 것이 가치가 있습니다.\n"
      ]
    },
    {
      "cell_type": "markdown",
      "metadata": {
        "id": "e7s-Y-KrXxj_"
      },
      "source": [
        "## Neural Networks: A Brief History"
      ]
    },
    {
      "cell_type": "markdown",
      "metadata": {
        "id": "uTIRnj3UXxj_"
      },
      "source": [
        "In 1943 Warren McCulloch, a neurophysiologist, and Walter Pitts, a logician, teamed up to develop a mathematical model of an artificial neuron. In their [paper](https://link.springer.com/article/10.1007/BF02478259) \"A Logical Calculus of the Ideas Immanent in Nervous Activity\" they declared that:\n",
        "\n",
        "1943년 신경생리학자 워런 맥컬록과 논리학자 월터 피츠는 팀을 이루어 인공 뉴런의 수학적 모델을 개발했습니다. 논문 \"신경 활동에 내재된 아이디어의 논리적 계산\"에서 그들은 다음과 같이 선언했습니다.\n",
        "\n",
        "> : Because of the “all-or-none” character of nervous activity, neural events and the relations among them can be treated by means of propositional logic. It is found that the behavior of every net can be described in these terms.\n",
        "\n",
        "> : 신경 활동의 \"전부 아니면 전무\" 특성 때문에 신경 사건과 그 사이의 관계는 명제 논리를 통해 처리될 수 있습니다. 모든 네트의 행동은 이러한 용어로 설명될 수 있습니다."
      ]
    },
    {
      "cell_type": "markdown",
      "metadata": {
        "id": "IXY0UN_pXxj_"
      },
      "source": [
        "McCulloch and Pitts realized that a simplified model of a real neuron could be represented using simple addition and thresholding, as shown in <<neuron>>. Pitts was self-taught, and by age 12, had received an offer to study at Cambridge University with the great Bertrand Russell. He did not take up this invitation, and indeed throughout his life did not accept any offers of advanced degrees or positions of authority. Most of his famous work was done while he was homeless. Despite his lack of an officially recognized position and increasing social isolation, his work with McCulloch was influential, and was taken up by a psychologist named Frank Rosenblatt.\n",
        "\n",
        "McCulloch와 Pitts는 실제 뉴런의 단순화된 모델이 < >에 표시된 것처럼 간단한 덧셈과 임계값 설정을 사용하여 표현될 수 있다는 것을 깨달았습니다. Pitts는 독학으로 공부했고, 12세가 되자 위대한 Bertrand Russell과 함께 케임브리지 대학교에서 공부하라는 제안을 받았습니다. 그는 이 초대를 받아들이지 않았고, 실제로 평생 동안 고급 학위나 권위 있는 직책에 대한 제안을 받아들이지 않았습니다. 그의 유명한 작품 대부분은 그가 노숙자일 때 이루어졌습니다. 공식적으로 인정받는 직위가 없고 사회적 고립이 심화되었음에도 불구하고 McCulloch와 함께 한 그의 작업은 영향력이 있었고 Frank Rosenblatt이라는 심리학자가 이어받았습니다."
      ]
    },
    {
      "cell_type": "markdown",
      "metadata": {
        "id": "0qxMouMUXxkA"
      },
      "source": [
        "<img alt=\"Natural and artificial neurons\" width=\"500\" caption=\"Natural and artificial neurons\" src=\"https://github.com/fastai/fastbook/blob/master/images/chapter7_neuron.png?raw=1\" id=\"neuron\"/>"
      ]
    },
    {
      "cell_type": "markdown",
      "metadata": {
        "id": "KRHam1sRXxkA"
      },
      "source": [
        "Rosenblatt further developed the artificial neuron to give it the ability to learn. Even more importantly, he worked on building the first device that actually used these principles, the Mark I Perceptron. In \"The Design of an Intelligent Automaton\" Rosenblatt wrote about this work: \"We are now about to witness the birth of such a machine–-a machine capable of perceiving, recognizing and identifying its surroundings without any human training or control.\" The perceptron was built, and was able to successfully recognize simple shapes.\n",
        "\n",
        "로젠블랫은 인공 뉴런을 더욱 발전시켜 학습 능력을 부여했습니다. 더욱 중요한 것은, 그는 실제로 이러한 원리를 사용한 최초의 장치인 Mark I Perceptron을 만드는 데 노력했다는 것입니다. \"지능형 오토마타의 설계\"에서 로젠블랫은 이 작업에 대해 다음과 같이 썼습니다. \"우리는 이제 인간의 훈련이나 제어 없이도 주변을 인지, 인식, 식별할 수 있는 기계의 탄생을 목격하게 될 것입니다.\" 퍼셉트론이 만들어졌고, 간단한 모양을 성공적으로 인식할 수 있었습니다.\n",
        "\n",
        "An MIT professor named Marvin Minsky (who was a grade behind Rosenblatt at the same high school!), along with Seymour Papert, wrote a book called _Perceptrons_ (MIT Press), about Rosenblatt's invention. They showed that a single layer of these devices was unable to learn some simple but critical mathematical functions (such as XOR). In the same book, they also showed that using multiple layers of the devices would allow these limitations to be addressed. Unfortunately, only the first of these insights was widely recognized. As a result, the global academic community nearly entirely gave up on neural networks for the next two decades.\n",
        "\n",
        "MIT 교수인 마빈 민스키(같은 고등학교에서 로젠블랫보다 한 학년 아래였습니다!)는 세이무어 페퍼트와 함께 로젠블랫의 발명에 대한 퍼셉트론 (MIT 출판부)이라는 책을 썼습니다. 그들은 이러한 장치의 단일 레이어로는 간단하지만 중요한 수학 함수(예: XOR)를 학습할 수 없다는 것을 보여주었습니다. 같은 책에서 그들은 또한 여러 레이어의 장치를 사용하면 이러한 제한 사항을 해결할 수 있다는 것을 보여주었습니다. 안타깝게도 이러한 통찰력 중 첫 번째만 널리 알려졌습니다. 그 결과, 글로벌 학계는 다음 20년 동안 신경망을 거의 완전히 포기했습니다."
      ]
    },
    {
      "cell_type": "markdown",
      "metadata": {
        "id": "7LsZ804dXxkA"
      },
      "source": [
        "Perhaps the most pivotal work in neural networks in the last 50 years was the multi-volume *Parallel Distributed Processing* (PDP) by David Rumelhart, James McClellan, and the PDP Research Group, released in 1986 by MIT Press. Chapter 1 lays out a similar hope to that shown by Rosenblatt:\n",
        "\n",
        "아마도 지난 50년 동안 신경망 분야에서 가장 중요한 업적은 데이비드 루멜하트, 제임스 맥클렐런, 그리고 PDP 연구 그룹이 MIT 출판사에서 1986년에 출간한 여러 권의 병렬 분산 처리 (PDP)였을 것입니다. 1장에서는 로젠블랫이 보여준 것과 비슷한 희망을 제시합니다.\n",
        "\n",
        "> : People are smarter than today's computers because the brain employs a basic computational architecture that is more suited to deal with a central aspect of the natural information processing tasks that people are so good at. ...We will introduce a computational framework for modeling cognitive processes that seems… closer than other frameworks to the style of computation as it might be done by the brain.\n",
        "\n",
        "> 사람들은 오늘날의 컴퓨터보다 더 똑똑합니다. 왜냐하면 뇌는 사람들이 매우 잘하는 자연스러운 정보 처리 작업의 핵심적인 측면을 다루는 데 더 적합한 기본적인 계산 아키텍처를 사용하기 때문입니다. ...우리는 인지 과정을 모델링하기 위한 계산 프레임워크를 소개할 것입니다. 이 프레임워크는 다른 프레임워크보다 뇌가 수행하는 계산 스타일과 더 가깝습니다.\n",
        "\n",
        "The premise that PDP is using here is that traditional computer programs work very differently to brains, and that might be why computer programs had been (at that point) so bad at doing things that brains find easy (such as recognizing objects in pictures). The authors claimed that the PDP approach was \"closer\n",
        "than other frameworks\" to how the brain works, and therefore it might be better able to handle these kinds of tasks.\n",
        "\n",
        "PDP가 여기서 사용하는 전제는 기존 컴퓨터 프로그램이 뇌와 매우 다르게 작동한다는 것이며, 그것이 컴퓨터 프로그램이 (그 시점에서) 뇌가 쉽게 생각하는 일(예: 그림 속 사물 인식)을 하는 데 매우 나빴던 이유일 수 있습니다. 저자들은 PDP 접근 방식이 뇌가 작동하는 방식에 \"다른 프레임워크보다 더 가깝다\"고 주장했으며, 따라서 이런 종류의 작업을 더 잘 처리할 수 있을 것이라고 말했습니다.\n",
        "\n",
        "In fact, the approach laid out in PDP is very similar to the approach used in today's neural networks. The book defined parallel distributed processing as requiring:\n",
        "\n",
        "사실, PDP에 제시된 접근 방식은 오늘날의 신경망에서 사용되는 접근 방식과 매우 유사합니다. 이 책은 병렬 분산 처리를 다음과 같이 정의합니다.\n",
        "\n",
        "1. A set of *processing units*\n",
        "1. A *state of activation*\n",
        "1. An *output function* for each unit\n",
        "1. A *pattern of connectivity* among units\n",
        "1. A *propagation rule* for propagating patterns of activities through the network of connectivities\n",
        "1. An *activation rule* for combining the inputs impinging on a unit with the current state of that unit to produce an output for the unit\n",
        "1. A *learning rule* whereby patterns of connectivity are modified by experience\n",
        "1. An *environment* within which the system must operate\n",
        "\n",
        "---\n",
        "1. 처리 장치 의 집합\n",
        "1. 활성화 상태\n",
        "1. 각 단위에 대한 출력 기능\n",
        "1. 단위 간 연결 패턴\n",
        "1. 연결 네트워크를 통해 활동 패턴을 전파하기 위한 전파 규칙\n",
        "1. 단위에 영향을 미치는 입력과 해당 단위의 현재 상태를 결합하여 단위에 대한 출력을 생성하는 활성화 규칙\n",
        "1. 경험에 따라 연결 패턴이 수정되는 학습 규칙\n",
        "1. 시스템이 작동해야 하는 환경\n",
        "\n",
        "We will see in this book that modern neural networks handle each of these requirements.\n",
        "\n",
        "이 책에서는 현대 신경망이 이러한 각각의 요구 사항을 처리하는 방법을 살펴보겠습니다.\n",
        "\n",
        "In the 1980's most models were built with a second layer of neurons, thus avoiding the problem that had been identified by Minsky and Papert (this was their \"pattern of connectivity among units,\" to use the framework above). And indeed, neural networks were widely used during the '80s and '90s for real, practical projects. However, again a misunderstanding of the theoretical issues held back the field. In theory, adding just one extra layer of neurons was enough to allow any mathematical function to be approximated with these neural networks, but in practice such networks were often too big and too slow to be useful.\n",
        "\n",
        "1980년대에는 대부분 모델이 두 번째 뉴런 층으로 구축되어 민스키와 파퍼트가 발견한 문제(위의 프레임워크를 사용하면 \"단위 간 연결 패턴\"이었습니다)를 피할 수 있었습니다. 실제로 신경망은 80년대와 90년대에 실제적이고 실용적인 프로젝트에 널리 사용되었습니다. 그러나 다시 이론적 문제에 대한 오해가 이 분야를 억제했습니다. 이론적으로는 뉴런 층을 하나만 더 추가하면 이러한 신경망으로 모든 수학적 함수를 근사할 수 있었지만 실제로 이러한 네트워크는 종종 너무 크고 속도가 느려서 유용하지 않았습니다.\n",
        "\n",
        "Although researchers showed 30 years ago that to get practical good performance you need to use even more layers of neurons, it is only in the last decade that this principle has been more widely appreciated and applied. Neural networks are now finally living up to their potential, thanks to the use of more layers, coupled with the capacity to do so due to improvements in computer hardware, increases in data availability, and algorithmic tweaks that allow neural networks to be trained faster and more easily. We now have what Rosenblatt promised: \"a machine capable of perceiving, recognizing, and identifying its surroundings without any human training or control.\"\n",
        "\n",
        "연구자들은 30년 전에 실용적인 좋은 성능을 얻으려면 더 많은 뉴런 층을 사용해야 한다는 것을 보여주었지만, 이 원리가 더 널리 알려지고 적용된 것은 불과 10년 전의 일입니다. 신경망은 이제 더 많은 층을 사용하고 컴퓨터 하드웨어의 개선, 데이터 가용성 증가, 신경망을 더 빠르고 쉽게 훈련할 수 있는 알고리즘 조정으로 인해 그 잠재력을 마침내 발휘하고 있습니다. 이제 우리는 로젠블랫이 약속했던 \"인간의 훈련이나 제어 없이 주변 환경을 인지, 인식, 식별할 수 있는 기계\"를 갖게 되었습니다.\n",
        "\n",
        "This is what you will learn how to build in this book. But first, since we are going to be spending a lot of time together, let's get to know each other a bit…\n",
        "\n",
        "이 책에서 여러분이 배울 것은 바로 이것입니다. 하지만 먼저, 우리가 함께 많은 시간을 보낼 것이기 때문에, 서로를 조금 알아가도록 합시다…\n"
      ]
    },
    {
      "cell_type": "markdown",
      "metadata": {
        "id": "LvQRyQZpXxkA"
      },
      "source": [
        "## Who We Are"
      ]
    },
    {
      "cell_type": "markdown",
      "metadata": {
        "id": "sEI4A4JrXxkA"
      },
      "source": [
        "We are Sylvain and Jeremy, your guides on this journey. We hope that you will find us well suited for this position.\n",
        "\n",
        "저희는 이 여정에서 여러분의 가이드인 실뱅과 제레미입니다. 저희가 이 직책에 잘 맞기를 바랍니다.\n",
        "\n",
        "Jeremy has been using and teaching machine learning for around 30 years. He started using neural networks 25 years ago. During this time, he has led many companies and projects that have machine learning at their core, including founding the first company to focus on deep learning and medicine, Enlitic, and taking on the role of President and Chief Scientist of the world's largest machine learning community, Kaggle. He is the co-founder, along with Dr. Rachel Thomas, of fast.ai, the organization that built the course this book is based on.\n",
        "\n",
        "제러미는 약 30년 동안 머신 러닝을 사용하고 가르쳐 왔습니다. 그는 25년 전에 신경망을 사용하기 시작했습니다. 이 기간 동안 그는 머신 러닝을 핵심으로 하는 많은 회사와 프로젝트를 이끌었으며, 여기에는 딥 러닝과 의학에 집중한 최초의 회사인 Enlitic을 설립하고 세계 최대의 머신 러닝 커뮤니티인 Kaggle의 사장 겸 수석 과학자 역할을 맡은 것이 포함됩니다. 그는 레이첼 토마스 박사와 함께 이 책의 기반이 되는 과정을 구축한 조직인 fast.ai의 공동 창립자입니다.\n",
        "\n",
        "From time to time you will hear directly from us, in sidebars like this one from Jeremy:\n",
        "\n",
        "때때로 Jeremy의 사이드바와 같은 곳에서 우리로부터 직접 소식을 듣게 될 것입니다."
      ]
    },
    {
      "cell_type": "markdown",
      "metadata": {
        "id": "TDA7Qvp3XxkB"
      },
      "source": [
        "> J: Hi everybody, I'm Jeremy! You might be interested to know that I do not have any formal technical education. I completed a BA, with a major in philosophy, and didn't have great grades. I was much more interested in doing real projects, rather than theoretical studies, so I worked full time at a management consulting firm called McKinsey and Company throughout my university years. If you're somebody who would rather get their hands dirty building stuff than spend years learning abstract concepts, then you will understand where I am coming from! Look out for sidebars from me to find information most suited to people with a less mathematical or formal technical background—that is, people like me…\n",
        "\n",
        "> J: 안녕하세요 여러분, 저는 제러미입니다! 저는 정식 기술 교육을 받지 않았다는 사실을 알고 계실지도 모릅니다. 저는 철학을 전공으로 학사 학위를 받았고, 성적이 좋지 않았습니다. 저는 이론적 연구보다는 실제 프로젝트를 하는 데 훨씬 더 관심이 많았기 때문에 대학 시절 내내 맥킨지 앤 컴퍼니라는 경영 컨설팅 회사에서 정규직으로 일했습니다. 추상적인 개념을 배우는 데 수년을 보내는 것보다 직접 물건을 만드는 일을 더 선호한다면, 제가 무슨 말을 하는지 이해하실 겁니다! 저의 사이드바를 확인하시면 수학적 또는 정식 기술 배경이 덜한 사람들, 즉 저와 같은 사람들에게 가장 적합한 정보를 찾을 수 있습니다..."
      ]
    },
    {
      "cell_type": "markdown",
      "metadata": {
        "id": "LCQdwqU4XxkB"
      },
      "source": [
        "Sylvain, on the other hand, knows a lot about formal technical education. In fact, he has written 10 math textbooks, covering the entire advanced French maths curriculum!\n",
        "\n",
        "반면 실뱅은 공식적인 기술 교육에 대해 많은 것을 알고 있습니다. 사실, 그는 전체 고급 프랑스 수학 커리큘럼을 다루는 10권의 수학 교과서를 썼습니다!"
      ]
    },
    {
      "cell_type": "markdown",
      "metadata": {
        "id": "Tz3WcY1gXxkB"
      },
      "source": [
        "> S: Unlike Jeremy, I have not spent many years coding and applying machine learning algorithms. Rather, I recently came to the machine learning world, by watching Jeremy's fast.ai course videos. So, if you are somebody who has not opened a terminal and written commands at the command line, then you will understand where I am coming from! Look out for sidebars from me to find information most suited to people with a more mathematical or formal technical background, but less real-world coding experience—that is, people like me…\n",
        "\n",
        "> S: 제러미와 달리, 저는 머신 러닝 알고리즘을 코딩하고 적용하는 데 많은 시간을 보내지 않았습니다. 오히려 저는 최근에 제러미의 fast.ai 과정 비디오를 보면서 머신 러닝 세계에 들어왔습니다. 그러니 터미널을 열고 명령줄에서 명령을 작성한 적이 없는 사람이라면, 제가 무슨 말을 하는지 이해하실 겁니다! 저의 사이드바를 살펴보면 수학적 또는 형식적 기술적 배경이 있지만 실제 코딩 경험은 적은 사람들에게 가장 적합한 정보를 찾을 수 있습니다. 즉, 저와 같은 사람들 말입니다..."
      ]
    },
    {
      "cell_type": "markdown",
      "metadata": {
        "id": "Gsb4VEY5XxkB"
      },
      "source": [
        "The fast.ai course has been studied by hundreds of thousands of students, from all walks of life, from all parts of the world. Sylvain stood out as the most impressive student of the course that Jeremy had ever seen, which led to him joining fast.ai, and then becoming the coauthor, along with Jeremy, of the fastai software library.\n",
        "\n",
        "fast.ai 교율 과정은 전 세계의 모든 계층의 수십만 명의 학생들이 수강했습니다. Sylvain은 Jeremy가 본 과정 중 가장 인상적인 학생으로 돋보였고, 이로 인해 fast.ai에 합류하게 되었고, Jeremy와 함께 fastai 소프트웨어 라이브러리의 공동 저자가 되었습니다.\n",
        "\n",
        "All this means that between us you have the best of both worlds: the people who know more about the software than anybody else, because they wrote it; an expert on math, and an expert on coding and machine learning; and also people who understand both what it feels like to be a relative outsider in math, and a relative outsider in coding and machine learning.\n",
        "\n",
        "이 모든 것은 우리가 양쪽 세계의 장점을 모두 누릴 수 있다는 것을 의미합니다. 즉, 소프트웨어를 작성한 사람이기 때문에 다른 누구보다 소프트웨어에 대해 더 잘 아는 사람, 수학 전문가이자 코딩과 머신 러닝 전문가입니다. 또한 수학에서 상대적으로 소외된 사람으로서의 느낌과 코딩과 머신 러닝에서 상대적으로 소외된 사람으로서의 느낌을 모두 이해하는 사람입니다.\n",
        "\n",
        "Anybody who has watched sports knows that if you have a two-person commentary team then you also need a third person to do \"special comments.\" Our special commentator is Alexis Gallagher. Alexis has a very diverse background: he has been a researcher in mathematical biology, a screenplay writer, an improv performer, a McKinsey consultant (like Jeremy!), a Swift coder, and a CTO.\n",
        "\n",
        "스포츠를 본 사람이라면 누구나 알겠지만, 2인 해설팀이 있다면 \"특별 해설\"을 할 세 번째 사람도 필요합니다. 저희 특별 해설자는 알렉시스 갤러거입니다. 알렉시스는 매우 다양한 경력을 가지고 있습니다. 그는 수학 생물학 연구자, 시나리오 작가, 즉흥 연기자, 맥킨지 컨설턴트(제러미처럼!), 스위프트 코더, CTO를 역임했습니다."
      ]
    },
    {
      "cell_type": "markdown",
      "metadata": {
        "id": "mQX1wlS4XxkB"
      },
      "source": [
        "> A: I've decided it's time for me to learn about this AI stuff! After all, I've tried pretty much everything else… But I don't really have a background in building machine learning models. Still… how hard can it be? I'm going to be learning throughout this book, just like you are. Look out for my sidebars for learning tips that I found helpful on my journey, and hopefully you will find helpful too.\n",
        "\n",
        "> A: 저는 AI에 대해 배울 때가 되었다고 결정했습니다! 결국, 저는 다른 모든 것을 시도해 보았지만... 저는 머신 러닝 모델을 구축하는 데 대한 배경 지식이 없습니다. 그래도... 얼마나 어려울까요? 저는 여러분과 마찬가지로 이 책을 읽는 내내 배우게 될 것입니다. 저의 여정에서 도움이 되었던 학습 팁에 대한 사이드바를 살펴보세요. 그리고 여러분도 도움이 되기를 바랍니다.\n"
      ]
    },
    {
      "cell_type": "markdown",
      "metadata": {
        "id": "x7XRbcEKXxkB"
      },
      "source": [
        "## How to Learn Deep Learning"
      ]
    },
    {
      "cell_type": "markdown",
      "metadata": {
        "id": "HuPuf-_IXxkB"
      },
      "source": [
        "Harvard professor David Perkins, who wrote _Making Learning Whole_ (Jossey-Bass), has much to say about teaching. The basic idea is to teach the *whole game*. That means that if you're teaching baseball, you first take people to a baseball game or get them to play it. You don't teach them how to wind twine to make a baseball from scratch, the physics of a parabola, or the coefficient of friction of a ball on a bat.\n",
        "\n",
        "Making Learning Whole (Jossey-Bass)를 쓴 하버드 대학의 데이비드 퍼킨스 교수는 가르치는 것에 대해 많은 이야기를 합니다. 기본적인 아이디어는 전체 게임을 가르치는 것입니다 . 즉, 야구를 가르친다면 먼저 사람들을 야구 경기장으로 데려가거나 야구를 하게 해야 합니다. 야구공을 처음부터 만드는 방법, 포물선의 물리학, 배트에 있는 공의 마찰 계수를 가르치지 않습니다.\n",
        "\n",
        "Paul Lockhart, a Columbia math PhD, former Brown professor, and K-12 math teacher, imagines in the influential [essay](https://www.maa.org/external_archive/devlin/LockhartsLament.pdf) \"A Mathematician's Lament\" a nightmare world where music and art are taught the way math is taught. Children are not allowed to listen to or play music until they have spent over a decade mastering music notation and theory, spending classes transposing sheet music into a different key. In art class, students study colors and applicators, but aren't allowed to actually paint until college. Sound absurd? This is how math is taught–-we require students to spend years doing rote memorization and learning dry, disconnected *fundamentals* that we claim will pay off later, long after most of them quit the subject.\n",
        "\n",
        "컬럼비아 수학 박사, 브라운 대학 전 교수, K-12 수학 교사인 폴 록하트는 영향력 있는 에세이 \"수학자의 탄식\"에서 음악과 미술이 수학을 가르치는 방식으로 가르쳐지는 악몽 같은 세상을 상상합니다. 아이들은 10년 이상 악보와 이론을 익히고, 악보를 다른 키로 전조하는 수업을 듣기 전까지는 음악을 듣거나 연주할 수 없습니다. 미술 수업에서 학생들은 색상과 도포기를 공부하지만, 대학에 가기 전까지는 실제로 그림을 그릴 수 없습니다. 터무니없는 소리로 들리나요? 이것이 수학을 가르치는 방식입니다. 우리는 학생들에게 수년간 암기하고, 대부분이 과목을 그만둔 후에도 오랫동안 나중에 효과가 있을 것이라고 주장하는 건조하고 단절된 기본 사항을 배우도록 요구합니다.\n",
        "\n",
        "Unfortunately, this is where many teaching resources on deep learning begin–-asking learners to follow along with the definition of the Hessian and theorems for the Taylor approximation of your loss functions, without ever giving examples of actual working code. We're not knocking calculus. We love calculus, and Sylvain has even taught it at the college level, but we don't think it's the best place to start when learning deep learning!\n",
        "\n",
        "안타깝게도, 여기서 많은 딥 러닝 교육 자료가 시작됩니다. 학습자에게 헤시안의 정의와 손실 함수의 테일러 근사에 대한 정리를 따라하라고 요구하면서, 실제 작동하는 코드의 예를 제시하지 않습니다. 우리는 미적분을 비난하는 것이 아닙니다. 우리는 미적분을 좋아하고, 실뱅은 대학에서 가르친 적도 있지만, 딥 러닝을 배우기 시작할 때 미적분이 가장 좋은 시작점이라고 생각하지 않습니다!\n",
        "\n",
        "In deep learning, it really helps if you have the motivation to fix your model to get it to do better. That's when you start learning the relevant theory. But you need to have the model in the first place. We teach almost everything through real examples. As we build out those examples, we go deeper and deeper, and we'll show you how to make your projects better and better. This means that you'll be gradually learning all the theoretical foundations you need, in context, in such a way that you'll see why it matters and how it works.\n",
        "\n",
        "딥 러닝에서 모델을 수정하여 더 나은 결과를 낼 수 있는 동기가 있다면 정말 도움이 됩니다. 그때 관련 이론을 배우기 시작합니다. 하지만 우선 모델이 필요합니다. 우리는 실제 사례를 통해 거의 모든 것을 가르칩니다. 그 사례를 구축하면서 점점 더 깊이 파고들고, 프로젝트를 점점 더 개선하는 방법을 보여드리겠습니다. 즉, 필요한 모든 이론적 기초를 맥락에 맞게 점진적으로 배우게 되어 왜 중요한지, 어떻게 작동하는지 알게 됩니다.\n",
        "\n",
        "So, here's our commitment to you. Throughout this book, we will follow these principles:\n",
        "\n",
        "그럼, 여기 여러분에 대한 우리의 헌신이 있습니다. 이 책 전반에 걸쳐 우리는 다음과 같은 원칙을 따를 것입니다.\n",
        "\n",
        "- Teaching the *whole game*. We'll start by showing how to use a complete, working, very usable, state-of-the-art deep learning network to solve real-world problems, using simple, expressive tools. And then we'll gradually dig deeper and deeper into understanding how those tools are made, and how the tools that make those tools are made, and so on…\n",
        "- Always teaching through examples. We'll ensure that there is a context and a purpose that you can understand intuitively, rather than starting with algebraic symbol manipulation.\n",
        "- Simplifying as much as possible. We've spent years building tools and teaching methods that make previously complex topics very simple.\n",
        "- Removing barriers. Deep learning has, until now, been a very exclusive game. We're breaking it open, and ensuring that everyone can play.\n",
        "\n",
        "\n",
        "- 게임 전체를 가르칩니다 . 간단하고 표현력이 뛰어난 도구를 사용하여 실제 문제를 해결하기 위해 완전하고 작동하며 매우 유용한 최첨단 딥 러닝 네트워크를 사용하는 방법을 보여주는 것으로 시작합니다. 그런 다음 점차적으로 이러한 도구가 어떻게 만들어지는지, 이러한 도구를 만드는 도구가 어떻게 만들어지는지 등을 더 깊이 파고들 것입니다.\n",
        "- 항상 예를 ​​통해 가르칩니다. 대수 기호 조작으로 시작하는 대신 직관적으로 이해할 수 있는 맥락과 목적이 있는지 확인합니다.\n",
        "- 가능한 한 단순화합니다. 우리는 수년간 도구와 교육 방법을 구축하여 이전에 복잡했던 주제를 매우 단순하게 만들었습니다.\n",
        "- 장벽 제거. 딥 러닝은 지금까지 매우 독점적인 게임이었습니다. 우리는 그것을 깨고 모든 사람이 플레이할 수 있도록 합니다.\n"
      ]
    },
    {
      "cell_type": "markdown",
      "metadata": {
        "id": "QEHh8DScXxkB"
      },
      "source": [
        "The hardest part of deep learning is artisanal: how do you know if you've got enough data, whether it is in the right format, if your model is training properly, and, if it's not, what you should do about it? That is why we believe in learning by doing. As with basic data science skills, with deep learning you only get better through practical experience. Trying to spend too much time on the theory can be counterproductive. The key is to just code and try to solve problems: the theory can come later, when you have context and motivation.\n",
        "\n",
        "딥 러닝의 가장 어려운 부분은 수공예입니다. 충분한 데이터가 있는지, 올바른 형식인지, 모델이 제대로 학습되고 있는지, 그렇지 않은 경우 어떻게 해야 하는지 어떻게 알 수 있을까요? 그래서 우리는 실천을 통한 학습을 ​​믿습니다. 기본적인 데이터 과학 기술과 마찬가지로 딥 러닝은 실제 경험을 통해서만 더 나아질 수 있습니다. 이론에 너무 많은 시간을 할애하려고 하면 역효과가 날 수 있습니다. 핵심은 그냥 코드를 작성하고 문제를 해결하려고 하는 것입니다. 이론은 나중에 맥락과 동기가 생기면 나올 수 있습니다.\n",
        "\n",
        "There will be times when the journey will feel hard. Times where you feel stuck. Don't give up! Rewind through the book to find the last bit where you definitely weren't stuck, and then read slowly through from there to find the first thing that isn't clear. Then try some code experiments yourself, and Google around for more tutorials on whatever the issue you're stuck with is—often you'll find some different angle on the material might help it to click. Also, it's expected and normal to not understand everything (especially the code) on first reading. Trying to understand the material serially before proceeding can sometimes be hard. Sometimes things click into place after you get more context from parts down the road, from having a bigger picture. So if you do get stuck on a section, try moving on anyway and make a note to come back to it later.\n",
        "\n",
        "여행이 힘들게 느껴질 때가 있을 것입니다. 꼼짝 못하게 갇힌 것 같은 때가 있을 것입니다. 포기하지 마세요! 책을 되감아서 확실히 막히지 않은 마지막 부분을 찾은 다음, 거기에서 천천히 읽어서 명확하지 않은 첫 번째 부분을 찾으세요. 그런 다음 직접 코드 실험을 해보고, 막힌 문제에 대한 더 많은 튜토리얼을 구글에서 찾아보세요. 종종 자료에 대한 다른 각도가 이해에 도움이 될 수 있습니다. 또한, 처음 읽을 때 모든 것을(특히 코드) 이해하지 못하는 것은 예상되고 정상적인 일입니다. 계속하기 전에 자료를 순차적으로 이해하려고 하는 것은 때때로 어려울 수 있습니다. 때로는 더 큰 그림을 가지고 나중에 부분에서 더 많은 맥락을 얻은 후에 사물이 제자리에 들어맞습니다. 따라서 어떤 섹션에서 막혔다면 어쨌든 계속 진행하고 나중에 다시 돌아올 것을 메모하세요.\n",
        "\n",
        "Remember, you don't need any particular academic background to succeed at deep learning. Many important breakthroughs are made in research and industry by folks without a PhD, such as [\"Unsupervised Representation Learning with Deep Convolutional Generative Adversarial Networks\"](https://arxiv.org/abs/1511.06434)—one of the most influential papers of the last decade—with over 5,000 citations, which was written by Alec Radford when he was an undergraduate. Even at Tesla, where they're trying to solve the extremely tough challenge of making a self-driving car, CEO [Elon Musk says](https://twitter.com/elonmusk/status/1224089444963311616):\n",
        "\n",
        "기억하세요. 딥 러닝에서 성공하려면 특별한 학문적 배경이 필요하지 않습니다. 박사 학위가 없는 사람들이 연구와 산업에서 많은 중요한 돌파구를 마련했는데, 그 중 하나가 \"딥 컨볼루션 생성적 적대 신경망을 이용한 비지도 표현 학습\" 입니다. 이 논문 은 지난 10년 동안 가장 영향력 있는 논문 중 하나로, 5,000건 이상의 인용이 있습니다. 이 논문은 알렉 래드포드가 학부생이었을 때 썼습니다. 테슬라에서도 자율주행차 제작이라는 매우 어려운 과제를 해결하려고 노력하고 있는데, CEO 엘론 머스크는 이렇게 말합니다 .\n",
        "\n",
        "> : A PhD is definitely not required. All that matters is a deep understanding of AI & ability to implement NNs in a way that is actually useful (latter point is what’s truly hard). Don’t care if you even graduated high school.\n",
        "\n",
        "> : 박사 학위는 꼭 필요하지 않습니다. 중요한 것은 AI에 대한 깊은 이해와 실제로 유용한 방식으로 NN을 구현하는 능력입니다(후자는 정말 어렵습니다). 고등학교를 졸업했는지는 중요하지 않습니다.\n"
      ]
    },
    {
      "cell_type": "markdown",
      "metadata": {
        "id": "n9HZA7g1XxkB"
      },
      "source": [
        "What you will need to do to succeed however is to apply what you learn in this book to a personal project, and always persevere.\n",
        "\n",
        "\n",
        "하지만 성공하려면 이 책에서 배운 내용을 개인 프로젝트에 적용하고, 꾸준히 노력하는 것이 필요합니다."
      ]
    },
    {
      "cell_type": "markdown",
      "metadata": {
        "id": "CDXAcQrDXxkB"
      },
      "source": [
        "### Your Projects and Your Mindset"
      ]
    },
    {
      "cell_type": "markdown",
      "metadata": {
        "id": "ELQQXomZXxkB"
      },
      "source": [
        "Whether you're excited to identify if plants are diseased from pictures of their leaves, auto-generate knitting patterns, diagnose TB from X-rays, or determine when a raccoon is using your cat door, we will get you using deep learning on your own problems (via pre-trained models from others) as quickly as possible, and then will progressively drill into more details. You'll learn how to use deep learning to solve your own problems at state-of-the-art accuracy within the first 30 minutes of the next chapter! (And feel free to skip straight there now if you're dying to get coding right away.) There is a pernicious myth out there that you need to have computing resources and datasets the size of those at Google to be able to do deep learning, but it's not true.\n",
        "\n",
        "식물의 잎 사진을 보고 질병에 걸렸는지 알아내거나, 뜨개질 패턴을 자동 생성하거나, 엑스레이로 결핵을 진단하거나, 너구리가 고양이 문을 사용하는 시점을 알아내는 데 흥분하든, 우리는 가능한 한 빨리 다른 사람의 사전 훈련된 모델을 통해 자신의 문제에 딥 러닝을 사용하도록 안내한 다음, 점진적으로 더 많은 세부 정보를 파헤칠 것입니다. 다음 장의 처음 30분 안에 최첨단 정확도로 자신의 문제를 해결하기 위해 딥 러닝을 사용하는 방법을 배우게 될 것입니다! (그리고 바로 코딩을 시작하고 싶다면 지금 바로 건너뛸 수 있습니다.) 딥 러닝을 하려면 Google의 규모만큼의 컴퓨팅 리소스와 데이터 세트가 필요하다는 악의적인 신화가 있지만, 사실이 아닙니다.\n",
        "\n",
        "So, what sorts of tasks make for good test cases? You could train your model to distinguish between Picasso and Monet paintings or to pick out pictures of your daughter instead of pictures of your son. It helps to focus on your hobbies and passions–-setting yourself four or five little projects rather than striving to solve a big, grand problem tends to work better when you're getting started. Since it is easy to get stuck, trying to be too ambitious too early can often backfire. Then, once you've got the basics mastered, aim to complete something you're really proud of!\n",
        "\n",
        "그렇다면 어떤 종류의 작업이 좋은 테스트 케이스를 만들까요? 피카소와 모네의 그림을 구별하도록 모델을 훈련시키거나 아들의 사진 대신 딸의 사진을 고르도록 할 수 있습니다. 취미와 열정에 집중하는 것이 도움이 됩니다. 큰 문제를 해결하려고 노력하는 것보다 네 가지나 다섯 가지 작은 프로젝트를 설정하는 것이 시작할 때 더 잘 작동하는 경향이 있습니다. 막히기 쉽기 때문에 너무 일찍 너무 야심 차게 하려고 하면 종종 역효과가 날 수 있습니다. 그런 다음 기본을 마스터한 후에는 정말 자랑스러워하는 것을 완료하는 것을 목표로 하세요!"
      ]
    },
    {
      "cell_type": "markdown",
      "metadata": {
        "id": "3n8eLyy5XxkB"
      },
      "source": [
        "> J: Deep learning can be set to work on almost any problem. For instance, my first startup was a company called FastMail, which provided enhanced email services when it launched in 1999 (and still does to this day). In 2002 I set it up to use a primitive form of deep learning, single-layer neural networks, to help categorize emails and stop customers from receiving spam.\n",
        "\n",
        "> J: 딥 러닝은 거의 모든 문제에 적용될 수 있습니다. 예를 들어, 제 첫 스타트업은 FastMail이라는 회사였는데, 1999년에 출시되었을 때 향상된 이메일 서비스를 제공했습니다(지금도 그렇습니다). 2002년에 저는 이메일을 분류하고 고객이 스팸을 받지 않도록 돕기 위해 원시적인 형태의 딥 러닝인 단일 계층 신경망을 사용하도록 설정했습니다."
      ]
    },
    {
      "cell_type": "markdown",
      "metadata": {
        "id": "Zw_S5w7DXxkB"
      },
      "source": [
        "Common character traits in the people that do well at deep learning include playfulness and curiosity. The late physicist Richard Feynman is an example of someone who we'd expect to be great at deep learning: his development of an understanding of the movement of subatomic particles came from his amusement at how plates wobble when they spin in the air.\n",
        "\n",
        "심층 학습에 잘하는 사람들의 일반적인 성격적 특성에는 장난기와 호기심이 있습니다. 고인이 된 물리학자 리처드 파인만은 심층 학습에 뛰어나리라 기대되는 사람의 한 예입니다. 그는 아원자 입자의 움직임에 대한 이해를 발전시킨 것은 판이 공중에서 회전할 때 흔들리는 것을 보고 즐거워했기 때문입니다.\n"
      ]
    },
    {
      "cell_type": "markdown",
      "metadata": {
        "id": "Z1AVZQiUXxkB"
      },
      "source": [
        "Let's now focus on what you will learn, starting with the software.\n",
        "\n",
        "이제 소프트웨어부터 시작하여 여러분이 무엇을 배울 것인지에 대해 알아보겠습니다."
      ]
    },
    {
      "cell_type": "markdown",
      "metadata": {
        "id": "9e8PHoloXxkB"
      },
      "source": [
        "## The Software: PyTorch, fastai, and Jupyter"
      ]
    },
    {
      "cell_type": "markdown",
      "metadata": {
        "id": "gYzTDMptXxkB"
      },
      "source": [
        "(And Why It Doesn't Matter)"
      ]
    },
    {
      "cell_type": "markdown",
      "metadata": {
        "id": "qDMXRqNcXxkB"
      },
      "source": [
        "We've completed hundreds of machine learning projects using dozens of different packages, and many different programming languages. At fast.ai, we have written courses using most of the main deep learning and machine learning packages used today. After PyTorch came out in 2017 we spent over a thousand hours testing it before deciding that we would use it for future courses, software development, and research. Since that time PyTorch has become the world's fastest-growing deep learning library and is already used for most research papers at top conferences. This is generally a leading indicator of usage in industry, because these are the papers that end up getting used in products and services commercially. We have found that PyTorch is the most flexible and expressive library for deep learning. It does not trade off speed for simplicity, but provides both.\n",
        "\n",
        "저희는 수십 개의 다른 패키지와 많은 다른 프로그래밍 언어를 사용하여 수백 개의 머신 러닝 프로젝트를 완료했습니다. fast.ai에서 저희는 오늘날 사용되는 대부분의 주요 딥 러닝 및 머신 러닝 패키지를 사용하여 코스를 작성했습니다. PyTorch가 2017년에 출시된 후 저희는 미래의 코스, 소프트웨어 개발 및 연구에 사용하기로 결정하기 전에 1,000시간 이상 테스트했습니다. 그 이후로 PyTorch는 세계에서 가장 빠르게 성장하는 딥 러닝 라이브러리가 되었고 이미 최고의 컨퍼런스에서 대부분의 연구 논문에 사용되고 있습니다. 이는 일반적으로 산업에서 사용되는 주요 지표인데, 이러한 논문은 결국 제품과 서비스에 상업적으로 사용되기 때문입니다. 저희는 PyTorch가 딥 러닝을 위한 가장 유연하고 표현력이 뛰어난 라이브러리라는 것을 발견했습니다. 단순성을 위해 속도를 희생하지 않고 둘 다 제공합니다.\n",
        "\n",
        "PyTorch works best as a low-level foundation library, providing the basic operations for higher-level functionality. The fastai library is the most popular library for adding this higher-level functionality on top of PyTorch. It's also particularly well suited to the purposes of this book, because it is unique in providing a deeply layered software architecture (there's even a [peer-reviewed academic paper](https://arxiv.org/abs/2002.04688) about this layered API). In this book, as we go deeper and deeper into the foundations of deep learning, we will also go deeper and deeper into the layers of fastai. This book covers version 2 of the fastai library, which is a from-scratch rewrite providing many unique features.\n",
        "\n",
        "PyTorch는 상위 수준 기능에 대한 기본 작업을 제공하는 저수준 기반 라이브러리로 가장 잘 작동합니다. Fastai 라이브러리는 PyTorch 위에 이 상위 수준 기능을 추가하는 데 가장 인기 있는 라이브러리입니다. 또한 이 책의 목적에 특히 잘 맞는데, 깊이 계층화된 소프트웨어 아키텍처를 제공한다는 점에서 독특하기 때문입니다( 이 계층화된 API에 대한 심사를 거친 학술 논문 도 있습니다 ). 이 책에서 딥 러닝의 기초를 점점 더 깊이 파고들면서 Fastai의 계층도 점점 더 깊이 파고들 것입니다. 이 책에서는 처음부터 다시 작성하여 많은 고유한 기능을 제공하는 Fastai 라이브러리의 버전 2를 다룹니다."
      ]
    },
    {
      "cell_type": "markdown",
      "metadata": {
        "id": "2nZLUJx9XxkB"
      },
      "source": [
        "However, it doesn't really matter what software you learn, because it takes only a few days to learn to switch from one library to another. What really matters is learning the deep learning foundations and techniques properly. Our focus will be on using code that clearly expresses the concepts that you need to learn. Where we are teaching high-level concepts, we will use high-level fastai code. Where we are teaching low-level concepts, we will use low-level PyTorch, or even pure Python code.\n",
        "\n",
        "하지만 어떤 소프트웨어를 배우느냐는 별로 중요하지 않습니다. 한 라이브러리에서 다른 라이브러리로 전환하는 법을 배우는 데는 며칠 밖에 걸리지 않기 때문입니다. 정말 중요한 것은 딥 러닝 기초와 기술을 제대로 배우는 것입니다. 우리는 여러분이 배워야 할 개념을 명확하게 표현하는 코드를 사용하는 데 중점을 둘 것입니다. 고수준 개념을 가르치는 곳에서는 고수준 fastai 코드를 사용합니다. 저수준 개념을 가르치는 곳에서는 저수준 PyTorch나 순수한 Python 코드를 사용합니다.\n",
        "\n",
        "If it feels like new deep learning libraries are appearing at a rapid pace nowadays, then you need to be prepared for a much faster rate of change in the coming months and years. As more people enter the field, they will bring more skills and ideas, and try more things. You should assume that whatever specific libraries and software you learn today will be obsolete in a year or two. Just think about the number of changes in libraries and technology stacks that occur all the time in the world of web programming—a much more mature and slow-growing area than deep learning. We strongly believe that the focus in learning needs to be on understanding the underlying techniques and how to apply them in practice, and how to quickly build expertise in new tools and techniques as they are released.\n",
        "\n",
        "요즘 새로운 딥 러닝 라이브러리가 빠른 속도로 등장하는 것처럼 느껴진다면, 앞으로 몇 달, 몇 년 안에 훨씬 더 빠른 변화 속도에 대비해야 합니다. 더 많은 사람들이 이 분야에 진출함에 따라, 그들은 더 많은 기술과 아이디어를 가져오고, 더 많은 것을 시도할 것입니다. 오늘 배우는 특정 라이브러리와 소프트웨어는 1~2년 안에 쓸모없게 될 것이라고 가정해야 합니다. 웹 프로그래밍 세계에서 라이브러리와 기술 스택에서 항상 일어나는 변화의 수를 생각해보세요. 딥 러닝보다 훨씬 더 성숙하고 느리게 성장하는 분야입니다. 우리는 학습의 초점이 기본 기술을 이해하고 이를 실제로 적용하는 방법과 새로운 도구와 기술이 출시됨에 따라 이에 대한 전문성을 빠르게 구축하는 방법에 맞춰져야 한다고 굳게 믿습니다."
      ]
    },
    {
      "cell_type": "markdown",
      "metadata": {
        "id": "ZChKQQBxXxkC"
      },
      "source": [
        "By the end of the book, you'll understand nearly all the code that's inside fastai (and much of PyTorch too), because in each chapter we'll be digging a level deeper to show you exactly what's going on as we build and train our models. This means that you'll have learned the most important best practices used in modern deep learning—not just how to use them, but how they really work and are implemented. If you want to use those approaches in another framework, you'll have the knowledge you need to do so if needed.\n",
        "\n",
        "이 책을 다 읽을 때쯤이면 fastai(그리고 PyTorch의 많은 부분도)에 있는 거의 모든 코드를 이해하게 될 것입니다. 각 장에서 우리가 모델을 빌드하고 훈련하는 동안 정확히 무슨 일이 일어나고 있는지 보여주기 위해 한 단계 더 깊이 파고들 것이기 ​​때문입니다. 즉, 현대 딥 러닝에서 사용되는 가장 중요한 모범 사례를 배웠다는 뜻입니다. 사용 방법뿐만 아니라 실제로 어떻게 작동하고 구현되는지에 대해서도 배웠습니다. 다른 프레임워크에서 이러한 접근 방식을 사용하려는 경우 필요한 경우 그렇게 하는 데 필요한 지식을 갖추게 됩니다.\n",
        "\n",
        "Since the most important thing for learning deep learning is writing code and experimenting, it's important that you have a great platform for experimenting with code. The most popular programming experimentation platform is called Jupyter. This is what we will be using throughout this book. We will show you how you can use Jupyter to train and experiment with models and introspect every stage of the data pre-processing and model development pipeline. [Jupyter Notebook](https://jupyter.org/) is the most popular tool for doing data science in Python, for good reason. It is powerful, flexible, and easy to use. We think you will love it!\n",
        "\n",
        "딥 러닝을 배우는 데 가장 중요한 것은 코드를 작성하고 실험하는 것이므로, 코드를 실험할 수 있는 훌륭한 플랫폼이 있어야 합니다. 가장 인기 있는 프로그래밍 실험 플랫폼은 Jupyter라고 합니다. 이 책 전체에서 Jupyter를 사용할 것입니다. Jupyter를 사용하여 모델을 훈련하고 실험하고 데이터 전처리 및 모델 개발 파이프라인의 모든 단계를 성찰하는 방법을 보여드리겠습니다. Jupyter Notebook은 Python에서 데이터 과학을 수행하는 데 가장 인기 있는 도구입니다. 강력하고 유연하며 사용하기 쉽습니다. 여러분이 좋아하실 거라고 생각합니다!\n"
      ]
    },
    {
      "cell_type": "markdown",
      "metadata": {
        "id": "tXfNMs-BXxkC"
      },
      "source": [
        "Let's see it in practice and train our first model.\n",
        "\n",
        "실제로 이를 살펴보고 첫 번째 모델을 훈련시켜 보겠습니다."
      ]
    },
    {
      "cell_type": "markdown",
      "metadata": {
        "id": "s7YdteT_XxkC"
      },
      "source": [
        "## Your First Model"
      ]
    },
    {
      "cell_type": "markdown",
      "metadata": {
        "id": "0qf_7URfXxkC"
      },
      "source": [
        "As we said before, we will teach you how to do things before we explain why they work. Following this top-down approach, we will begin by actually training an image classifier to recognize dogs and cats with almost 100% accuracy. To train this model and run our experiments, you will need to do some initial setup. Don't worry, it's not as hard as it looks.\n",
        "\n",
        "앞서 말했듯이, 우리는 왜 작동하는지 설명하기 전에 어떻게 하는지 알려드리겠습니다. 이 탑다운 접근 방식에 따라, 우리는 실제로 이미지 분류기를 훈련하여 거의 100%의 정확도로 개와 고양이를 인식하는 것으로 시작할 것입니다. 이 모델을 훈련하고 실험을 실행하려면 초기 설정을 해야 합니다. 걱정하지 마세요. 보이는 것만큼 어렵지 않습니다.\n"
      ]
    },
    {
      "cell_type": "markdown",
      "metadata": {
        "id": "q9EVf-5JXxkF"
      },
      "source": [
        "> s: Do not skip the setup part even if it looks intimidating at first, especially if you have little or no experience using things like a terminal or the command line. Most of that is actually not necessary and you will find that the easiest servers can be set up with just your usual web browser. It is crucial that you run your own experiments in parallel with this book in order to learn.\n",
        "\n",
        "> s: 처음에는 어려워 보여도 설정 부분은 건너뛰지 마세요. 특히 터미널이나 명령줄과 같은 것을 사용한 경험이 거의 없거나 전혀 없다면 더욱 그렇습니다. 대부분은 실제로 필요하지 않으며 가장 쉬운 서버는 평소에 사용하는 웹 브라우저로 설정할 수 있습니다. 이 책과 병행하여 직접 실험을 해서 배우는 것이 중요합니다."
      ]
    },
    {
      "cell_type": "markdown",
      "metadata": {
        "id": "TWztpc88XxkF"
      },
      "source": [
        "### Getting a GPU Deep Learning Server"
      ]
    },
    {
      "cell_type": "markdown",
      "metadata": {
        "id": "1v0jJeFmXxkF"
      },
      "source": [
        "To do nearly everything in this book, you'll need access to a computer with an NVIDIA GPU (unfortunately other brands of GPU are not fully supported by the main deep learning libraries). However, we don't recommend you buy one; in fact, even if you already have one, we don't suggest you use it just yet! Setting up a computer takes time and energy, and you want all your energy to focus on deep learning right now. Therefore, we instead suggest you rent access to a computer that already has everything you need preinstalled and ready to go. Costs can be as little as US$0.25 per hour while you're using it, and some options are even free.\n",
        "\n",
        "이 책의 거의 모든 것을 하려면 NVIDIA GPU가 있는 컴퓨터에 액세스해야 합니다(불행히도 다른 브랜드의 GPU는 주요 딥 러닝 라이브러리에서 완벽하게 지원되지 않습니다). 그러나 구매하는 것은 권장하지 않습니다. 사실, 이미 가지고 있더라도 지금 당장 사용하지 않는 것이 좋습니다! 컴퓨터를 설정하는 데는 시간과 에너지가 들고, 지금은 모든 에너지를 딥 러닝에 집중하고 싶을 것입니다. 따라서 필요한 모든 것이 미리 설치되어 바로 사용할 수 있는 컴퓨터에 대한 액세스를 임대하는 것이 좋습니다. 사용 중에는 시간당 0.25달러에 불과할 수 있으며, 일부 옵션은 무료이기도 합니다."
      ]
    },
    {
      "cell_type": "markdown",
      "metadata": {
        "id": "CxAwgvRaXxkF"
      },
      "source": [
        "> jargon: Graphics Processing Unit (GPU): Also known as a _graphics card_. A special kind of processor in your computer that can handle thousands of single tasks at the same time, especially designed for displaying 3D environments on a computer for playing games. These same basic tasks are very similar to what neural networks do, such that GPUs can run neural networks hundreds of times faster than regular CPUs. All modern computers contain a GPU, but few contain the right kind of GPU necessary for deep learning.\n",
        "\n",
        "> 전문 용어: 그래픽 처리 장치(GPU): 그래픽 카드 라고도 함 . 컴퓨터의 특수한 종류의 프로세서로, 동시에 수천 개의 단일 작업을 처리할 수 있으며, 특히 게임을 하기 위해 컴퓨터에 3D 환경을 표시하도록 설계되었습니다. 이러한 기본 작업은 신경망이 하는 일과 매우 유사하여 GPU는 일반 CPU보다 수백 배 더 빠르게 신경망을 실행할 수 있습니다. 모든 최신 컴퓨터에는 GPU가 포함되어 있지만, 딥 러닝에 필요한 적절한 종류의 GPU를 포함하는 컴퓨터는 거의 없습니다."
      ]
    },
    {
      "cell_type": "markdown",
      "metadata": {
        "id": "6mExIXqYXxkF"
      },
      "source": [
        "The best choice of GPU servers to use with this book will change over time, as companies come and go and prices change. We maintain a list of our recommended options on the [book's website](https://book.fast.ai/), so go there now and follow the instructions to get connected to a GPU deep learning server. Don't worry, it only takes about two minutes to get set up on most platforms, and many don't even require any payment, or even a credit card, to get started.\n",
        "\n",
        "이 책에서 사용할 GPU 서버의 가장 좋은 선택은 시간이 지남에 따라 바뀔 것입니다. 회사가 생겨나고 사라지고 가격이 변하기 때문입니다. 저희는 책의 웹사이트 에 추천 옵션 목록을 유지 관리하고 있으므로 지금 바로 가서 지침에 따라 GPU 딥 러닝 서버에 연결하세요. 걱정하지 마세요. 대부분 플랫폼에서 설정하는 데 약 2분 밖에 걸리지 않으며, 많은 플랫폼은 시작하기 위해 지불이나 신용 카드조차 필요하지 않습니다.\n",
        "\n",
        "> A: My two cents: heed this advice! If you like computers you will be tempted to set up your own box. Beware! It is feasible but surprisingly involved and distracting. There is a good reason this book is not titled, _Everything You Ever Wanted to Know About Ubuntu System Administration, NVIDIA Driver Installation, apt-get, conda, pip, and Jupyter Notebook Configuration_. That would be a book of its own. Having designed and deployed our production machine learning infrastructure at work, I can testify it has its satisfactions, but it is as unrelated to modeling as maintaining an airplane is to flying one.\n",
        "\n",
        "> A: 제 의견은 이 조언을 따르세요! 컴퓨터를 좋아한다면 직접 컴퓨터를 설치하고 싶을 겁니다. 조심하세요! 가능하지만 놀랍게도 복잡하고 산만합니다. 이 책의 제목이 Ubuntu 시스템 관리, NVIDIA 드라이버 설치, apt-get, conda, pip, Jupyter Notebook 구성에 대해 알고 싶었던 모든 것 이 아니라는 데에는 충분한 이유가 있습니다 . 그 자체로 책이 될 것입니다. 직장에서 프로덕션 머신 러닝 인프라를 설계하고 배포한 저는 그 일이 만족스럽기는 하지만 모델링과는 관련이 없다고 증언할 수 있습니다. 비행기 유지 관리와 비행이 관련이 없는 것처럼요.\n",
        "\n",
        "Each option shown on the website includes a tutorial; after completing the tutorial, you will end up with a screen looking like <<notebook_init>>.\n",
        "\n",
        "웹사이트에 표시된 각 옵션에는 튜토리얼이 포함되어 있습니다. 튜토리얼을 완료하면 < >과 같은 화면이 나타납니다 ."
      ]
    },
    {
      "cell_type": "markdown",
      "metadata": {
        "id": "_3Mu9Y8-XxkF"
      },
      "source": [
        "<img alt=\"Initial view of Jupyter Notebook\" width=\"658\" caption=\"Initial view of Jupyter Notebook\" id=\"notebook_init\" src=\"https://github.com/fastai/fastbook/blob/master/images/att_00057.png?raw=1\">"
      ]
    },
    {
      "cell_type": "markdown",
      "metadata": {
        "id": "6-bwNjUsXxkF"
      },
      "source": [
        "You are now ready to run your first Jupyter notebook!\n",
        "\n",
        "이제 첫 번째 Jupyter 노트북을 실행할 준비가 되었습니다!\n"
      ]
    },
    {
      "cell_type": "markdown",
      "metadata": {
        "id": "GyHRoofyXxkF"
      },
      "source": [
        "> jargon: Jupyter Notebook: A piece of software that allows you to include formatted text, code, images, videos, and much more, all within a single interactive document. Jupyter received the highest honor for software, the ACM Software System Award, thanks to its wide use and enormous impact in many academic fields and in industry. Jupyter Notebook is the software most widely used by data scientists for developing and interacting with deep learning models.\n",
        "\n",
        "> 전문 용어: Jupyter Notebook: 서식이 지정된 텍스트, 코드, 이미지, 비디오 등을 모두 단일 대화형 문서에 포함할 수 있는 소프트웨어입니다. Jupyter는 다양한 학술 분야와 산업에서 널리 사용되고 엄청난 영향을 끼친 덕분에 소프트웨어 부문에서 가장 높은 영예인 ACM 소프트웨어 시스템 상을 수상했습니다. Jupyter Notebook은 데이터 과학자가 딥 러닝 모델을 개발하고 상호 작용하는 데 가장 널리 사용하는 소프트웨어입니다."
      ]
    },
    {
      "cell_type": "markdown",
      "metadata": {
        "id": "CJmX6LCvXxkF"
      },
      "source": [
        "### Running Your First Notebook"
      ]
    },
    {
      "cell_type": "markdown",
      "metadata": {
        "id": "b0fXNoUtXxkF"
      },
      "source": [
        "The notebooks are labeled by chapter and then by notebook number, so that they are in the same order as they are presented in this book. So, the very first notebook you will see listed is the notebook that you need to use now. You will be using this notebook to train a model that can recognize dog and cat photos. To do this, you'll be downloading a _dataset_ of dog and cat photos, and using that to _train a model_. A dataset is simply a bunch of data—it could be images, emails, financial indicators, sounds, or anything else. There are many datasets made freely available that are suitable for training models. Many of these datasets are created by academics to help advance research, many are made available for competitions (there are competitions where data scientists can compete to see who has the most accurate model!), and some are by-products of other processes (such as financial filings).\n",
        "\n",
        "노트북은 장별로 레이블이 붙은 다음 노트북 번호로 레이블이 붙어 있으므로 이 책에 제시된 순서와 같습니다. 따라서 나열된 첫 번째 노트북이 지금 사용해야 하는 노트북입니다. 이 노트북을 사용하여 개와 고양이 사진을 인식할 수 있는 모델을 학습합니다. 이를 위해 개와 고양이 사진 데이터 세트를 다운로드하여 모델을 학습합니다. 데이터 세트는 단순히 데이터의 묶음입니다. 이미지, 이메일, 재무 지표, 소리 또는 그 밖의 무엇이든 될 수 있습니다. 모델 을 학습하는 데 적합한 많은 데이터 세트가 무료로 제공됩니다. 이러한 데이터 세트 중 다수는 학자들이 연구를 발전시키는 데 도움이 되도록 만들었고, 많은 데이터 세트가 대회에 공개되었습니다(데이터 과학자들이 가장 정확한 모델을 가진 사람을 보기 위해 경쟁할 수 있는 대회가 있습니다!). 일부는 다른 프로세스(예: 재무 신고)의 부산물입니다."
      ]
    },
    {
      "cell_type": "markdown",
      "metadata": {
        "id": "eA7lWC6RXxkF"
      },
      "source": [
        "> note: Full and Stripped Notebooks: There are two folders containing different versions of the notebooks. The _full_ folder contains the exact notebooks used to create the book you're reading now, with all the prose and outputs. The _stripped_ version has the same headings and code cells, but all outputs and prose have been removed. After reading a section of the book, we recommend working through the stripped notebooks, with the book closed, and seeing if you can figure out what each cell will show before you execute it. Also try to recall what the code is demonstrating.\n",
        "\n",
        "> 참고: 전체 및 스트립 노트북: 노트북의 다른 버전을 포함하는 두 개의 폴더가 있습니다. 전체 폴더에는 지금 읽고 있는 책을 만드는 데 사용된 정확한 노트북이 모든 산문과 출력과 함께 들어 있습니다. 스트립 버전은 동일한 제목과 코드 셀을 가지고 있지만 모든 출력과 산문은 제거되었습니다. 책의 한 섹션을 읽은 후 책을 닫은 상태에서 스트립 노트북을 살펴보고 실행하기 전에 각 셀이 무엇을 보여줄지 파악해 보는 것이 좋습니다. 또한 코드가 무엇을 보여주는지 기억해 보세요."
      ]
    },
    {
      "cell_type": "markdown",
      "metadata": {
        "id": "Qa3wBPe2XxkF"
      },
      "source": [
        "To open a notebook, just click on it. The notebook will open, and it will look something like <<jupyter>> (note that there may be slight differences in details across different platforms; you can ignore those differences).\n",
        "\n",
        "노트북을 열려면 그냥 클릭하세요. 노트북이 열리고, < >처럼 보일 것입니다 (다른 플랫폼에서 세부 정보에 약간의 차이가 있을 수 있음을 유의하세요. 이러한 차이는 무시해도 됩니다)."
      ]
    },
    {
      "cell_type": "markdown",
      "metadata": {
        "id": "28Ce0-HrXxkF"
      },
      "source": [
        "<img alt=\"An example of notebook\" width=\"700\" caption=\"A Jupyter notebook\" src=\"https://github.com/fastai/fastbook/blob/master/images/0_jupyter.png?raw=1\" id=\"jupyter\"/>"
      ]
    },
    {
      "cell_type": "markdown",
      "metadata": {
        "id": "E2UaRY4lXxkF"
      },
      "source": [
        "A notebook consists of _cells_. There are two main types of cell:\n",
        "\n",
        "노트북은 셀로 구성됩니다 . 셀에는 두 가지 주요 유형이 있습니다.\n",
        "\n",
        "- Cells containing formatted text, images, and so forth. These use a format called *markdown*, which you will learn about soon.\n",
        "- Cells containing code that can be executed, and outputs will appear immediately underneath (which could be plain text, tables, images, animations, sounds, or even interactive applications).\n",
        "\n",
        "- 서식이 지정된 텍스트, 이미지 등을 포함하는 셀. 이들은 마크다운 이라는 형식을 사용하는데 , 곧 배우게 될 것입니다.\n",
        "- 실행할 수 있는 코드가 포함된 셀과 출력은 바로 아래에 나타납니다(일반 텍스트, 표, 이미지, 애니메이션, 사운드, 심지어 대화형 애플리케이션일 수도 있음).\n",
        "\n",
        "Jupyter notebooks can be in one of two modes: edit mode or command mode. In edit mode typing on your keyboard enters the letters into the cell in the usual way. However, in command mode, you will not see any flashing cursor, and the keys on your keyboard will each have a special function.\n",
        "\n",
        "Jupyter 노트북은 편집 모드 또는 명령 모드의 두 가지 모드 중 하나일 수 있습니다. 편집 모드에서 키보드로 입력하면 평소와 같이 셀에 문자가 입력됩니다. 그러나 명령 모드에서는 깜박이는 커서가 보이지 않으며 키보드의 키는 각각 특수 기능이 있습니다.\n",
        "\n",
        "Before continuing, press the Escape key on your keyboard to switch to command mode (if you are already in command mode, this does nothing, so press it now just in case). To see a complete list of all of the functions available, press H; press Escape to remove this help screen. Notice that in command mode, unlike most programs, commands do not require you to hold down Control, Alt, or similar—you simply press the required letter key.\n",
        "\n",
        "계속하기 전에 키보드의 Esc 키를 눌러 명령 모드로 전환합니다(이미 명령 모드에 있는 경우 아무 일도 일어나지 않으므로, 지금 바로 눌러두세요). 사용 가능한 모든 기능의 전체 목록을 보려면 H를 누르세요. Esc 키를 눌러 이 도움말 화면을 제거합니다. 명령 모드에서는 대부분 프로그램과 달리 명령을 실행하려면 Control, Alt 또는 이와 유사한 키를 누르지 않아도 됩니다. 필요한 문자 키를 누르기만 하면 됩니다.\n",
        "\n",
        "You can make a copy of a cell by pressing C (the cell needs to be selected first, indicated with an outline around it; if it is not already selected, click on it once). Then press V to paste a copy of it.\n",
        "\n",
        "C를 눌러 셀 사본을 만들 수 있습니다(먼저 셀을 선택해야 하며, 셀 주변에 윤곽선이 표시되어야 합니다. 아직 선택되지 않았다면 셀을 한 번 클릭합니다). 그런 다음 V를 눌러 사본을 붙여넣습니다.\n"
      ]
    },
    {
      "cell_type": "markdown",
      "metadata": {
        "id": "xlvspJ6AXxkF"
      },
      "source": [
        "Click on the cell that begins with the line \"# CLICK ME\" to select it. The first character in that line indicates that what follows is a comment in Python, so it is ignored when executing the cell. The rest of the cell is, believe it or not, a complete system for creating and training a state-of-the-art model for recognizing cats versus dogs. So, let's train it now! To do so, just press Shift-Enter on your keyboard, or press the Play button on the toolbar. Then wait a few minutes while the following things happen:\n",
        "\n",
        "\"# CLICK ME\" 줄로 시작하는 셀을 클릭하여 선택합니다. 해당 줄의 첫 번째 문자는 이어지는 내용이 Python의 주석이므로 셀을 실행할 때 무시됩니다. 나머지 셀은 믿기 어려울지 몰라도 고양이와 개를 인식하는 최첨단 모델을 만들고 훈련하기 위한 완전한 시스템입니다. 그럼, 지금 훈련해 봅시다! 그렇게 하려면 키보드에서 Shift-Enter를 누르거나 도구 모음에서 재생 버튼을 누르기만 하면 됩니다. 그런 다음 다음 작업이 수행될 때까지 몇 분간 기다리세요.\n",
        "\n",
        "1. A dataset called the [Oxford-IIIT Pet Dataset](http://www.robots.ox.ac.uk/~vgg/data/pets/) that contains 7,349 images of cats and dogs from 37 different breeds will be downloaded from the fast.ai datasets collection to the GPU server you are using, and will then be extracted.\n",
        "2. A *pretrained model* that has already been trained on 1.3 million images, using a competition-winning model will be downloaded from the internet.\n",
        "3. The pretrained model will be *fine-tuned* using the latest advances in transfer learning, to create a model that is specially customized for recognizing dogs and cats.\n",
        "\n",
        "\n",
        "1. 37개 품종의 고양이와 개 이미지 7,349장을 포함하는 Oxford-IIIT Pet Dataset 이라는 데이터 세트가 fast.ai 데이터 세트 컬렉션에서 사용 중인 GPU 서버로 다운로드된 후 추출됩니다.\n",
        "2. 경쟁에서 우승한 모델을 사용하여 이미 130만 개의 이미지로 훈련을 마친 사전 훈련된 모델 이 인터넷에서 다운로드됩니다.\n",
        "3. 사전 학습된 모델은 전이 학습의 최신 기술을 사용하여 미세 조정되어 개와 고양이를 인식하는 데 특별히 맞춤화된 모델이 생성됩니다.\n",
        "\n",
        "The first two steps only need to be run once on your GPU server. If you run the cell again, it will use the dataset and model that have already been downloaded, rather than downloading them again. Let's take a look at the contents of the cell, and the results (<<first_training>>):\n",
        "\n",
        "처음 두 단계는 GPU 서버에서 한 번만 실행하면 됩니다. 셀을 다시 실행하면 이미 다운로드된 데이터 세트와 모델을 사용하게 되며, 다시 다운로드하지 않습니다. 셀의 내용과 결과(< >)를 살펴보겠습니다 .\n"
      ]
    },
    {
      "cell_type": "code",
      "execution_count": 3,
      "metadata": {
        "colab": {
          "base_uri": "https://localhost:8080/",
          "height": 220
        },
        "id": "nVJHUkbCXxkF",
        "outputId": "51362d68-e1a5-479c-9966-3e66583e68d3"
      },
      "outputs": [
        {
          "output_type": "display_data",
          "data": {
            "text/plain": [
              "<IPython.core.display.HTML object>"
            ],
            "text/html": [
              "\n",
              "<style>\n",
              "    /* Turns off some styling */\n",
              "    progress {\n",
              "        /* gets rid of default border in Firefox and Opera. */\n",
              "        border: none;\n",
              "        /* Needs to be in here for Safari polyfill so background images work as expected. */\n",
              "        background-size: auto;\n",
              "    }\n",
              "    progress:not([value]), progress:not([value])::-webkit-progress-bar {\n",
              "        background: repeating-linear-gradient(45deg, #7e7e7e, #7e7e7e 10px, #5c5c5c 10px, #5c5c5c 20px);\n",
              "    }\n",
              "    .progress-bar-interrupted, .progress-bar-interrupted::-webkit-progress-bar {\n",
              "        background: #F44336;\n",
              "    }\n",
              "</style>\n"
            ]
          },
          "metadata": {}
        },
        {
          "output_type": "display_data",
          "data": {
            "text/plain": [
              "<IPython.core.display.HTML object>"
            ],
            "text/html": [
              "\n",
              "    <div>\n",
              "      <progress value='811712512' class='' max='811706944' style='width:300px; height:20px; vertical-align: middle;'></progress>\n",
              "      100.00% [811712512/811706944 00:22&lt;00:00]\n",
              "    </div>\n",
              "    "
            ]
          },
          "metadata": {}
        },
        {
          "output_type": "stream",
          "name": "stderr",
          "text": [
            "Downloading: \"https://download.pytorch.org/models/resnet34-b627a593.pth\" to /root/.cache/torch/hub/checkpoints/resnet34-b627a593.pth\n",
            "100%|██████████| 83.3M/83.3M [00:00<00:00, 151MB/s]\n"
          ]
        },
        {
          "output_type": "display_data",
          "data": {
            "text/plain": [
              "<IPython.core.display.HTML object>"
            ],
            "text/html": [
              "\n",
              "<style>\n",
              "    /* Turns off some styling */\n",
              "    progress {\n",
              "        /* gets rid of default border in Firefox and Opera. */\n",
              "        border: none;\n",
              "        /* Needs to be in here for Safari polyfill so background images work as expected. */\n",
              "        background-size: auto;\n",
              "    }\n",
              "    progress:not([value]), progress:not([value])::-webkit-progress-bar {\n",
              "        background: repeating-linear-gradient(45deg, #7e7e7e, #7e7e7e 10px, #5c5c5c 10px, #5c5c5c 20px);\n",
              "    }\n",
              "    .progress-bar-interrupted, .progress-bar-interrupted::-webkit-progress-bar {\n",
              "        background: #F44336;\n",
              "    }\n",
              "</style>\n"
            ]
          },
          "metadata": {}
        },
        {
          "output_type": "display_data",
          "data": {
            "text/plain": [
              "<IPython.core.display.HTML object>"
            ],
            "text/html": [
              "<table border=\"1\" class=\"dataframe\">\n",
              "  <thead>\n",
              "    <tr style=\"text-align: left;\">\n",
              "      <th>epoch</th>\n",
              "      <th>train_loss</th>\n",
              "      <th>valid_loss</th>\n",
              "      <th>error_rate</th>\n",
              "      <th>time</th>\n",
              "    </tr>\n",
              "  </thead>\n",
              "  <tbody>\n",
              "    <tr>\n",
              "      <td>0</td>\n",
              "      <td>0.184632</td>\n",
              "      <td>0.015547</td>\n",
              "      <td>0.004060</td>\n",
              "      <td>00:49</td>\n",
              "    </tr>\n",
              "  </tbody>\n",
              "</table>"
            ]
          },
          "metadata": {}
        },
        {
          "output_type": "display_data",
          "data": {
            "text/plain": [
              "<IPython.core.display.HTML object>"
            ],
            "text/html": [
              "\n",
              "<style>\n",
              "    /* Turns off some styling */\n",
              "    progress {\n",
              "        /* gets rid of default border in Firefox and Opera. */\n",
              "        border: none;\n",
              "        /* Needs to be in here for Safari polyfill so background images work as expected. */\n",
              "        background-size: auto;\n",
              "    }\n",
              "    progress:not([value]), progress:not([value])::-webkit-progress-bar {\n",
              "        background: repeating-linear-gradient(45deg, #7e7e7e, #7e7e7e 10px, #5c5c5c 10px, #5c5c5c 20px);\n",
              "    }\n",
              "    .progress-bar-interrupted, .progress-bar-interrupted::-webkit-progress-bar {\n",
              "        background: #F44336;\n",
              "    }\n",
              "</style>\n"
            ]
          },
          "metadata": {}
        },
        {
          "output_type": "display_data",
          "data": {
            "text/plain": [
              "<IPython.core.display.HTML object>"
            ],
            "text/html": [
              "<table border=\"1\" class=\"dataframe\">\n",
              "  <thead>\n",
              "    <tr style=\"text-align: left;\">\n",
              "      <th>epoch</th>\n",
              "      <th>train_loss</th>\n",
              "      <th>valid_loss</th>\n",
              "      <th>error_rate</th>\n",
              "      <th>time</th>\n",
              "    </tr>\n",
              "  </thead>\n",
              "  <tbody>\n",
              "    <tr>\n",
              "      <td>0</td>\n",
              "      <td>0.059838</td>\n",
              "      <td>0.018869</td>\n",
              "      <td>0.004736</td>\n",
              "      <td>00:50</td>\n",
              "    </tr>\n",
              "  </tbody>\n",
              "</table>"
            ]
          },
          "metadata": {}
        }
      ],
      "source": [
        "#id first_training\n",
        "#caption Results from the first training\n",
        "# CLICK ME\n",
        "from fastai.vision.all import *\n",
        "path = untar_data(URLs.PETS)/'images'\n",
        "\n",
        "def is_cat(x): return x[0].isupper()\n",
        "dls = ImageDataLoaders.from_name_func(\n",
        "    path, get_image_files(path), valid_pct=0.2, seed=42,\n",
        "    label_func=is_cat, item_tfms=Resize(224))\n",
        "\n",
        "learn = vision_learner(dls, resnet34, metrics=error_rate)\n",
        "learn.fine_tune(1)"
      ]
    },
    {
      "cell_type": "markdown",
      "metadata": {
        "id": "PRhortJ8XxkG"
      },
      "source": [
        "You will probably not see exactly the same results that are in the book. There are a lot of sources of small random variation involved in training models. We generally see an error rate of well less than 0.02 in this example, however.\n",
        "\n",
        "책에 있는 것과 정확히 같은 결과를 보지 못할 수도 있습니다. 모델을 훈련하는 데는 작은 무작위적 변화의 원천이 많이 있습니다. 하지만 이 예에서는 일반적으로 0.02보다 훨씬 낮은 오류율을 볼 수 있습니다."
      ]
    },
    {
      "cell_type": "markdown",
      "metadata": {
        "id": "Ihd2QzPYXxkG"
      },
      "source": [
        "> important: Training Time: Depending on your network speed, it might take a few minutes to download the pretrained model and dataset. Running `fine_tune` might take a minute or so. Often models in this book take a few minutes to train, as will your own models, so it's a good idea to come up with good techniques to make the most of this time. For instance, keep reading the next section while your model trains, or open up another notebook and use it for some coding experiments.\n",
        "\n",
        "> 중요: 학습 시간: 네트워크 속도에 따라 사전 학습된 모델과 데이터 세트를 다운로드하는 데 몇 분이 걸릴 수 있습니다. 실행하는 데는 fine_tune1분 정도 걸릴 수 있습니다. 이 책의 모델은 학습하는 데 몇 분이 걸리며, 사용자 모델도 마찬가지입니다. 따라서 이 시간을 최대한 활용할 수 있는 좋은 기술을 생각해내는 것이 좋습니다. 예를 들어, 모델이 학습하는 동안 다음 섹션을 계속 읽거나 다른 노트북을 열어 코딩 실험에 사용하세요.\n"
      ]
    },
    {
      "cell_type": "markdown",
      "metadata": {
        "id": "Os0z8zEvXxkG"
      },
      "source": [
        "### Sidebar: This Book Was Written in Jupyter Notebooks"
      ]
    },
    {
      "cell_type": "markdown",
      "metadata": {
        "id": "OU4dU0Q_XxkG"
      },
      "source": [
        "We wrote this book using Jupyter notebooks, so for nearly every chart, table, and calculation in this book, we'll be showing you the exact code required to replicate it yourself. That's why very often in this book, you will see some code immediately followed by a table, a picture or just some text. If you go on the [book's website](https://book.fast.ai) you will find all the code, and you can try running and modifying every example yourself.\n",
        "\n",
        "우리는 Jupyter 노트북을 사용하여 이 책을 썼으므로 이 책의 거의 모든 차트, 표, 계산에 대해 직접 복제하는 데 필요한 정확한 코드를 보여드리겠습니다. 그래서 이 책에서 종종 코드 바로 뒤에 표, 그림 또는 텍스트가 나오는 것을 보게 될 것입니다. 책의 웹사이트 에 가면 모든 코드를 찾을 수 있으며 모든 예제를 직접 실행하고 수정해 볼 수 있습니다.\n"
      ]
    },
    {
      "cell_type": "markdown",
      "metadata": {
        "id": "aIkoayZyXxkG"
      },
      "source": [
        "You just saw how a cell that outputs a table looks inside the book. Here is an example of a cell that outputs text:\n",
        "\n",
        "방금 표를 출력하는 셀이 책 안에서 어떻게 보이는지 보셨습니다. 다음은 텍스트를 출력하는 셀의 예입니다."
      ]
    },
    {
      "cell_type": "code",
      "execution_count": 4,
      "metadata": {
        "colab": {
          "base_uri": "https://localhost:8080/"
        },
        "id": "hg9bTmmuXxkG",
        "outputId": "83733233-89cc-45a5-aec5-e5157688ad7e"
      },
      "outputs": [
        {
          "output_type": "execute_result",
          "data": {
            "text/plain": [
              "2"
            ]
          },
          "metadata": {},
          "execution_count": 4
        }
      ],
      "source": [
        "1+1"
      ]
    },
    {
      "cell_type": "markdown",
      "metadata": {
        "id": "s5f1q_a_XxkG"
      },
      "source": [
        "Jupyter will always print or show the result of the last line (if there is one). For instance, here is an example of a cell that outputs an image:\n",
        "\n",
        "Jupyter는 항상 마지막 줄의 결과를 인쇄하거나 표시합니다(있는 경우). 예를 들어, 이미지를 출력하는 셀의 예는 다음과 같습니다:"
      ]
    },
    {
      "cell_type": "code",
      "execution_count": 6,
      "metadata": {
        "colab": {
          "base_uri": "https://localhost:8080/",
          "height": 145
        },
        "id": "ZOkvGuMPXxkG",
        "outputId": "4219df82-47c0-4ae2-baa8-c833af0b6991"
      },
      "outputs": [
        {
          "output_type": "execute_result",
          "data": {
            "text/plain": [
              "<PIL.Image.Image image mode=RGB size=101x128>"
            ],
            "image/png": "[encoded data removed]",
            "image/jpeg": "[encoded data removed]"
          },
          "metadata": {},
          "execution_count": 6
        }
      ],
      "source": [
        "img = PILImage.create(image_cat())\n",
        "img.to_thumb(128)"
      ]
    },
    {
      "cell_type": "markdown",
      "metadata": {
        "id": "2aHUZll6XxkG"
      },
      "source": [
        "### End sidebar"
      ]
    },
    {
      "cell_type": "markdown",
      "metadata": {
        "id": "b2mmlGCzXxkG"
      },
      "source": [
        "So, how do we know if this model is any good? In the last column of the table you can see the error rate, which is the proportion of images that were incorrectly identified. The error rate serves as our metric—our measure of model quality, chosen to be intuitive and comprehensible. As you can see, the model is nearly perfect, even though the training time was only a few seconds (not including the one-time downloading of the dataset and the pretrained model). In fact, the accuracy you've achieved already is far better than anybody had ever achieved just 10 years ago!\n",
        "\n",
        "그렇다면 이 모델이 좋은지 어떻게 알 수 있을까요? 표의 마지막 열에서 오류율을 볼 수 있습니다. 오류율은 잘못 식별된 이미지의 비율입니다. 오류율은 직관적이고 이해하기 쉬운 모델 품질 측정 지표로 사용됩니다. 보시다시피, 훈련 시간이 몇 초에 불과했지만(데이터 세트와 사전 훈련된 모델을 한 번 다운로드하는 시간은 제외) 이 모델은 거의 완벽합니다. 사실, 여러분이 이미 달성한 정확도는 단 10년 전만 해도 그 누구도 달성하지 못했던 것보다 훨씬 뛰어납니다!\n",
        "\n",
        "Finally, let's check that this model actually works. Go and get a photo of a dog, or a cat; if you don't have one handy, just search Google Images and download an image that you find there. Now execute the cell with `uploader` defined. It will output a button you can click, so you can select the image you want to classify:\n",
        "\n",
        "마지막으로, 이 모델이 실제로 작동하는지 확인해 보겠습니다. 가서 개나 고양이 사진을 가져오세요. 손에 있는 사진이 없다면 Google Images에서 검색하여 찾은 이미지를 다운로드하면 됩니다. 이제 uploader정의된 셀을 실행합니다. 클릭할 수 있는 버튼이 출력되므로 분류하려는 이미지를 선택할 수 있습니다."
      ]
    },
    {
      "cell_type": "code",
      "execution_count": 11,
      "metadata": {
        "colab": {
          "base_uri": "https://localhost:8080/",
          "height": 49,
          "referenced_widgets": [
            "c2522c9a861740f59983352b116ace9f",
            "fab632e3d4824e26a42bd77702a52adf",
            "e5e5ee47e53e4a77a385b56de251b39b"
          ]
        },
        "id": "6X0jXTT7XxkG",
        "outputId": "c833f4a0-7c78-4759-c978-ea7be1fa80df"
      },
      "outputs": [
        {
          "output_type": "display_data",
          "data": {
            "text/plain": [
              "FileUpload(value={}, description='Upload')"
            ],
            "application/vnd.jupyter.widget-view+json": {
              "version_major": 2,
              "version_minor": 0,
              "model_id": "c2522c9a861740f59983352b116ace9f"
            }
          },
          "metadata": {}
        }
      ],
      "source": [
        "#hide_output\n",
        "uploader = widgets.FileUpload()\n",
        "uploader"
      ]
    },
    {
      "cell_type": "markdown",
      "metadata": {
        "id": "JT15GLTRXxkG"
      },
      "source": [
        "<img alt=\"An upload button\" width=\"159\" id=\"upload\" src=\"https://github.com/fastai/fastbook/blob/master/images/att_00008.png?raw=1\">"
      ]
    },
    {
      "cell_type": "markdown",
      "metadata": {
        "id": "KdsKSMscXxkG"
      },
      "source": [
        "Now you can pass the uploaded file to the model. Make sure that it is a clear photo of a single dog or a cat, and not a line drawing, cartoon, or similar. The notebook will tell you whether it thinks it is a dog or a cat, and how confident it is. Hopefully, you'll find that your model did a great job:\n",
        "\n",
        "이제 업로드한 파일을 모델에 전달할 수 있습니다. 선화, 만화 또는 이와 유사한 것이 아닌 개나 고양이 한 마리의 선명한 사진인지 확인하세요. 노트북은 그것이 개인지 고양이인지, 그리고 얼마나 자신 있는지 알려줍니다. 바라건대, 모델이 훌륭한 일을 했다는 것을 알게 되실 겁니다."
      ]
    },
    {
      "cell_type": "code",
      "execution_count": null,
      "metadata": {
        "hide_input": false,
        "id": "oIZNMIkoXxkG"
      },
      "outputs": [],
      "source": [
        "#hide\n",
        "# For the book, we can't actually click an upload button, so we fake it\n",
        "uploader = SimpleNamespace(data = ['images/chapter1_cat_example.jpg'])"
      ]
    },
    {
      "cell_type": "code",
      "execution_count": 12,
      "metadata": {
        "colab": {
          "base_uri": "https://localhost:8080/",
          "height": 53
        },
        "id": "LgjjXE7gXxkG",
        "outputId": "a906f4f6-ef8b-4c8e-abea-fc267ad5c09e"
      },
      "outputs": [
        {
          "output_type": "display_data",
          "data": {
            "text/plain": [
              "<IPython.core.display.HTML object>"
            ],
            "text/html": [
              "\n",
              "<style>\n",
              "    /* Turns off some styling */\n",
              "    progress {\n",
              "        /* gets rid of default border in Firefox and Opera. */\n",
              "        border: none;\n",
              "        /* Needs to be in here for Safari polyfill so background images work as expected. */\n",
              "        background-size: auto;\n",
              "    }\n",
              "    progress:not([value]), progress:not([value])::-webkit-progress-bar {\n",
              "        background: repeating-linear-gradient(45deg, #7e7e7e, #7e7e7e 10px, #5c5c5c 10px, #5c5c5c 20px);\n",
              "    }\n",
              "    .progress-bar-interrupted, .progress-bar-interrupted::-webkit-progress-bar {\n",
              "        background: #F44336;\n",
              "    }\n",
              "</style>\n"
            ]
          },
          "metadata": {}
        },
        {
          "output_type": "display_data",
          "data": {
            "text/plain": [
              "<IPython.core.display.HTML object>"
            ],
            "text/html": []
          },
          "metadata": {}
        },
        {
          "output_type": "stream",
          "name": "stdout",
          "text": [
            "Is this a cat?: True.\n",
            "Probability it's a cat: 1.000000\n"
          ]
        }
      ],
      "source": [
        "img = PILImage.create(uploader.data[0])\n",
        "is_cat,_,probs = learn.predict(img)\n",
        "print(f\"Is this a cat?: {is_cat}.\")\n",
        "print(f\"Probability it's a cat: {probs[1].item():.6f}\")"
      ]
    },
    {
      "cell_type": "markdown",
      "metadata": {
        "id": "_Ix8D3bpXxkG"
      },
      "source": [
        "Congratulations on your first classifier!\n",
        "\n",
        "첫 번째 분류기를 만들어 축하드립니다!\n",
        "\n",
        "But what does this mean? What did you actually do? In order to explain this, let's zoom out again to take in the big picture.\n",
        "\n",
        "하지만 이게 무슨 뜻인가요? 당신은 실제로 무엇을 했나요? 이것을 설명하기 위해, 다시 한번 줌아웃해서 큰 그림을 살펴보겠습니다.\n"
      ]
    },
    {
      "cell_type": "markdown",
      "metadata": {
        "id": "vj5h1vITXxkG"
      },
      "source": [
        "### What Is Machine Learning?"
      ]
    },
    {
      "cell_type": "markdown",
      "metadata": {
        "id": "CNHSjzpyXxkG"
      },
      "source": [
        "Your classifier is a deep learning model. As was already mentioned, deep learning models use neural networks, which originally date from the 1950s and have become powerful very recently thanks to recent advancements.\n",
        "\n",
        "귀하의 분류기는 딥 러닝 모델입니다. 이미 언급했듯이, 딥 러닝 모델은 원래 1950년대부터 시작되어 최근 발전 덕분에 매우 강력해진 신경망을 사용합니다.\n",
        "\n",
        "Another key piece of context is that deep learning is just a modern area in the more general discipline of *machine learning*. To understand the essence of what you did when you trained your own classification model, you don't need to understand deep learning. It is enough to see how your model and your training process are examples of the concepts that apply to machine learning in general.\n",
        "\n",
        "또 다른 중요한 맥락은 딥 러닝이 더 일반적인 머신 러닝 분야에서 단지 현대적인 영역이라는 것입니다 . 자신의 분류 모델을 훈련했을 때 한 일의 본질을 이해하려면 딥 러닝을 이해할 필요가 없습니다. 모델과 훈련 프로세스가 일반적으로 머신 러닝에 적용되는 개념의 예인 것을 보는 것으로 충분합니다.\n",
        "\n",
        "So in this section, we will describe what machine learning is. We will look at the key concepts, and show how they can be traced back to the original essay that introduced them.\n",
        "\n",
        "따라서 이 섹션에서는 머신 러닝이 무엇인지 설명하겠습니다. 핵심 개념을 살펴보고, 이를 소개한 원래 에세이로 거슬러 올라갈 수 있는 방법을 보여드리겠습니다.\n",
        "\n",
        "*Machine learning* is, like regular programming, a way to get computers to complete a specific task. But how would we use regular programming to do what we just did in the last section: recognize dogs versus cats in photos? We would have to write down for the computer the exact steps necessary to complete the task.\n",
        "\n",
        "머신 러닝 은 일반 프로그래밍과 마찬가지로 컴퓨터가 특정 작업을 완료하도록 하는 방법입니다. 하지만 일반 프로그래밍을 사용하여 지난 섹션에서 한 일, 즉 사진에서 개와 고양이를 인식하는 일을 어떻게 할 수 있을까요? 작업을 완료하는 데 필요한 정확한 단계를 컴퓨터에 적어야 합니다.\n",
        "\n",
        "Normally, it's easy enough for us to write down the steps to complete a task when we're writing a program. We just think about the steps we'd take if we had to do the task by hand, and then we translate them into code. For instance, we can write a function that sorts a list. In general, we'd write a function that looks something like <<basic_program>> (where *inputs* might be an unsorted list, and *results* a sorted list).\n",
        "\n",
        "일반적으로 프로그램을 작성할 때 작업을 완료하는 단계를 적는 것은 충분히 쉽습니다. 작업을 직접 해야 한다면 어떤 단계를 밟을지 생각한 다음 코드로 변환하면 됩니다. 예를 들어, 목록을 정렬하는 함수를 작성할 수 있습니다. 일반적으로 < >와 비슷한 함수를 작성합니다( 입력은 정렬되지 않은 목록이고 결과는 정렬된 목록일 수 있음)."
      ]
    },
    {
      "cell_type": "code",
      "execution_count": 13,
      "metadata": {
        "hide_input": false,
        "colab": {
          "base_uri": "https://localhost:8080/",
          "height": 99
        },
        "id": "u-HvOqPkXxkG",
        "outputId": "a75d5158-193c-4b6e-c6ec-91b29b6337cb"
      },
      "outputs": [
        {
          "output_type": "execute_result",
          "data": {
            "image/svg+xml": "<?xml version=\"1.0\" encoding=\"UTF-8\" standalone=\"no\"?>\n<!DOCTYPE svg PUBLIC \"-//W3C//DTD SVG 1.1//EN\"\n \"http://www.w3.org/Graphics/SVG/1.1/DTD/svg11.dtd\">\n<!-- Generated by graphviz version 2.43.0 (0)\n -->\n<!-- Title: G Pages: 1 -->\n<svg width=\"285pt\" height=\"58pt\"\n viewBox=\"0.00 0.00 284.59 58.00\" xmlns=\"http://www.w3.org/2000/svg\" xmlns:xlink=\"http://www.w3.org/1999/xlink\">\n<g id=\"graph0\" class=\"graph\" transform=\"scale(1 1) rotate(0) translate(4 54)\">\n<title>G</title>\n<polygon fill=\"white\" stroke=\"transparent\" points=\"-4,4 -4,-54 280.59,-54 280.59,4 -4,4\"/>\n<!-- program -->\n<g id=\"node1\" class=\"node\">\n<title>program</title>\n<polygon fill=\"none\" stroke=\"black\" points=\"172.99,-50 104.99,-50 100.99,-46 100.99,0 168.99,0 172.99,-4 172.99,-50\"/>\n<polyline fill=\"none\" stroke=\"black\" points=\"168.99,-46 100.99,-46 \"/>\n<polyline fill=\"none\" stroke=\"black\" points=\"168.99,-46 168.99,0 \"/>\n<polyline fill=\"none\" stroke=\"black\" points=\"168.99,-46 172.99,-50 \"/>\n<text text-anchor=\"middle\" x=\"136.99\" y=\"-21.3\" font-family=\"Times,serif\" font-size=\"14.00\">program</text>\n</g>\n<!-- results -->\n<g id=\"node3\" class=\"node\">\n<title>results</title>\n<ellipse fill=\"none\" stroke=\"black\" cx=\"242.79\" cy=\"-25\" rx=\"33.6\" ry=\"18\"/>\n<text text-anchor=\"middle\" x=\"242.79\" y=\"-21.3\" font-family=\"Times,serif\" font-size=\"14.00\">results</text>\n</g>\n<!-- program&#45;&gt;results -->\n<g id=\"edge2\" class=\"edge\">\n<title>program&#45;&gt;results</title>\n<path fill=\"none\" stroke=\"black\" d=\"M173.14,-25C181.33,-25 190.15,-25 198.65,-25\"/>\n<polygon fill=\"black\" stroke=\"black\" points=\"198.79,-28.5 208.79,-25 198.79,-21.5 198.79,-28.5\"/>\n</g>\n<!-- inputs -->\n<g id=\"node2\" class=\"node\">\n<title>inputs</title>\n<ellipse fill=\"none\" stroke=\"black\" cx=\"32.5\" cy=\"-25\" rx=\"32.49\" ry=\"18\"/>\n<text text-anchor=\"middle\" x=\"32.5\" y=\"-21.3\" font-family=\"Times,serif\" font-size=\"14.00\">inputs</text>\n</g>\n<!-- inputs&#45;&gt;program -->\n<g id=\"edge1\" class=\"edge\">\n<title>inputs&#45;&gt;program</title>\n<path fill=\"none\" stroke=\"black\" d=\"M65.09,-25C73.11,-25 81.9,-25 90.47,-25\"/>\n<polygon fill=\"black\" stroke=\"black\" points=\"90.76,-28.5 100.76,-25 90.76,-21.5 90.76,-28.5\"/>\n</g>\n</g>\n</svg>\n",
            "text/plain": [
              "<graphviz.sources.Source at 0x7e77d4606dd0>"
            ]
          },
          "metadata": {},
          "execution_count": 13
        }
      ],
      "source": [
        "#hide_input\n",
        "#caption A traditional program\n",
        "#id basic_program\n",
        "#alt Pipeline inputs, program, results\n",
        "gv('''program[shape=box3d width=1 height=0.7]\n",
        "inputs->program->results''')"
      ]
    },
    {
      "cell_type": "markdown",
      "metadata": {
        "id": "NVCQguGTXxkH"
      },
      "source": [
        "But for recognizing objects in a photo that's a bit tricky; what *are* the steps we take when we recognize an object in a picture? We really don't know, since it all happens in our brain without us being consciously aware of it!\n",
        "\n",
        "하지만 사진 속 사물을 인식하는 건 좀 까다롭습니다. 사진 속 사물을 인식할 때 어떤 단계를 거치는 걸까요 ? 우리는 정말 모릅니다. 모든 일이 우리의 뇌에서 일어나고 우리가 의식적으로 알지 못하기 때문입니다!\n",
        "\n",
        "Right back at the dawn of computing, in 1949, an IBM researcher named Arthur Samuel started working on a different way to get computers to complete tasks, which he called *machine learning*. In his classic 1962 essay \"Artificial Intelligence: A Frontier of Automation\", he wrote:\n",
        "\n",
        "컴퓨팅의 새벽인 1949년에 IBM 연구원인 Arthur Samuel은 컴퓨터가 작업을 완료하도록 하는 다른 방법을 연구하기 시작했는데, 이를 머신 러닝 이라고 불렀습니다 . 그는 1962년 고전적인 에세이 \"인공지능: 자동화의 최전선\"에서 다음과 같이 썼습니다."
      ]
    },
    {
      "cell_type": "markdown",
      "metadata": {
        "id": "GpNFAwJFXxkH"
      },
      "source": [
        "> : Programming a computer for such computations is, at best, a difficult task, not primarily because of any inherent complexity in the computer itself but, rather, because of the need to spell out every minute step of the process in the most exasperating detail. Computers, as any programmer will tell you, are giant morons, not giant brains.\n",
        "\n",
        ">  이런 계산을 위해 컴퓨터를 프로그래밍하는 것은 기껏해야 어려운 작업입니다. 컴퓨터 자체의 고유한 복잡성 때문이 아니라, 프로세스의 모든 분 단위를 가장 짜증나는 세부 사항으로 설명해야 하기 때문입니다. 모든 프로그래머가 말하겠지만, 컴퓨터는 거대한 뇌가 아니라 거대한 바보입니다."
      ]
    },
    {
      "cell_type": "markdown",
      "metadata": {
        "id": "WrMU_EV0XxkH"
      },
      "source": [
        "His basic idea was this: instead of telling the computer the exact steps required to solve a problem, show it examples of the problem to solve, and let it figure out how to solve it itself. This turned out to be very effective: by 1961 his checkers-playing program had learned so much that it beat the Connecticut state champion! Here's how he described his idea (from the same essay as above):\n",
        "\n",
        "그의 기본적인 아이디어는 다음과 같았습니다. 컴퓨터에 문제를 해결하는 데 필요한 정확한 단계를 알려주는 대신, 해결해야 할 문제의 예를 보여주고, 컴퓨터가 스스로 문제를 해결하는 방법을 알아내도록 했습니다. 이는 매우 효과적인 것으로 밝혀졌습니다. 1961년까지 그의 체커 프로그램은 너무 많은 것을 배워서 코네티컷 주 챔피언을 이겼습니다! 그가 자신의 아이디어를 설명한 내용은 다음과 같습니다(위의 에세이에서 발췌):"
      ]
    },
    {
      "cell_type": "markdown",
      "metadata": {
        "id": "PKOshHKhXxkH"
      },
      "source": [
        "> : Suppose we arrange for some automatic means of testing the effectiveness of any current weight assignment in terms of actual performance and provide a mechanism for altering the weight assignment so as to maximize the performance. We need not go into the details of such a procedure to see that it could be made entirely automatic and to see that a machine so programmed would \"learn\" from its experience.\n",
        "\n",
        "> : 현재 가중치 할당의 효과를 실제 성능 측면에서 테스트하는 자동 수단을 마련하고 성능을 극대화하기 위해 가중치 할당을 변경하는 메커니즘을 제공한다고 가정해 보겠습니다. 그러한 절차의 세부 사항을 살펴보지 않아도 완전히 자동화할 수 있고 그렇게 프로그래밍된 기계가 경험에서 \"학습\"할 수 있다는 것을 알 수 있습니다."
      ]
    },
    {
      "cell_type": "markdown",
      "metadata": {
        "id": "I0eUTGSGXxkH"
      },
      "source": [
        "There are a number of powerful concepts embedded in this short statement:\n",
        "\n",
        "이 짧은 문장에는 여러 가지 강력한 개념이 내포되어 있습니다.\n",
        "\n",
        "- The idea of a \"weight assignment\"\n",
        "- The fact that every weight assignment has some \"actual performance\"\n",
        "- The requirement that there be an \"automatic means\" of testing that performance,  \n",
        "- The need for a \"mechanism\" (i.e., another automatic process) for improving the performance by changing the weight assignments\n",
        "\n",
        "- \"가중치 할당\"의 아이디어\n",
        "- 모든 가중치 할당에는 어떤 \"실제 성능\"이 있다는 사실\n",
        "- 해당 성능을 테스트하는 \"자동 수단\"이 있어야 한다는 요구 사항,\n",
        "- 가중치 할당을 변경하여 성능을 개선하기 위한 \"메커니즘\"(즉, 또 다른 자동 프로세스)의 필요성\n",
        "\n",
        "Let us take these concepts one by one, in order to understand how they fit together in practice. First, we need to understand what Samuel means by a *weight assignment*.\n",
        "\n",
        "이러한 개념이 실제로 어떻게 함께 적용되는지 이해하기 위해 하나씩 살펴보겠습니다. 먼저 Samuel이 가중치 할당 으로 무엇을 의미하는지 이해해야 합니다 .\n",
        "\n",
        "Weights are just variables, and a weight assignment is a particular choice of values for those variables. The program's inputs are values that it processes in order to produce its results—for instance, taking image pixels as inputs, and returning the classification \"dog\" as a result. The program's weight assignments are other values that define how the program will operate.\n",
        "\n",
        "가중치는 단지 변수일 뿐이며 가중치 할당은 해당 변수에 대한 특정 값 선택입니다. 프로그램의 입력은 결과를 생성하기 위해 처리하는 값입니다. 예를 들어, 이미지 픽셀을 입력으로 받고 분류 \"개\"를 결과로 반환합니다. 프로그램의 가중치 할당은 프로그램이 작동하는 방식을 정의하는 다른 값입니다.\n",
        "\n",
        "Since they will affect the program they are in a sense another kind of input, so we will update our basic picture in <<basic_program>> and replace it with <<weight_assignment>> in order to take this into account.\n",
        "\n",
        "이것들은 프로그램에 영향을 미치므로 어떤 의미로는 또 다른 종류의 입력입니다. 따라서 < >에 있는 기본 그림을 업데이트하고 < >로 대체하여 이를 고려하도록 하겠습니다."
      ]
    },
    {
      "cell_type": "code",
      "execution_count": 14,
      "metadata": {
        "hide_input": true,
        "colab": {
          "base_uri": "https://localhost:8080/",
          "height": 153
        },
        "id": "bRDpX54KXxkH",
        "outputId": "4b03e46f-a91e-4b2d-ba82-a225ef15d974"
      },
      "outputs": [
        {
          "output_type": "execute_result",
          "data": {
            "image/svg+xml": "<?xml version=\"1.0\" encoding=\"UTF-8\" standalone=\"no\"?>\n<!DOCTYPE svg PUBLIC \"-//W3C//DTD SVG 1.1//EN\"\n \"http://www.w3.org/Graphics/SVG/1.1/DTD/svg11.dtd\">\n<!-- Generated by graphviz version 2.43.0 (0)\n -->\n<!-- Title: G Pages: 1 -->\n<svg width=\"296pt\" height=\"98pt\"\n viewBox=\"0.00 0.00 296.29 98.00\" xmlns=\"http://www.w3.org/2000/svg\" xmlns:xlink=\"http://www.w3.org/1999/xlink\">\n<g id=\"graph0\" class=\"graph\" transform=\"scale(1 1) rotate(0) translate(4 94)\">\n<title>G</title>\n<polygon fill=\"white\" stroke=\"transparent\" points=\"-4,4 -4,-94 292.29,-94 292.29,4 -4,4\"/>\n<!-- model -->\n<g id=\"node1\" class=\"node\">\n<title>model</title>\n<polygon fill=\"none\" stroke=\"black\" points=\"184.69,-70 116.69,-70 112.69,-66 112.69,-20 180.69,-20 184.69,-24 184.69,-70\"/>\n<polyline fill=\"none\" stroke=\"black\" points=\"180.69,-66 112.69,-66 \"/>\n<polyline fill=\"none\" stroke=\"black\" points=\"180.69,-66 180.69,-20 \"/>\n<polyline fill=\"none\" stroke=\"black\" points=\"180.69,-66 184.69,-70 \"/>\n<text text-anchor=\"middle\" x=\"148.69\" y=\"-41.3\" font-family=\"Times,serif\" font-size=\"14.00\">model</text>\n</g>\n<!-- results -->\n<g id=\"node3\" class=\"node\">\n<title>results</title>\n<ellipse fill=\"none\" stroke=\"black\" cx=\"254.49\" cy=\"-45\" rx=\"33.6\" ry=\"18\"/>\n<text text-anchor=\"middle\" x=\"254.49\" y=\"-41.3\" font-family=\"Times,serif\" font-size=\"14.00\">results</text>\n</g>\n<!-- model&#45;&gt;results -->\n<g id=\"edge2\" class=\"edge\">\n<title>model&#45;&gt;results</title>\n<path fill=\"none\" stroke=\"black\" d=\"M184.83,-45C193.03,-45 201.85,-45 210.35,-45\"/>\n<polygon fill=\"black\" stroke=\"black\" points=\"210.49,-48.5 220.49,-45 210.49,-41.5 210.49,-48.5\"/>\n</g>\n<!-- inputs -->\n<g id=\"node2\" class=\"node\">\n<title>inputs</title>\n<ellipse fill=\"none\" stroke=\"black\" cx=\"38.35\" cy=\"-72\" rx=\"32.49\" ry=\"18\"/>\n<text text-anchor=\"middle\" x=\"38.35\" y=\"-68.3\" font-family=\"Times,serif\" font-size=\"14.00\">inputs</text>\n</g>\n<!-- inputs&#45;&gt;model -->\n<g id=\"edge1\" class=\"edge\">\n<title>inputs&#45;&gt;model</title>\n<path fill=\"none\" stroke=\"black\" d=\"M68.38,-64.76C78.85,-62.15 90.94,-59.14 102.46,-56.27\"/>\n<polygon fill=\"black\" stroke=\"black\" points=\"103.54,-59.61 112.39,-53.8 101.84,-52.82 103.54,-59.61\"/>\n</g>\n<!-- weights -->\n<g id=\"node4\" class=\"node\">\n<title>weights</title>\n<ellipse fill=\"none\" stroke=\"black\" cx=\"38.35\" cy=\"-18\" rx=\"38.19\" ry=\"18\"/>\n<text text-anchor=\"middle\" x=\"38.35\" y=\"-14.3\" font-family=\"Times,serif\" font-size=\"14.00\">weights</text>\n</g>\n<!-- weights&#45;&gt;model -->\n<g id=\"edge3\" class=\"edge\">\n<title>weights&#45;&gt;model</title>\n<path fill=\"none\" stroke=\"black\" d=\"M72.44,-26.25C81.96,-28.62 92.51,-31.25 102.63,-33.77\"/>\n<polygon fill=\"black\" stroke=\"black\" points=\"101.99,-37.22 112.54,-36.24 103.69,-30.43 101.99,-37.22\"/>\n</g>\n</g>\n</svg>\n",
            "text/plain": [
              "<graphviz.sources.Source at 0x7e77d37731d0>"
            ]
          },
          "metadata": {},
          "execution_count": 14
        }
      ],
      "source": [
        "#hide_input\n",
        "#caption A program using weight assignment\n",
        "#id weight_assignment\n",
        "gv('''model[shape=box3d width=1 height=0.7]\n",
        "inputs->model->results; weights->model''')"
      ]
    },
    {
      "cell_type": "markdown",
      "metadata": {
        "id": "Fi5uMCRdXxkH"
      },
      "source": [
        "We've changed the name of our box from *program* to *model*. This is to follow modern terminology and to reflect that the *model* is a special kind of program: it's one that can do *many different things*, depending on the *weights*. It can be implemented in many different ways. For instance, in Samuel's checkers program, different values of the weights would result in different checkers-playing strategies.\n",
        "\n",
        "우리는 상자의 이름을 program 에서 model 로 변경했습니다 . 이는 현대 용어를 따르고 model 이 특별한 종류의 프로그램이라는 것을 반영하기 위한 것입니다. 즉 , 가중치 에 따라 여러 가지 다른 일을 할 수 있는 프로그램입니다 . 여러 가지 다른 방식으로 구현할 수 있습니다. 예를 들어, Samuel의 체커 프로그램에서 가중치의 다른 값은 체커 플레이 전략이 다르게 됩니다.\n",
        "\n",
        "(By the way, what Samuel called \"weights\" are most generally referred to as model *parameters* these days, in case you have encountered that term. The term *weights* is reserved for a particular type of model parameter.)\n",
        "\n",
        "(그런데, Samuel이 \"가중치\"라고 부른 것은 요즘에는 모델 매개변수 라고 가장 일반적으로 불립니다 . 혹시 이 용어를 본 적이 있다면요. 가중치 라는 용어는 특정 유형의 모델 매개변수에 대해서만 사용됩니다.)\n",
        "\n",
        "Next, Samuel said we need an *automatic means of testing the effectiveness of any current weight assignment in terms of actual performance*. In the case of his checkers program, the \"actual performance\" of a model would be how well it plays. And you could automatically test the performance of two models by setting them to play against each other, and seeing which one usually wins.\n",
        "\n",
        "다음으로, Samuel은 실제 성능 측면에서 현재 가중치 할당의 효과를 테스트하는 자동 수단이 필요하다고 말했습니다 . 그의 체커 프로그램의 경우 모델의 \"실제 성능\"은 얼마나 잘 플레이하는지입니다. 그리고 두 모델을 서로 대결하도록 설정하고 어느 모델이 보통 이기는지 확인하여 두 모델의 성능을 자동으로 테스트할 수 있습니다.\n"
      ]
    },
    {
      "cell_type": "markdown",
      "source": [
        "Finally, he says we need *a mechanism for altering the weight assignment so as to maximize the performance*. For instance, we could look at the difference in weights between the winning model and the losing model, and adjust the weights a little further in the winning direction.\n",
        "\n",
        "마지막으로 그는 성능을 극대화하기 위해 가중치 할당을 변경하는 메커니즘이 필요하다고 말합니다 . 예를 들어, 승리 모델과 패배 모델 간의 가중치 차이를 살펴보고 승리 방향으로 가중치를 조금 더 조정할 수 있습니다.\n",
        "\n",
        "We can now see why he said that such a procedure *could be made entirely automatic and... a machine so programmed would \"learn\" from its experience*. Learning would become entirely automatic when the adjustment of the weights was also automatic—when instead of us improving a model by adjusting its weights manually, we relied on an automated mechanism that produced adjustments based on performance.\n",
        "\n",
        "이제 우리는 그가 왜 그런 절차를 완전히 자동화할 수 있다고 말했는지 알 수 있고... 그렇게 프로그래밍된 기계는 경험으로부터 \"학습\"할 것입니다 . 가중치 조정도 자동화되었을 때 학습은 완전히 자동화될 것입니다. 즉, 우리가 가중치를 수동으로 조정하여 모델을 개선하는 대신, 성과에 따라 조정을 생성하는 자동화된 메커니즘에 의존했을 때 말입니다.\n",
        "\n",
        "<<training_loop>> shows the full picture of Samuel's idea of training a machine learning model.\n",
        "\n",
        "< >는 기계 학습 모델을 훈련하는 Samuel의 아이디어에 대한 전체적인 그림을 보여줍니다."
      ],
      "metadata": {
        "id": "ZylcTtgoPmPl"
      }
    },
    {
      "cell_type": "code",
      "execution_count": 15,
      "metadata": {
        "hide_input": true,
        "colab": {
          "base_uri": "https://localhost:8080/",
          "height": 153
        },
        "id": "_09mQ4jvXxkH",
        "outputId": "bd5fa719-cc15-4c47-e072-5217552cbd82"
      },
      "outputs": [
        {
          "output_type": "execute_result",
          "data": {
            "image/svg+xml": "<?xml version=\"1.0\" encoding=\"UTF-8\" standalone=\"no\"?>\n<!DOCTYPE svg PUBLIC \"-//W3C//DTD SVG 1.1//EN\"\n \"http://www.w3.org/Graphics/SVG/1.1/DTD/svg11.dtd\">\n<!-- Generated by graphviz version 2.43.0 (0)\n -->\n<!-- Title: G Pages: 1 -->\n<svg width=\"483pt\" height=\"98pt\"\n viewBox=\"0.00 0.00 483.08 98.00\" xmlns=\"http://www.w3.org/2000/svg\" xmlns:xlink=\"http://www.w3.org/1999/xlink\">\n<g id=\"graph0\" class=\"graph\" transform=\"scale(1 1) rotate(0) translate(4 94)\">\n<title>G</title>\n<polygon fill=\"white\" stroke=\"transparent\" points=\"-4,4 -4,-94 479.08,-94 479.08,4 -4,4\"/>\n<!-- model -->\n<g id=\"node1\" class=\"node\">\n<title>model</title>\n<polygon fill=\"none\" stroke=\"black\" points=\"185.69,-77 117.69,-77 113.69,-73 113.69,-27 181.69,-27 185.69,-31 185.69,-77\"/>\n<polyline fill=\"none\" stroke=\"black\" points=\"181.69,-73 113.69,-73 \"/>\n<polyline fill=\"none\" stroke=\"black\" points=\"181.69,-73 181.69,-27 \"/>\n<polyline fill=\"none\" stroke=\"black\" points=\"181.69,-73 185.69,-77 \"/>\n<text text-anchor=\"middle\" x=\"149.69\" y=\"-48.3\" font-family=\"Times,serif\" font-size=\"14.00\">model</text>\n</g>\n<!-- results -->\n<g id=\"node3\" class=\"node\">\n<title>results</title>\n<ellipse fill=\"none\" stroke=\"black\" cx=\"292.49\" cy=\"-52\" rx=\"33.6\" ry=\"18\"/>\n<text text-anchor=\"middle\" x=\"292.49\" y=\"-48.3\" font-family=\"Times,serif\" font-size=\"14.00\">results</text>\n</g>\n<!-- model&#45;&gt;results -->\n<g id=\"edge2\" class=\"edge\">\n<title>model&#45;&gt;results</title>\n<path fill=\"none\" stroke=\"black\" d=\"M185.86,-52C204.73,-52 228.14,-52 248.13,-52\"/>\n<polygon fill=\"black\" stroke=\"black\" points=\"248.22,-55.5 258.22,-52 248.22,-48.5 248.22,-55.5\"/>\n</g>\n<!-- inputs -->\n<g id=\"node2\" class=\"node\">\n<title>inputs</title>\n<ellipse fill=\"none\" stroke=\"black\" cx=\"38.35\" cy=\"-72\" rx=\"32.49\" ry=\"18\"/>\n<text text-anchor=\"middle\" x=\"38.35\" y=\"-68.3\" font-family=\"Times,serif\" font-size=\"14.00\">inputs</text>\n</g>\n<!-- inputs&#45;&gt;model -->\n<g id=\"edge1\" class=\"edge\">\n<title>inputs&#45;&gt;model</title>\n<path fill=\"none\" stroke=\"black\" d=\"M69.52,-66.48C80.08,-64.55 92.18,-62.34 103.68,-60.23\"/>\n<polygon fill=\"black\" stroke=\"black\" points=\"104.39,-63.66 113.59,-58.42 103.13,-56.78 104.39,-63.66\"/>\n</g>\n<!-- performance -->\n<g id=\"node5\" class=\"node\">\n<title>performance</title>\n<ellipse fill=\"none\" stroke=\"black\" cx=\"419.18\" cy=\"-52\" rx=\"55.79\" ry=\"18\"/>\n<text text-anchor=\"middle\" x=\"419.18\" y=\"-48.3\" font-family=\"Times,serif\" font-size=\"14.00\">performance</text>\n</g>\n<!-- results&#45;&gt;performance -->\n<g id=\"edge4\" class=\"edge\">\n<title>results&#45;&gt;performance</title>\n<path fill=\"none\" stroke=\"black\" d=\"M326.58,-52C334.84,-52 344,-52 353.23,-52\"/>\n<polygon fill=\"black\" stroke=\"black\" points=\"353.23,-55.5 363.23,-52 353.23,-48.5 353.23,-55.5\"/>\n</g>\n<!-- weights -->\n<g id=\"node4\" class=\"node\">\n<title>weights</title>\n<ellipse fill=\"none\" stroke=\"black\" cx=\"38.35\" cy=\"-18\" rx=\"38.19\" ry=\"18\"/>\n<text text-anchor=\"middle\" x=\"38.35\" y=\"-14.3\" font-family=\"Times,serif\" font-size=\"14.00\">weights</text>\n</g>\n<!-- weights&#45;&gt;model -->\n<g id=\"edge3\" class=\"edge\">\n<title>weights&#45;&gt;model</title>\n<path fill=\"none\" stroke=\"black\" d=\"M70.68,-27.74C81.03,-30.96 92.75,-34.61 103.9,-38.07\"/>\n<polygon fill=\"black\" stroke=\"black\" points=\"102.92,-41.43 113.51,-41.06 105,-34.75 102.92,-41.43\"/>\n</g>\n<!-- performance&#45;&gt;weights -->\n<g id=\"edge5\" class=\"edge\">\n<title>performance&#45;&gt;weights</title>\n<path fill=\"none\" stroke=\"black\" d=\"M380.65,-38.79C364.18,-33.57 344.49,-28.08 326.29,-25 242.8,-10.86 143.72,-12.41 86.54,-15.05\"/>\n<polygon fill=\"black\" stroke=\"black\" points=\"86.17,-11.56 76.36,-15.55 86.52,-18.55 86.17,-11.56\"/>\n<text text-anchor=\"middle\" x=\"222.19\" y=\"-19.8\" font-family=\"Times,serif\" font-size=\"14.00\">update</text>\n</g>\n</g>\n</svg>\n",
            "text/plain": [
              "<graphviz.sources.Source at 0x7e77d371e950>"
            ]
          },
          "metadata": {},
          "execution_count": 15
        }
      ],
      "source": [
        "#hide_input\n",
        "#caption Training a machine learning model\n",
        "#id training_loop\n",
        "#alt The basic training loop\n",
        "gv('''ordering=in\n",
        "model[shape=box3d width=1 height=0.7]\n",
        "inputs->model->results; weights->model; results->performance\n",
        "performance->weights[constraint=false label=update]''')"
      ]
    },
    {
      "cell_type": "markdown",
      "metadata": {
        "id": "2K_myHe0XxkH"
      },
      "source": [
        "Notice the distinction between the model's *results*  (e.g., the moves in a checkers game) and its *performance* (e.g., whether it wins the game, or how quickly it wins).\n",
        "\n",
        "모델의 결과 (예: 체커 게임에서의 움직임)와 성능 (예: 게임에서 이길 수 있는지, 얼마나 빨리 이길 수 있는지) 간의 차이점에 주목하세요.\n",
        "\n",
        "Also note that once the model is trained—that is, once we've chosen our final, best, favorite weight assignment—then we can think of the weights as being *part of the model*, since we're not varying them any more.\n",
        "\n",
        "또한 모델이 훈련되면, 즉 최종적으로 가장 좋고 마음에 드는 가중치 할당을 선택하면 가중치를 모델의 일부로 생각할 수 있습니다 . 더 이상 가중치를 변경하지 않기 때문입니다.\n",
        "\n",
        "Therefore, actually *using* a model after it's trained looks like <<using_model>>.\n",
        "\n",
        "따라서 실제로 학습된 모델을 사용하면 < >와 같습니다."
      ]
    },
    {
      "cell_type": "code",
      "execution_count": 16,
      "metadata": {
        "hide_input": true,
        "colab": {
          "base_uri": "https://localhost:8080/",
          "height": 99
        },
        "id": "wuPMkqZYXxkH",
        "outputId": "d40583d6-d193-4058-c80c-234a9b3eaffa"
      },
      "outputs": [
        {
          "output_type": "execute_result",
          "data": {
            "image/svg+xml": "<?xml version=\"1.0\" encoding=\"UTF-8\" standalone=\"no\"?>\n<!DOCTYPE svg PUBLIC \"-//W3C//DTD SVG 1.1//EN\"\n \"http://www.w3.org/Graphics/SVG/1.1/DTD/svg11.dtd\">\n<!-- Generated by graphviz version 2.43.0 (0)\n -->\n<!-- Title: G Pages: 1 -->\n<svg width=\"285pt\" height=\"58pt\"\n viewBox=\"0.00 0.00 284.59 58.00\" xmlns=\"http://www.w3.org/2000/svg\" xmlns:xlink=\"http://www.w3.org/1999/xlink\">\n<g id=\"graph0\" class=\"graph\" transform=\"scale(1 1) rotate(0) translate(4 54)\">\n<title>G</title>\n<polygon fill=\"white\" stroke=\"transparent\" points=\"-4,4 -4,-54 280.59,-54 280.59,4 -4,4\"/>\n<!-- model -->\n<g id=\"node1\" class=\"node\">\n<title>model</title>\n<polygon fill=\"none\" stroke=\"black\" points=\"172.99,-50 104.99,-50 100.99,-46 100.99,0 168.99,0 172.99,-4 172.99,-50\"/>\n<polyline fill=\"none\" stroke=\"black\" points=\"168.99,-46 100.99,-46 \"/>\n<polyline fill=\"none\" stroke=\"black\" points=\"168.99,-46 168.99,0 \"/>\n<polyline fill=\"none\" stroke=\"black\" points=\"168.99,-46 172.99,-50 \"/>\n<text text-anchor=\"middle\" x=\"136.99\" y=\"-21.3\" font-family=\"Times,serif\" font-size=\"14.00\">model</text>\n</g>\n<!-- results -->\n<g id=\"node3\" class=\"node\">\n<title>results</title>\n<ellipse fill=\"none\" stroke=\"black\" cx=\"242.79\" cy=\"-25\" rx=\"33.6\" ry=\"18\"/>\n<text text-anchor=\"middle\" x=\"242.79\" y=\"-21.3\" font-family=\"Times,serif\" font-size=\"14.00\">results</text>\n</g>\n<!-- model&#45;&gt;results -->\n<g id=\"edge2\" class=\"edge\">\n<title>model&#45;&gt;results</title>\n<path fill=\"none\" stroke=\"black\" d=\"M173.14,-25C181.33,-25 190.15,-25 198.65,-25\"/>\n<polygon fill=\"black\" stroke=\"black\" points=\"198.79,-28.5 208.79,-25 198.79,-21.5 198.79,-28.5\"/>\n</g>\n<!-- inputs -->\n<g id=\"node2\" class=\"node\">\n<title>inputs</title>\n<ellipse fill=\"none\" stroke=\"black\" cx=\"32.5\" cy=\"-25\" rx=\"32.49\" ry=\"18\"/>\n<text text-anchor=\"middle\" x=\"32.5\" y=\"-21.3\" font-family=\"Times,serif\" font-size=\"14.00\">inputs</text>\n</g>\n<!-- inputs&#45;&gt;model -->\n<g id=\"edge1\" class=\"edge\">\n<title>inputs&#45;&gt;model</title>\n<path fill=\"none\" stroke=\"black\" d=\"M65.09,-25C73.11,-25 81.9,-25 90.47,-25\"/>\n<polygon fill=\"black\" stroke=\"black\" points=\"90.76,-28.5 100.76,-25 90.76,-21.5 90.76,-28.5\"/>\n</g>\n</g>\n</svg>\n",
            "text/plain": [
              "<graphviz.sources.Source at 0x7e77d3772810>"
            ]
          },
          "metadata": {},
          "execution_count": 16
        }
      ],
      "source": [
        "#hide_input\n",
        "#caption Using a trained model as a program\n",
        "#id using_model\n",
        "gv('''model[shape=box3d width=1 height=0.7]\n",
        "inputs->model->results''')"
      ]
    },
    {
      "cell_type": "markdown",
      "metadata": {
        "id": "8O-erKE7XxkH"
      },
      "source": [
        "This looks identical to our original diagram in <<basic_program>>, just with the word *program* replaced with *model*. This is an important insight: *a trained model can be treated just like a regular computer program*.\n",
        "\n",
        "이것은 < >의 원래 다이어그램과 똑같아 보이지만 , 단지 program 이라는 단어가 model 로 바뀌었습니다 . 이것은 중요한 통찰력입니다. 훈련된 모델은 일반 컴퓨터 프로그램처럼 취급될 수 있습니다 ."
      ]
    },
    {
      "cell_type": "markdown",
      "metadata": {
        "id": "TWHaGf29XxkH"
      },
      "source": [
        "> jargon: Machine Learning: The training of programs developed by allowing a computer to learn from its experience, rather than through manually coding the individual steps.\n",
        "\n",
        "> 전문 용어: 머신 러닝: 개별 단계를 수동으로 코딩하는 것이 아니라 컴퓨터가 경험을 통해 학습하도록 개발된 프로그램의 훈련입니다."
      ]
    },
    {
      "cell_type": "markdown",
      "metadata": {
        "id": "btoBll2IXxkH"
      },
      "source": [
        "### What Is a Neural Network?"
      ]
    },
    {
      "cell_type": "markdown",
      "metadata": {
        "id": "TvUjWnSPXxkH"
      },
      "source": [
        "It's not too hard to imagine what the model might look like for a checkers program. There might be a range of checkers strategies encoded, and some kind of search mechanism, and then the weights could vary how strategies are selected, what parts of the board are focused on during a search, and so forth. But it's not at all obvious what the model might look like for an image recognition program, or for understanding text, or for many other interesting problems we might imagine.\n",
        "\n",
        "체커 프로그램의 모델이 어떻게 생겼을지 상상하는 것은 그렇게 어렵지 않습니다. 다양한 체커 전략이 인코딩되어 있고, 어떤 종류의 검색 메커니즘이 있을 수 있으며, 그런 다음 가중치는 전략이 선택되는 방식, 검색 중에 보드의 어떤 부분에 초점을 맞추는지 등에 따라 달라질 수 있습니다. 하지만 이미지 인식 프로그램이나 텍스트 이해 또는 우리가 상상할 수 있는 다른 많은 흥미로운 문제의 경우 모델이 어떻게 생겼을지는 전혀 명확하지 않습니다.\n",
        "\n",
        "What we would like is some kind of function that is so flexible that it could be used to solve any given problem, just by varying its weights. Amazingly enough, this function actually exists! It's the neural network, which we already discussed. That is, if you regard a neural network as a mathematical function, it turns out to be a function which is extremely flexible depending on its weights. A mathematical proof called the *universal approximation theorem* shows that this function can solve any problem to any level of accuracy, in theory. The fact that neural networks are so flexible means that, in practice, they are often a suitable kind of model, and you can focus your effort on the process of training them—that is, of finding good weight assignments.\n",
        "\n",
        "우리가 원하는 것은 주어진 문제를 해결하는 데 사용할 수 있을 만큼 유연한 함수입니다. 그저 가중치만 변경하면 됩니다. 놀랍게도, 이 함수가 실제로 존재합니다! 바로 우리가 이미 논의한 신경망입니다. 즉, 신경망을 수학적 함수로 간주하면 가중치에 따라 매우 유연한 함수가 됩니다. 범용 근사 정리 라는 수학적 증명은 이 함수가 이론적으로 모든 문제를 어떤 수준의 정확도로든 해결할 수 있음을 보여줍니다. 신경망이 매우 유연하다는 사실은 실제로 종종 적합한 종류의 모델이라는 것을 의미하며, 노력을 신경망을 훈련하는 과정, 즉 좋은 가중치 할당을 찾는 과정에 집중할 수 있습니다.\n",
        "\n",
        "But what about that process?  One could imagine that you might need to find a new \"mechanism\" for automatically updating weights for every problem. This would be laborious. What we'd like here as well is a completely general way to update the weights of a neural network, to make it improve at any given task. Conveniently, this also exists!\n",
        "\n",
        "하지만 그 과정은 어떨까요? 모든 문제에 대한 가중치를 자동으로 업데이트하는 새로운 \"메커니즘\"을 찾아야 할 수도 있다고 상상할 수 있습니다. 이는 힘들 것입니다. 여기서도 우리가 원하는 것은 신경망의 가중치를 업데이트하여 주어진 작업에서 개선할 수 있는 완전히 일반적인 방법입니다. 편리하게도 이것도 존재합니다!\n",
        "\n",
        "This is called *stochastic gradient descent* (SGD). We'll see how neural networks and SGD work in detail in <<chapter_mnist_basics>>, as well as explaining the universal approximation theorem. For now, however, we will instead use Samuel's own words: *We need not go into the details of such a procedure to see that it could be made entirely automatic and to see that a machine so programmed would \"learn\" from its experience.*\n",
        "\n",
        "이것을 확률적 경사 하강법 (SGD) 이라고 합니다 . 신경망과 SGD가 어떻게 작동하는지 < >에서 자세히 살펴보고, 보편적 근사 정리를 설명하겠습니다. 그러나 지금은 대신 Samuel의 말을 사용하겠습니다. 그러한 절차의 세부 사항을 자세히 설명하지 않아도 완전히 자동화할 수 있고, 그렇게 프로그래밍된 기계가 경험을 통해 \"학습\"할 수 있다는 것을 알 수 있습니다."
      ]
    },
    {
      "cell_type": "markdown",
      "metadata": {
        "id": "cbGOkwjCXxkH"
      },
      "source": [
        "> J: Don't worry, neither SGD nor neural nets are mathematically complex. Both nearly entirely rely on addition and multiplication to do their work (but they do a _lot_ of addition and multiplication!). The main reaction we hear from students when they see the details is: \"Is that all it is?\"\n",
        "\n",
        "> J: 걱정하지 마세요. SGD도 신경망도 수학적으로 복잡하지 않습니다. 둘 다 거의 전적으로 덧셈과 곱셈에 의존하여 작업을 수행합니다(하지만 덧셈과 곱셈을 많이 합니다 !). 학생들이 세부 사항을 볼 때 듣는 주된 반응은 \"그게 전부인가요?\"입니다."
      ]
    },
    {
      "cell_type": "markdown",
      "metadata": {
        "id": "dch1T9dkXxkH"
      },
      "source": [
        "In other words, to recap, a neural network is a particular kind of machine learning model, which fits right in to Samuel's original conception. Neural networks are special because they are highly flexible, which means they can solve an unusually wide range of problems just by finding the right weights. This is powerful, because stochastic gradient descent provides us a way to find those weight values automatically.\n",
        "\n",
        "다시 말해, 요약하자면 신경망은 특정 종류의 머신 러닝 모델로, Samuel의 원래 개념에 딱 들어맞습니다. 신경망은 매우 유연하기 때문에 특별합니다. 즉, 적절한 가중치를 찾는 것만으로 비정상적으로 광범위한 문제를 해결할 수 있습니다. 확률적 경사 하강법이 자동으로 가중치 값을 찾는 방법을 제공하기 때문에 강력합니다.\n",
        "\n",
        "Having zoomed out, let's now zoom back in and revisit our image classification problem using Samuel's framework.\n",
        "\n",
        "축소했던 내용을 다시 확대해서 Samuel의 프레임워크를 사용하여 이미지 분류 문제를 다시 살펴보겠습니다.\n",
        "\n",
        "Our inputs are the images. Our weights are the weights in the neural net. Our model is a neural net. Our results are the values that are calculated by the neural net, like \"dog\" or \"cat.\"\n",
        "\n",
        "우리의 입력은 이미지입니다. 우리의 가중치는 신경망의 가중치입니다. 우리의 모델은 신경망입니다. 우리의 결과는 \"개\"나 \"고양이\"와 같이 신경망에 의해 계산된 값입니다.\n",
        "\n",
        "What about the next piece, an *automatic means of testing the effectiveness of any current weight assignment in terms of actual performance*? Determining \"actual performance\" is easy enough: we can simply define our model's performance as its accuracy at predicting the correct answers.\n",
        "\n",
        "다음 부분은 실제 성과 측면에서 현재 가중치 할당의 효과를 테스트하는 자동 수단은 어떨까요 ? \"실제 성과\"를 결정하는 것은 충분히 쉽습니다. 우리는 모델의 성과를 정답을 예측하는 정확도로 정의할 수 있습니다.\n",
        "\n",
        "Putting this all together, and assuming that SGD is our mechanism for updating the weight assignments, we can see how our image classifier is a machine learning model, much like Samuel envisioned.\n",
        "\n",
        "이 모든 것을 종합하고 SGD가 가중치 할당을 업데이트하는 메커니즘이라고 가정하면, 우리의 이미지 분류기가 Samuel이 상상했던 것과 매우 유사한 머신 러닝 모델임을 알 수 있습니다."
      ]
    },
    {
      "cell_type": "markdown",
      "metadata": {
        "id": "TrIlBboyXxkH"
      },
      "source": [
        "### A Bit of Deep Learning Jargon"
      ]
    },
    {
      "cell_type": "markdown",
      "metadata": {
        "id": "gJbZoGGHXxkH"
      },
      "source": [
        "Samuel was working in the 1960s, and since then terminology has changed. Here is the modern deep learning terminology for all the pieces we have discussed:\n",
        "\n",
        "Samuel은 1960년대에 일했고, 그 이후로 용어가 바뀌었습니다. 우리가 논의한 모든 부분에 대한 현대적 딥 러닝 용어는 다음과 같습니다.\n",
        "\n",
        "- The functional form of the *model* is called its *architecture* (but be careful—sometimes people use *model* as a synonym of *architecture*, so this can get confusing).\n",
        "- The *weights* are called *parameters*.\n",
        "- The *predictions* are calculated from the *independent variable*, which is the *data* not including the *labels*.\n",
        "- The *results* of the model are called *predictions*.\n",
        "- The measure of *performance* is called the *loss*.\n",
        "- The loss depends not only on the predictions, but also the correct *labels* (also known as *targets* or the *dependent variable*); e.g., \"dog\" or \"cat.\"\n",
        "\n",
        "- 모델 의 기능적 형태를 아키텍처 라고 합니다 . (하지만 조심하세요. 가끔 사람들이 모델을 아키텍처 의 동의어로 사용하기 때문에 혼동스러울 수 있습니다.)\n",
        "- 가중치 를 매개변수 라고 합니다 .\n",
        "- 예측 은 레이블을 포함하지 않는 데이터 인 독립 변수 로부터 계산됩니다 .\n",
        "- 모델의 결과 를 예측 이라고 합니다 .\n",
        "- 성과 측정은 손실 이라고 합니다 .\n",
        "- 손실은 예측에 따라 달라질 뿐만 아니라 올바른 레이블 ( 대상 또는 종속 변수 라고도 함 )에 따라서도 달라집니다. 예를 들어, \"개\"나 \"고양이\"와 같은 레이블입니다.\n",
        "\n",
        "After making these changes, our diagram in <<training_loop>> looks like <<detailed_loop>>."
      ]
    },
    {
      "cell_type": "code",
      "execution_count": 17,
      "metadata": {
        "hide_input": true,
        "colab": {
          "base_uri": "https://localhost:8080/",
          "height": 201
        },
        "id": "kD_naQztXxkH",
        "outputId": "e8c549e9-9cb8-4eb0-e29b-f2c21acc8ba4"
      },
      "outputs": [
        {
          "output_type": "execute_result",
          "data": {
            "image/svg+xml": "<?xml version=\"1.0\" encoding=\"UTF-8\" standalone=\"no\"?>\n<!DOCTYPE svg PUBLIC \"-//W3C//DTD SVG 1.1//EN\"\n \"http://www.w3.org/Graphics/SVG/1.1/DTD/svg11.dtd\">\n<!-- Generated by graphviz version 2.43.0 (0)\n -->\n<!-- Title: G Pages: 1 -->\n<svg width=\"489pt\" height=\"134pt\"\n viewBox=\"0.00 0.00 489.18 134.36\" xmlns=\"http://www.w3.org/2000/svg\" xmlns:xlink=\"http://www.w3.org/1999/xlink\">\n<g id=\"graph0\" class=\"graph\" transform=\"scale(1 1) rotate(0) translate(4 130.36)\">\n<title>G</title>\n<polygon fill=\"white\" stroke=\"transparent\" points=\"-4,4 -4,-130.36 485.18,-130.36 485.18,4 -4,4\"/>\n<!-- model -->\n<g id=\"node1\" class=\"node\">\n<title>model</title>\n<polygon fill=\"none\" stroke=\"black\" points=\"217.09,-79.36 141.09,-79.36 137.09,-75.36 137.09,-29.36 213.09,-29.36 217.09,-33.36 217.09,-79.36\"/>\n<polyline fill=\"none\" stroke=\"black\" points=\"213.09,-75.36 137.09,-75.36 \"/>\n<polyline fill=\"none\" stroke=\"black\" points=\"213.09,-75.36 213.09,-29.36 \"/>\n<polyline fill=\"none\" stroke=\"black\" points=\"213.09,-75.36 217.09,-79.36 \"/>\n<text text-anchor=\"middle\" x=\"177.09\" y=\"-50.66\" font-family=\"Times,serif\" font-size=\"14.00\">architecture</text>\n</g>\n<!-- predictions -->\n<g id=\"node3\" class=\"node\">\n<title>predictions</title>\n<ellipse fill=\"none\" stroke=\"black\" cx=\"340.14\" cy=\"-54.36\" rx=\"50.09\" ry=\"18\"/>\n<text text-anchor=\"middle\" x=\"340.14\" y=\"-50.66\" font-family=\"Times,serif\" font-size=\"14.00\">predictions</text>\n</g>\n<!-- model&#45;&gt;predictions -->\n<g id=\"edge2\" class=\"edge\">\n<title>model&#45;&gt;predictions</title>\n<path fill=\"none\" stroke=\"black\" d=\"M217.49,-54.36C236.29,-54.36 259.19,-54.36 280.02,-54.36\"/>\n<polygon fill=\"black\" stroke=\"black\" points=\"280.06,-57.86 290.06,-54.36 280.06,-50.86 280.06,-57.86\"/>\n</g>\n<!-- inputs -->\n<g id=\"node2\" class=\"node\">\n<title>inputs</title>\n<ellipse fill=\"none\" stroke=\"black\" cx=\"50.05\" cy=\"-74.36\" rx=\"32.49\" ry=\"18\"/>\n<text text-anchor=\"middle\" x=\"50.05\" y=\"-70.66\" font-family=\"Times,serif\" font-size=\"14.00\">inputs</text>\n</g>\n<!-- inputs&#45;&gt;model -->\n<g id=\"edge1\" class=\"edge\">\n<title>inputs&#45;&gt;model</title>\n<path fill=\"none\" stroke=\"black\" d=\"M81.64,-69.47C95.15,-67.31 111.38,-64.71 126.54,-62.28\"/>\n<polygon fill=\"black\" stroke=\"black\" points=\"127.51,-65.67 136.83,-60.64 126.4,-58.76 127.51,-65.67\"/>\n</g>\n<!-- loss -->\n<g id=\"node6\" class=\"node\">\n<title>loss</title>\n<ellipse fill=\"none\" stroke=\"black\" cx=\"454.18\" cy=\"-83.36\" rx=\"27\" ry=\"18\"/>\n<text text-anchor=\"middle\" x=\"454.18\" y=\"-79.66\" font-family=\"Times,serif\" font-size=\"14.00\">loss</text>\n</g>\n<!-- predictions&#45;&gt;loss -->\n<g id=\"edge5\" class=\"edge\">\n<title>predictions&#45;&gt;loss</title>\n<path fill=\"none\" stroke=\"black\" d=\"M381.27,-64.75C393.51,-67.91 406.85,-71.37 418.68,-74.43\"/>\n<polygon fill=\"black\" stroke=\"black\" points=\"418.07,-77.89 428.63,-77 419.82,-71.11 418.07,-77.89\"/>\n</g>\n<!-- parameters -->\n<g id=\"node4\" class=\"node\">\n<title>parameters</title>\n<ellipse fill=\"none\" stroke=\"black\" cx=\"50.05\" cy=\"-20.36\" rx=\"50.09\" ry=\"18\"/>\n<text text-anchor=\"middle\" x=\"50.05\" y=\"-16.66\" font-family=\"Times,serif\" font-size=\"14.00\">parameters</text>\n</g>\n<!-- parameters&#45;&gt;model -->\n<g id=\"edge3\" class=\"edge\">\n<title>parameters&#45;&gt;model</title>\n<path fill=\"none\" stroke=\"black\" d=\"M90.61,-31.12C102.13,-34.25 114.85,-37.71 126.88,-40.98\"/>\n<polygon fill=\"black\" stroke=\"black\" points=\"126.22,-44.42 136.78,-43.67 128.05,-37.67 126.22,-44.42\"/>\n</g>\n<!-- labels -->\n<g id=\"node5\" class=\"node\">\n<title>labels</title>\n<ellipse fill=\"none\" stroke=\"black\" cx=\"340.14\" cy=\"-108.36\" rx=\"31.4\" ry=\"18\"/>\n<text text-anchor=\"middle\" x=\"340.14\" y=\"-104.66\" font-family=\"Times,serif\" font-size=\"14.00\">labels</text>\n</g>\n<!-- labels&#45;&gt;loss -->\n<g id=\"edge4\" class=\"edge\">\n<title>labels&#45;&gt;loss</title>\n<path fill=\"none\" stroke=\"black\" d=\"M369.41,-102.05C384.3,-98.73 402.69,-94.63 418.44,-91.11\"/>\n<polygon fill=\"black\" stroke=\"black\" points=\"419.35,-94.49 428.35,-88.9 417.83,-87.66 419.35,-94.49\"/>\n</g>\n<!-- loss&#45;&gt;parameters -->\n<g id=\"edge6\" class=\"edge\">\n<title>loss&#45;&gt;parameters</title>\n<path fill=\"none\" stroke=\"black\" d=\"M440.88,-67.53C429.39,-54.1 410.95,-35.74 390.18,-27.36 295.38,10.89 173.21,0.49 104.38,-10.18\"/>\n<polygon fill=\"black\" stroke=\"black\" points=\"103.53,-6.77 94.21,-11.81 104.64,-13.68 103.53,-6.77\"/>\n<text text-anchor=\"middle\" x=\"253.59\" y=\"-6.16\" font-family=\"Times,serif\" font-size=\"14.00\">update</text>\n</g>\n</g>\n</svg>\n",
            "text/plain": [
              "<graphviz.sources.Source at 0x7e77d371d4d0>"
            ]
          },
          "metadata": {},
          "execution_count": 17
        }
      ],
      "source": [
        "#hide_input\n",
        "#caption Detailed training loop\n",
        "#id detailed_loop\n",
        "gv('''ordering=in\n",
        "model[shape=box3d width=1 height=0.7 label=architecture]\n",
        "inputs->model->predictions; parameters->model; labels->loss; predictions->loss\n",
        "loss->parameters[constraint=false label=update]''')"
      ]
    },
    {
      "cell_type": "markdown",
      "metadata": {
        "id": "ivegx6AUXxkI"
      },
      "source": [
        "### Limitations Inherent To Machine Learning\n",
        "\n",
        "From this picture we can now see some fundamental things about training a deep learning model:\n",
        "\n",
        "- A model cannot be created without data.\n",
        "- A model can only learn to operate on the patterns seen in the input data used to train it.\n",
        "- This learning approach only creates *predictions*, not recommended *actions*.\n",
        "- It's not enough to just have examples of input data; we need *labels* for that data too (e.g., pictures of dogs and cats aren't enough to train a model; we need a label for each one, saying which ones are dogs, and which are cats).\n",
        "\n",
        "이 그림에서 우리는 이제 딥 러닝 모델을 훈련하는 것에 대한 몇 가지 기본적인 사항을 볼 수 있습니다.\n",
        "\n",
        "- 데이터가 없으면 모델을 만들 수 없습니다.\n",
        "- 모델은 학습에 사용된 입력 데이터에서 확인된 패턴을 기반으로만 작동하는 법을 배울 수 있습니다.\n",
        "- 이러한 학습 방식은 권장되는 조치가 아닌 예측 만 생성합니다 .\n",
        "- 입력 데이터의 예시만 있는 것으로는 충분하지 않습니다. 해당 데이터에 대한 레이블 도 필요합니다. (예: 개와 고양이 사진만으로는 모델을 학습시키기에 충분하지 않습니다. 각 사진에 대해 개와 고양이를 구분하는 레이블이 필요합니다.)\n",
        "\n",
        "Generally speaking, we've seen that most organizations that say they don't have enough data, actually mean they don't have enough *labeled* data. If any organization is interested in doing something in practice with a model, then presumably they have some inputs they plan to run their model against. And presumably they've been doing that some other way for a while (e.g., manually, or with some heuristic program), so they have data from those processes! For instance, a radiology practice will almost certainly have an archive of medical scans (since they need to be able to check how their patients are progressing over time), but those scans may not have structured labels containing a list of diagnoses or interventions (since radiologists generally create free-text natural language reports, not structured data). We'll be discussing labeling approaches a lot in this book, because it's such an important issue in practice.\n",
        "\n",
        "일반적으로, 우리는 충분한 데이터가 없다고 말하는 대부분의 조직이 실제로는 충분한 레이블이 지정된 데이터가 없다는 것을 의미한다는 것을 보았습니다. 어떤 조직이 모델을 사용하여 실무에서 무언가를 하려는 경우, 아마도 모델을 실행할 입력이 있을 것입니다. 그리고 아마도 그들은 다른 방식(예: 수동으로 또는 일부 휴리스틱 프로그램)으로 잠시 동안 그것을 해왔을 것이므로, 그들은 그 프로세스에서 데이터를 가지고 있을 것입니다! 예를 들어, 방사선과 진료소는 거의 확실히 의료 검사 기록 보관소를 가지고 있을 것입니다(환자가 시간이 지남에 따라 어떻게 진행되는지 확인할 수 있어야 하기 때문입니다). 그러나 그 검사에는 진단 또는 개입 목록이 포함된 구조화된 레이블이 없을 수 있습니다(방사선과 의사는 일반적으로 구조화된 데이터가 아닌 자유 텍스트 자연어 보고서를 작성하기 때문입니다). 이 책에서는 레이블 지정 접근 방식에 대해 많이 논의할 것입니다. 왜냐하면 그것은 실무에서 매우 중요한 문제이기 때문입니다.\n",
        "\n",
        "Since these kinds of machine learning models can only make *predictions* (i.e., attempt to replicate labels), this can result in a significant gap between organizational goals and model capabilities. For instance, in this book you'll learn how to create a *recommendation system* that can predict what products a user might purchase. This is often used in e-commerce, such as to customize products shown on a home page by showing the highest-ranked items. But such a model is generally created by looking at a user and their buying history (*inputs*) and what they went on to buy or look at (*labels*), which means that the model is likely to tell you about products the user already has or already knows about, rather than new products that they are most likely to be interested in hearing about. That's very different to what, say, an expert at your local bookseller might do, where they ask questions to figure out your taste, and then tell you about authors or series that you've never heard of before.\n",
        "\n",
        "이러한 종류의 머신 러닝 모델은 예측 만 할 수 있으므로 (즉, 레이블을 복제하려고 시도) 조직 목표와 모델 기능 간에 상당한 차이가 발생할 수 있습니다.예를 들어, 이 책에서는 사용자가 어떤 제품을 구매할지 예측할 수 있는 추천 시스템을 만드는 방법을 알아봅니다 .이는 홈페이지에 표시된 제품을 가장 높은 순위의 항목으로 표시하여 사용자 지정하는 것과 같이 전자 상거래에서 자주 사용됩니다.그러나 이러한 모델은 일반적으로 사용자와 구매 내역( 입력 ) 및 구매하거나 살펴본 내용( 레이블 )을 살펴봄으로써 만들어집니다.즉, 모델은 사용자가 가장 관심을 가질 만한 새로운 제품이 아니라 사용자가 이미 가지고 있거나 이미 알고 있는 제품에 대해 알려줄 가능성이 높습니다.이는 지역 서점의 전문가가 사용자의 취향을 파악하기 위해 질문을 한 다음 전혀 들어본 적이 없는 작가나 시리즈에 대해 알려주는 것과는 매우 다릅니다.\n"
      ]
    },
    {
      "cell_type": "markdown",
      "metadata": {
        "id": "7_PBBRw6XxkI"
      },
      "source": [
        "Another critical insight comes from considering how a model interacts with its environment. This can create *feedback loops*, as described here:\n",
        "\n",
        "또 다른 중요한 통찰력은 모델이 환경과 어떻게 상호 작용하는지 고려하는 데서 나옵니다. 이는 여기에 설명된 대로 피드백 루프를 생성할 수 있습니다 .\n",
        "\n",
        "- A *predictive policing* model is created based on where arrests have been made in the past. In practice, this is not actually predicting crime, but rather predicting arrests, and is therefore partially simply reflecting biases in existing policing processes.\n",
        "- Law enforcement officers then might use that model to decide where to focus their police activity, resulting in increased arrests in those areas.\n",
        "- Data on these additional arrests would then be fed back in to retrain future versions of the model.\n",
        "\n",
        "- 예측적 경찰 모델 은 과거에 체포가 이루어진 곳을 기반으로 만들어집니다. 실제로 이는 범죄를 예측하는 것이 아니라 체포를 예측하는 것이므로 기존 경찰 프로세스의 편견을 부분적으로 반영하는 것입니다.\n",
        "- 그러면 법 집행관은 이 모델을 사용하여 경찰 활동을 어디에 집중할지 결정할 수 있고, 그 지역의 체포율이 높아질 수 있습니다.\n",
        "- 이러한 추가 체포에 대한 데이터는 이후 버전의 모델을 다시 훈련하는 데 다시 활용됩니다.\n",
        "\n",
        "This is a *positive feedback loop*, where the more the model is used, the more biased the data becomes, making the model even more biased, and so forth.\n",
        "\n",
        "이는 긍정적인 피드백 루프로 , 모델을 많이 사용할수록 데이터는 더 편향되고, 이로 인해 모델도 더욱 편향되게 됩니다.\n",
        "\n",
        "Feedback loops can also create problems in commercial settings. For instance, a video recommendation system might be biased toward recommending content consumed by the biggest watchers of video (e.g., conspiracy theorists and extremists tend to watch more online video content than the average), resulting in those users increasing their video consumption, resulting in more of those kinds of videos being recommended. We'll consider this topic more in detail in <<chapter_ethics>>.\n",
        "\n",
        "피드백 루프는 상업적 환경에서도 문제를 일으킬 수 있습니다. 예를 들어, 비디오 추천 시스템은 비디오를 가장 많이 보는 사람들이 소비하는 콘텐츠를 추천하는 데 편향될 수 있습니다(예: 음모론자와 극단주의자는 평균보다 더 많은 온라인 비디오 콘텐츠를 시청하는 경향이 있음). 그 결과 해당 사용자가 비디오 소비를 늘리고, 그 결과 해당 종류의 비디오가 더 많이 추천됩니다. 이 주제에 대해서는 < >에서 더 자세히 살펴보겠습니다.\n"
      ]
    },
    {
      "cell_type": "markdown",
      "metadata": {
        "id": "Xp-sKEbbXxkI"
      },
      "source": [
        "Now that you have seen the base of the theory, let's go back to our code example and see in detail how the code corresponds to the process we just described.\n",
        "\n",
        "이제 이론의 기본을 살펴보았으니, 코드 예로 돌아가서 코드가 방금 설명한 프로세스에 어떻게 대응하는지 자세히 살펴보겠습니다\n"
      ]
    },
    {
      "cell_type": "markdown",
      "metadata": {
        "id": "I477N88jXxkI"
      },
      "source": [
        "### How Our Image Recognizer Works"
      ]
    },
    {
      "cell_type": "markdown",
      "metadata": {
        "id": "Q1nWpr33XxkI"
      },
      "source": [
        "Let's see just how our image recognizer code maps to these ideas. We'll put each line into a separate cell, and look at what each one is doing (we won't explain every detail of every parameter yet, but will give a description of the important bits; full details will come later in the book).\n",
        "\n",
        "이미지 인식기 코드가 이러한 아이디어에 어떻게 매핑되는지 살펴보겠습니다. 각 줄을 별도의 셀에 넣고 각각이 무엇을 하는지 살펴보겠습니다(아직 모든 매개변수의 모든 세부 사항을 설명하지는 않겠지만 중요한 부분에 대한 설명을 제공할 것입니다. 자세한 내용은 책의 후반부에 나옵니다)."
      ]
    },
    {
      "cell_type": "markdown",
      "metadata": {
        "id": "Oob_Ifa8XxkI"
      },
      "source": [
        "The first line imports all of the fastai.vision library.\n",
        "첫 번째 줄은 fastai.vision 라이브러리 전체를 가져옵니다.\n",
        "\n",
        "```python\n",
        "from fastai.vision.all import *\n",
        "```\n",
        "\n",
        "This gives us all of the functions and classes we will need to create a wide variety of computer vision models.\n",
        "\n",
        "이를 통해 다양한 컴퓨터 비전 모델을 만드는 데 필요한 모든 함수와 클래스가 제공됩니다."
      ]
    },
    {
      "cell_type": "markdown",
      "metadata": {
        "id": "Loul5cEIXxkI"
      },
      "source": [
        "> J: A lot of Python coders recommend avoiding importing a whole library like this (using the `import *` syntax), because in large software projects it can cause problems. However, for interactive work such as in a Jupyter notebook, it works great. The fastai library is specially designed to support this kind of interactive use, and it will only import the necessary pieces into your environment.\n",
        "\n",
        "> J: 많은 Python 코더가 이와 같이 전체 라이브러리를 임포트하는 것을 피하라고 권장합니다(`import *` 구문을 사용하여). 대규모 소프트웨어 프로젝트에서는 문제가 발생할 수 있기 때문입니다. 그러나 Jupyter 노트북과 같은 대화형 작업의 경우 매우 효과적입니다. fastai 라이브러리는 이러한 종류의 대화형 사용을 지원하도록 특별히 설계되었으며, 필요한 부분만 사용자 환경으로 임포트합니다."
      ]
    },
    {
      "cell_type": "markdown",
      "metadata": {
        "id": "7micyGJmXxkI"
      },
      "source": [
        "The second line downloads a standard dataset from the [fast.ai datasets collection](https://docs.fast.ai/data.external.html#datasets) (if not previously downloaded) to your server, extracts it (if not previously extracted), and returns a `Path` object with the extracted location:\n",
        "\n",
        "두 번째 줄은 fast.ai 데이터세트 컬렉션 에서 표준 데이터세트를 서버로 다운로드하고(이전에 다운로드하지 않은 경우) 추출한 다음(이전에 추출하지 않은 경우) 추출된 위치가 포함된 Path 객체를 반환합니다.\n",
        "\n",
        "```python\n",
        "path = untar_data(URLs.PETS)/'images'\n",
        "```\n",
        "\n",
        "> S: Throughout my time studying at fast.ai, and even still today, I've learned a lot about productive coding practices. The fastai library and fast.ai notebooks are full of great little tips that have helped make me a better programmer. For instance, notice that the fastai library doesn't just return a string containing the path to the dataset, but a `Path` object. This is a really useful class from the Python 3 standard library that makes accessing files and directories much easier. If you haven't come across it before, be sure to check out its documentation or a tutorial and try it out. Note that the https://book.fast.ai[website] contains links to recommended tutorials for each chapter. I'll keep letting you know about little coding tips I've found useful as we come across them.\n",
        "\n",
        "> S: fast.ai에서 공부하는 동안, 그리고 지금도 여전히, 저는 생산적인 코딩 관행에 대해 많은 것을 배웠습니다. fastai 라이브러리와 fast.ai 노트북은 저를 더 나은 프로그래머로 만드는 데 도움이 되는 훌륭한 작은 팁으로 가득 차 있습니다. 예를 들어, fastai 라이브러리는 데이터 세트의 경로가 포함된 문자열을 반환하는 것이 아니라 Path 객체를 반환합니다. 이것은 파일과 디렉토리에 훨씬 더 쉽게 액세스할 수 있게 해주는 Python 3 표준 라이브러리의 정말 유용한 클래스입니다. 이전에 접하지 못했다면 설명서나 튜토리얼을 확인하고 시도해 보세요. https://book.fast.ai[웹사이트] 에는 각 장에 대한 권장 튜토리얼에 대한 링크가 있습니다. 저는 제가 유용하다고 생각하는 작은 코딩 팁을 발견할 때마다 알려드리겠습니다."
      ]
    },
    {
      "cell_type": "markdown",
      "metadata": {
        "id": "s3j3RUTRXxkI"
      },
      "source": [
        "In the third line we define a function, `is_cat`, which labels cats based on a filename rule provided by the dataset creators:\n",
        "\n",
        "세 번째 줄에서는 데이터 세트 생성자가 제공한 파일 이름 규칙에 따라 고양이에 레이블을 지정하는 is_cat 함수를 정의합니다 .\n",
        "\n",
        "```python\n",
        "def is_cat(x): return x[0].isupper()\n",
        "```"
      ]
    },
    {
      "cell_type": "markdown",
      "metadata": {
        "id": "L_XbHAX_XxkI"
      },
      "source": [
        "We use that function in the fourth line, which tells fastai what kind of dataset we have and how it is structured:\n",
        "\n",
        "우리는 네 번째 줄에서 해당 함수를 사용하는데, 이 함수는 fastai에 우리가 어떤 종류의 데이터 세트를 가지고 있고 어떻게 구성되어 있는지 알려줍니다.\n",
        "\n",
        "```python\n",
        "dls = ImageDataLoaders.from_name_func(\n",
        "    path, get_image_files(path), valid_pct=0.2, seed=42,\n",
        "    label_func=is_cat, item_tfms=Resize(224))\n",
        "```\n",
        "\n",
        "There are various different classes for different kinds of deep learning datasets and problems—here we're using `ImageDataLoaders`. The first part of the class name will generally be the type of data you have, such as image, or text.\n",
        "\n",
        "다양한 종류의 딥 러닝 데이터 세트와 문제에 대한 다양한 클래스가 있습니다. 여기서는 ImageDataLoaders 를 사용합니다. 클래스 이름의 첫 번째 부분은 일반적으로 이미지나 텍스트와 같이 보유한 데이터 유형입니다.\n",
        "\n",
        "The other important piece of information that we have to tell fastai is how to get the labels from the dataset. Computer vision datasets are normally structured in such a way that the label for an image is part of the filename, or path—most commonly the parent folder name. fastai comes with a number of standardized labeling methods, and ways to write your own. Here we're telling fastai to use the `is_cat` function we just defined.\n",
        "\n",
        "fastai에 알려야 할 또 다른 중요한 정보는 데이터세트에서 레이블을 가져오는 방법입니다. 컴퓨터 비전 데이터세트는 일반적으로 이미지의 레이블이 파일 이름 또는 경로의 일부인 방식으로 구조화됩니다. 가장 일반적으로는 부모 폴더 이름입니다. fastai에는 여러 가지 표준화된 레이블 지정 방법과 직접 작성하는 방법이 있습니다. 여기서는 fastai에 is_cat방금 정의한 함수를 사용하라고 알려줍니다.\n",
        "\n",
        "Finally, we define the `Transform`s that we need. A `Transform` contains code that is applied automatically during training; fastai includes many predefined `Transform`s, and adding new ones is as simple as creating a Python function. There are two kinds: `item_tfms` are applied to each item (in this case, each item is resized to a 224-pixel square), while `batch_tfms` are applied to a *batch* of items at a time using the GPU, so they're particularly fast (we'll see many examples of these throughout this book).\n",
        "\n",
        "마지막으로, 필요한 Transform 를 정의합니다 . Transform 은 훈련 중에 자동으로 적용되는 코드를 포함합니다. fastai에는 미리 정의된 Transforms가 많이 포함되어 있으며, 새 Transform 를 추가하는 것은 Python 함수를 만드는 것만큼 간단합니다. 두 가지 종류가 있습니다. item_tfms 각 항목에 적용됩니다(이 경우 각 항목은 224픽셀 정사각형으로 크기가 조정됨). 반면 GPU를 사용하여 한 번에 여러 batch_tfms 항목 에 적용되므로 특히 빠릅니다(이 책 전체에서 이에 대한 많은 예를 볼 수 있습니다).\n",
        "\n",
        "Why 224 pixels? This is the standard size for historical reasons (old pretrained models require this size exactly), but you can pass pretty much anything. If you increase the size, you'll often get a model with better results (since it will be able to focus on more details), but at the price of speed and memory consumption; the opposite is true if you decrease the size.\n",
        "\n",
        "왜 224픽셀인가요? 이는 역사적 이유로 표준 크기입니다(이전 사전 학습된 모델은 정확히 이 크기를 요구함). 하지만 거의 모든 것을 통과시킬 수 있습니다. 크기를 늘리면 더 나은 결과를 얻을 수 있지만(더 많은 세부 정보에 집중할 수 있기 때문), 속도와 메모리 소모가 희생됩니다. 크기를 줄이면 그 반대가 됩니다.\n"
      ]
    },
    {
      "cell_type": "markdown",
      "metadata": {
        "id": "YkQSiap7XxkI"
      },
      "source": [
        "> Note: Classification and Regression: _classification_ and _regression_ have very specific meanings in machine learning. These are the two main types of model that we will be investigating in this book. A classification model is one which attempts to predict a class, or category. That is, it's predicting from a number of discrete possibilities, such as \"dog\" or \"cat.\" A regression model is one which attempts to predict one or more numeric quantities, such as a temperature or a location. Sometimes people use the word _regression_ to refer to a particular kind of model called a _linear regression model_; this is a bad practice, and we won't be using that terminology in this book!\n",
        "\n",
        "> 참고: 분류 및 회귀: 분류 및 회귀는 머신 러닝에서 매우 구체적인 의미를 갖습니다. 이 책에서 조사할 두 가지 주요 모델 유형입니다. 분류 모델은 클래스 또는 범주를 예측하려는 모델입니다. 즉, \"개\" 또는 \"고양이\"와 같이 여러 개의 이산적인 가능성에서 예측하는 것입니다. 회귀 모델은 온도 또는 위치와 같이 하나 이상의 숫자 양을 예측하려는 모델입니다. 때때로 사람들은 선형 회귀 모델 이라고 하는 특정 종류의 모델을 지칭하기 위해 회귀라는 단어를 사용합니다 . 이는 나쁜 관행이며 이 책에서는 이 용어를 사용하지 않습니다!"
      ]
    },
    {
      "cell_type": "markdown",
      "metadata": {
        "id": "1oWOlOdZXxkI"
      },
      "source": [
        "The Pet dataset contains 7,390 pictures of dogs and cats, consisting of 37 different breeds. Each image is labeled using its filename: for instance the file *great\\_pyrenees\\_173.jpg* is the 173rd example of an image of a Great Pyrenees breed dog in the dataset. The filenames start with an uppercase letter if the image is a cat, and a lowercase letter otherwise. We have to tell fastai how to get labels from the filenames, which we do by calling `from_name_func` (which means that labels can be extracted using a function applied to the filename), and passing `is_cat`, which returns `x[0].isupper()`, which evaluates to `True` if the first letter is uppercase (i.e., it's a cat).\n",
        "\n",
        "The most important parameter to mention here is `valid_pct=0.2`. This tells fastai to hold out 20% of the data and *not use it for training the model at all*. This 20% of the data is called the *validation set*; the remaining 80% is called the *training set*. The validation set is used to measure the accuracy of the model. By default, the 20% that is held out is selected randomly. The parameter `seed=42` sets the *random seed* to the same value every time we run this code, which means we get the same validation set every time we run it—this way, if we change our model and retrain it, we know that any differences are due to the changes to the model, not due to having a different random validation set.\n",
        "\n",
        "fastai will *always* show you your model's accuracy using *only* the validation set, *never* the training set. This is absolutely critical, because if you train a large enough model for a long enough time, it will eventually memorize the label of every item in your dataset! The result will not actually be a useful model, because what we care about is how well our model works on *previously unseen images*. That is always our goal when creating a model: for it to be useful on data that the model only sees in the future, after it has been trained.\n",
        "\n",
        "Even when your model has not fully memorized all your data, earlier on in training it may have memorized certain parts of it. As a result, the longer you train for, the better your accuracy will get on the training set; the validation set accuracy will also improve for a while, but eventually it will start getting worse as the model starts to memorize the training set, rather than finding generalizable underlying patterns in the data. When this happens, we say that the model is *overfitting*.\n",
        "\n",
        "<<img_overfit>> shows what happens when you overfit, using a simplified example where we have just one parameter, and some randomly generated data based on the function `x**2`. As you can see, although the predictions in the overfit model are accurate for data near the observed data points, they are way off when outside of that range."
      ]
    },
    {
      "cell_type": "markdown",
      "metadata": {
        "id": "-4Zg3btrXxkI"
      },
      "source": [
        "<img src=\"https://github.com/fastai/fastbook/blob/master/images/att_00000.png?raw=1\" alt=\"Example of overfitting\" caption=\"Example of overfitting\" id=\"img_overfit\" width=\"700\">"
      ]
    },
    {
      "cell_type": "markdown",
      "metadata": {
        "id": "mDvbhtXvXxkI"
      },
      "source": [
        "**Overfitting is the single most important and challenging issue** when training for all machine learning practitioners, and all algorithms. As you will see, it is very easy to create a model that does a great job at making predictions on the exact data it has been trained on, but it is much harder to make accurate predictions on data the model has never seen before. And of course, this is the data that will actually matter in practice. For instance, if you create a handwritten digit classifier (as we will very soon!) and use it to recognize numbers written on checks, then you are never going to see any of the numbers that the model was trained on—checks will have slightly different variations of writing to deal with. You will learn many methods to avoid overfitting in this book. However, you should only use those methods after you have confirmed that overfitting is actually occurring (i.e., you have actually observed the validation accuracy getting worse during training). We often see practitioners using over-fitting avoidance techniques even when they have enough data that they didn't need to do so, ending up with a model that may be less accurate than what they could have achieved."
      ]
    },
    {
      "cell_type": "markdown",
      "metadata": {
        "id": "3JNEoZ83XxkI"
      },
      "source": [
        "> important: Validation Set: When you train a model, you must _always_ have both a training set and a validation set, and must measure the accuracy of your model only on the validation set. If you train for too long, with not enough data, you will see the accuracy of your model start to get worse; this is called _overfitting_. fastai defaults `valid_pct` to `0.2`, so even if you forget, fastai will create a validation set for you!"
      ]
    },
    {
      "cell_type": "markdown",
      "metadata": {
        "id": "WR4sMEkSXxkI"
      },
      "source": [
        "The fifth line of the code training our image recognizer tells fastai to create a *convolutional neural network* (CNN) and specifies what *architecture* to use (i.e. what kind of model to create), what data we want to train it on, and what *metric* to use:\n",
        "\n",
        "이미지 인식기를 훈련하는 코드의 다섯 번째 줄은 fastai에 합성 신경망 (CNN)을 생성하고 사용할 아키텍처 (즉, 어떤 종류의 모델을 만들 것인지), 어떤 데이터로 훈련시키고 싶은지, 어떤 메트릭을 사용할 것인지를 지정하도록 지시합니다.\n",
        "\n",
        "```python\n",
        "learn = vision_learner(dls, resnet34, metrics=error_rate)\n",
        "```\n",
        "\n",
        "Why a CNN? It's the current state-of-the-art approach to creating computer vision models. We'll be learning all about how CNNs work in this book. Their structure is inspired by how the human vision system works.\n",
        "\n",
        "왜 CNN인가? 컴퓨터 비전 모델을 만드는 최신 기술 접근 ​​방식입니다. 이 책에서는 CNN이 어떻게 작동하는지 모두 배울 것입니다. CNN의 구조는 인간의 시각 시스템이 작동하는 방식에서 영감을 받았습니다.\n",
        "\n",
        "There are many different architectures in fastai, which we will introduce in this book (as well as discussing how to create your own). Most of the time, however, picking an architecture isn't a very important part of the deep learning process. It's something that academics love to talk about, but in practice it is unlikely to be something you need to spend much time on. There are some standard architectures that work most of the time, and in this case we're using one called _ResNet_ that we'll be talking a lot about during the book; it is both fast and accurate for many datasets and problems. The `34` in `resnet34` refers to the number of layers in this variant of the architecture (other options are `18`, `50`, `101`, and `152`). Models using architectures with more layers take longer to train, and are more prone to overfitting (i.e. you can't train them for as many epochs before the accuracy on the validation set starts getting worse). On the other hand, when using more data, they can be quite a bit more accurate.\n",
        "\n",
        "fastai에는 다양한 아키텍처가 있으며, 이 책에서 소개할 것입니다(그리고 사용자 정의 아키텍처를 만드는 방법도 논의할 것입니다). 그러나 대부분의 경우 아키텍처를 선택하는 것은 딥 러닝 프로세스에서 그다지 중요한 부분이 아닙니다. 학자들이 이야기하기를 좋아하는 부분이지만 실제로는 많은 시간을 할애할 필요가 없는 부분입니다. 대부분의 경우 작동하는 몇 가지 표준 아키텍처가 있으며, 이 경우 책에서 많이 설명할 ResNet34 이라는 아키텍처를 사용합니다. 많은 데이터 세트와 문제에 대해 빠르고 정확합니다. in은 resnet34이 아키텍처 변형의 계층 수를 나타냅니다(다른 옵션은 18, 50, 101, 및 입니다 152). 계층이 많은 아키텍처를 사용하는 모델은 학습하는 데 시간이 더 오래 걸리고 과적합될 가능성이 더 높습니다(즉, 검증 세트의 정확도가 떨어지기 시작하기 전에 많은 에포크 동안 학습할 수 없음). 반면에 더 많은 데이터를 사용하면 훨씬 더 정확할 수 있습니다.\n",
        "\n",
        "What is a metric? A *metric* is a function that measures the quality of the model's predictions using the validation set, and will be printed at the end of each *epoch*. In this case, we're using `error_rate`, which is a function provided by fastai that does just what it says: tells you what percentage of images in the validation set are being classified incorrectly. Another common metric for classification is `accuracy` (which is just `1.0 - error_rate`). fastai provides many more, which will be discussed throughout this book.\n",
        "\n",
        "메트릭이란? 메트릭은 검증 세트를 사용하여 모델의 예측 품질을 측정하는 함수이며, 각 에포크 의 끝에 인쇄됩니다 . 이 경우, 우리는 error_rate 라는 fastai에서 제공하는 함수 를 사용하고 있는데, 이 함수는 말 그대로 검증 세트의 이미지 중 몇 퍼센트가 잘못 분류되었는지 알려줍니다. 분류를 위한 또 다른 일반적인 메트릭은 accuracy(1.0 - error_rate)입니다. fastai는 이 책 전반에 걸쳐 논의될 훨씬 더 많은 것을 제공합니다.\n",
        "\n",
        "The concept of a metric may remind you of *loss*, but there is an important distinction. The entire purpose of loss is to define a \"measure of performance\" that the training system can use to update weights automatically. In other words, a good choice for loss is a choice that is easy for stochastic gradient descent to use. But a metric is defined for human consumption, so a good metric is one that is easy for you to understand, and that hews as closely as possible to what you want the model to do. At times, you might decide that the loss function is a suitable metric, but that is not necessarily the case.\n",
        "\n",
        "메트릭의 개념은 손실 을 떠올리게 할 수 있지만, 중요한 차이점이 있습니다. 손실의 전체 목적은 훈련 시스템이 가중치를 자동으로 업데이트하는 데 사용할 수 있는 \"성능 측정\"을 정의하는 것입니다. 다시 말해, 손실에 대한 좋은 선택은 확률적 경사 하강에서 사용하기 쉬운 선택입니다. 그러나 메트릭은 인간이 소비하도록 정의되므로 좋은 메트릭은 이해하기 쉽고 모델에서 수행하려는 작업에 최대한 가깝게 따르는 것입니다. 때때로 손실 함수가 적합한 메트릭이라고 결정할 수 있지만 반드시 그런 것은 아닙니다."
      ]
    },
    {
      "cell_type": "markdown",
      "metadata": {
        "id": "fNN135ptXxkI"
      },
      "source": [
        "`vision_learner` also has a parameter `pretrained`, which defaults to `True` (so it's used in this case, even though we haven't specified it), which sets the weights in your model to values that have already been trained by experts to recognize a thousand different categories across 1.3 million photos (using the famous [*ImageNet* dataset](http://www.image-net.org/)). A model that has weights that have already been trained on some other dataset is called a *pretrained model*. You should nearly always use a pretrained model, because it means that your model, before you've even shown it any of your data, is already very capable. And, as you'll see, in a deep learning model many of these capabilities are things you'll need, almost regardless of the details of your project. For instance, parts of pretrained models will handle edge, gradient, and color detection, which are needed for many tasks.\n",
        "\n",
        "vision_learner 또한 pretrained 매개변수가 있는데 , 기본값은 True(이 경우 사용되지만 지정하지는 않았음) 로, 130만 장의 사진에서 1,000개의 서로 다른 카테고리를 인식하도록 전문가가 이미 훈련한 값으로 모델의 가중치를 설정합니다(유명한 ImageNet 데이터 세트 사용 ). 다른 데이터 세트에서 이미 훈련된 가중치가 있는 모델을 사전 훈련된 모델 이라고 합니다 . 사전 훈련된 모델을 거의 항상 사용해야 합니다. 데이터를 보여주기 전에도 모델이 이미 매우 유능하다는 것을 의미하기 때문입니다. 그리고 보시다시피 딥 러닝 모델에서 이러한 기능 중 다수는 프로젝트의 세부 사항과 거의 상관없이 필요한 것입니다. 예를 들어 사전 훈련된 모델의 일부는 많은 작업에 필요한 에지, 그래디언트 및 색상 감지를 처리합니다.\n",
        "\n",
        "When using a pretrained model, `vision_learner` will remove the last layer, since that is always specifically customized to the original training task (i.e. ImageNet dataset classification), and replace it with one or more new layers with randomized weights, of an appropriate size for the dataset you are working with. This last part of the model is known as the *head*.\n",
        "\n",
        "사전 학습된 모델을 사용할 때, vision_learner 는 마지막 레이어를 제거합니다. 왜냐하면 그것은 항상 원래의 학습 작업(예: ImageNet 데이터 세트 분류)에 맞게 특별히 사용자 지정되어 있기 때문입니다. 그리고 그것을 작업하는 데이터 세트에 적합한 크기의 무작위 가중치가 있는 하나 이상의 새로운 레이어로 대체합니다. 모델의 이 마지막 부분을 *헤드* 라고 합니다 .\n",
        "\n",
        "Using pretrained models is the *most* important method we have to allow us to train more accurate models, more quickly, with less data, and less time and money. You might think that would mean that using pretrained models would be the most studied area in academic deep learning... but you'd be very, very wrong! The importance of pretrained models is generally not recognized or discussed in most courses, books, or software library features, and is rarely considered in academic papers. As we write this at the start of 2020, things are just starting to change, but it's likely to take a while. So be careful: most people you speak to will probably greatly underestimate what you can do in deep learning with few resources, because they probably won't deeply understand how to use pretrained models.\n",
        "\n",
        "사전 학습된 모델을 사용하는 것은 더 적은 데이터와 시간, 비용으로 더 정확한 모델을 더 빠르게 학습할 수 있게 해주는 가장 중요한 방법입니다. 사전 학습된 모델을 사용하는 것이 학술적 딥 러닝에서 가장 많이 연구되는 분야가 될 것이라고 생각할 수도 있지만, 매우, 매우 틀렸습니다! 사전 학습된 모델의 중요성은 일반적으로 대부분의 과정, 책 또는 소프트웨어 라이브러리 기능에서 인식되거나 논의되지 않으며 학술 논문에서도 거의 고려되지 않습니다. 2020년 초에 이 글을 쓰는 시점에서 상황이 막 바뀌기 시작했지만 시간이 좀 걸릴 가능성이 있습니다. 그러니 조심하세요. 대부분의 대화 상대는 사전 학습된 모델을 사용하는 방법을 깊이 이해하지 못할 가능성이 높기 때문에 리소스가 거의 없는 딥 러닝에서 무엇을 할 수 있는지 크게 과소평가할 것입니다.\n",
        "\n",
        "Using a pretrained model for a task different to what it was originally trained for is known as *transfer learning*. Unfortunately, because transfer learning is so under-studied, few domains have pretrained models available. For instance, there are currently few pretrained models available in medicine, making transfer learning challenging to use in that domain. In addition, it is not yet well understood how to use transfer learning for tasks such as time series analysis.\n",
        "\n",
        "원래 훈련된 것과 다른 작업에 사전 훈련된 모델을 사용하는 것을 전이 학습 이라고 합니다 . 불행히도 전이 학습은 연구가 부족하기 때문에 사전 훈련된 모델을 사용할 수 있는 도메인이 거의 없습니다. 예를 들어, 현재 의학 분야에서 사용할 수 있는 사전 훈련된 모델이 거의 없어서 해당 도메인에서 전이 학습을 사용하기 어렵습니다. 또한 시계열 분석과 같은 작업에 전이 학습을 사용하는 방법도 아직 잘 이해되지 않았습니다."
      ]
    },
    {
      "cell_type": "markdown",
      "metadata": {
        "id": "ZjWVdjePXxkI"
      },
      "source": [
        "> jargon: Transfer learning: Using a pretrained model for a task different to what it was originally trained for.\n",
        "\n",
        "> 전문 용어: 전이 학습: 원래 훈련된 모델과 다른 작업에 미리 훈련된 모델을 사용하는 것."
      ]
    },
    {
      "cell_type": "markdown",
      "metadata": {
        "id": "mEuD7jTSXxkI"
      },
      "source": [
        "The sixth line of our code tells fastai how to *fit* the model:\n",
        "\n",
        "```python\n",
        "learn.fine_tune(1)\n",
        "```\n",
        "\n",
        "As we've discussed, the architecture only describes a *template* for a mathematical function; it doesn't actually do anything until we provide values for the millions of parameters it contains.\n",
        "\n",
        "앞서 논의했듯이 아키텍처는 수학 함수에 대한 템플릿 만 설명할 뿐 , 수백만 개의 매개변수에 대한 값을 제공하기 전까지는 실제로는 아무것도 하지 않습니다.\n",
        "\n",
        "This is the key to deep learning—determining how to fit the parameters of a model to get it to solve your problem. In order to fit a model, we have to provide at least one piece of information: how many times to look at each image (known as number of *epochs*). The number of epochs you select will largely depend on how much time you have available, and how long you find it takes in practice to fit your model. If you select a number that is too small, you can always train for more epochs later.\n",
        "\n",
        "이것이 딥 러닝의 핵심입니다. 문제를 해결하기 위해 모델의 매개변수를 맞추는 방법을 결정하는 것입니다. 모델을 맞추려면 최소한 한 가지 정보를 제공해야 합니다. 각 이미지를 몇 번 볼 것인지( 에포크 수라고 함 )입니다. 선택하는 에포크 수는 사용 가능한 시간과 실제로 모델을 맞추는 데 걸리는 시간에 따라 크게 달라집니다. 너무 작은 숫자를 선택하면 나중에 언제든지 더 많은 에포크를 학습할 수 있습니다.\n",
        "\n",
        "But why is the method called `fine_tune`, and not `fit`? fastai actually *does* have a method called `fit`, which does indeed fit a model (i.e. look at images in the training set multiple times, each time updating the parameters to make the predictions closer and closer to the target labels). But in this case, we've started with a pretrained model, and we don't want to throw away all those capabilities that it already has. As you'll learn in this book, there are some important tricks to adapt a pretrained model for a new dataset—a process called *fine-tuning*.\n",
        "\n",
        "하지만 이 메서드가 왜 fit 가 아닌 fine_tune 라고 불리는 걸까요? fastai에는 실제로 fit 라는 메서드가 있는데 , 이 메서드는 실제로 모델을 피팅합니다(즉, 학습 세트의 이미지를 여러 번 살펴보고, 매번 매개변수를 업데이트하여 예측을 대상 레이블에 점점 더 가깝게 만듭니다). 하지만 이 경우 사전 학습된 모델로 시작했고, 이미 있는 모든 기능을 버리고 싶지 않습니다. 이 책에서 배우겠지만, 사전 학습된 모델을 새 데이터 세트에 맞게 조정하는 데는 몇 가지 중요한 요령이 있습니다. 이 프로세스를 미세 조정 이라고 합니다 ."
      ]
    },
    {
      "cell_type": "markdown",
      "metadata": {
        "id": "QIdbnWd8XxkI"
      },
      "source": [
        "> jargon: Fine-tuning: A transfer learning technique where the parameters of a pretrained model are updated by training for additional epochs using a different task to that used for pretraining.\n",
        "\n",
        "> 전문 용어: 미세 조정: 사전 훈련된 모델의 매개변수를 사전 훈련에 사용된 것과 다른 작업을 사용하여 추가 에포크 동안 훈련하여 업데이트하는 전이 학습 기법입니다."
      ]
    },
    {
      "cell_type": "markdown",
      "metadata": {
        "id": "iOVV6_bLXxkI"
      },
      "source": [
        "When you use the `fine_tune` method, fastai will use these tricks for you. There are a few parameters you can set (which we'll discuss later), but in the default form shown here, it does two steps:\n",
        "\n",
        "이 fine_tune 방법을 사용하면 fastai가 이러한 트릭을 대신 사용합니다. 설정할 수 있는 매개변수가 몇 가지 있지만(나중에 설명하겠습니다) 여기에 표시된 기본 양식에서는 두 단계를 거칩니다.\n",
        "\n",
        "1. Use one epoch to fit just those parts of the model necessary to get the new random head to work correctly with your dataset.\n",
        "1. Use the number of epochs requested when calling the method to fit the entire model, updating the weights of the later layers (especially the head) faster than the earlier layers (which, as we'll see, generally don't require many changes from the pretrained weights).\n",
        "\n",
        "\n",
        "1. 새로운 랜덤 헤드가 데이터 세트에서 올바르게 작동하도록 모델의 필요한 부분만 맞추려면 한 번의 에포크를 사용합니다.\n",
        "2. 전체 모델을 맞추기 위해 메서드를 호출할 때 요청된 에포크 수를 사용하여 나중 계층(특히 헤드)의 가중치를 이전 계층보다 더 빠르게 업데이트합니다(앞서 볼 수 있듯이 일반적으로 사전 학습된 가중치를 크게 변경할 필요가 없습니다).\n",
        "\n",
        "The *head* of a model is the part that is newly added to be specific to the new dataset. An *epoch* is one complete pass through the dataset. After calling `fit`, the results after each epoch are printed, showing the epoch number, the training and validation set losses (the \"measure of performance\" used for training the model), and any *metrics* you've requested (error rate, in this case).\n",
        "\n",
        "모델의 헤드 는 새 데이터 세트에 맞게 새로 추가된 부분입니다. 에포크는 데이터 세트를 완전히 통과하는 한 번의 패스입니다. fit 를 호출한 후 , 각 에포크 이후의 결과가 인쇄되어 에포크 번호, 학습 및 검증 세트 손실(모델 학습에 사용된 \"성능 측정\"), 요청한 모든 메트릭 (이 경우 오류율)이 표시됩니다.\n"
      ]
    },
    {
      "cell_type": "markdown",
      "metadata": {
        "id": "9wZ_RxpzXxkI"
      },
      "source": [
        "So, with all this code our model learned to recognize cats and dogs just from labeled examples. But how did it do it?\n",
        "\n",
        "그래서, 이 모든 코드로 우리 모델은 레이블이 붙은 예시에서만 고양이와 개를 인식하는 법을 배웠습니다. 하지만 어떻게 그럴 수 있었을까요?"
      ]
    },
    {
      "cell_type": "markdown",
      "metadata": {
        "id": "uAOhRGRCXxkJ"
      },
      "source": [
        "### What Our Image Recognizer Learned"
      ]
    },
    {
      "cell_type": "markdown",
      "metadata": {
        "id": "nwHSt6EpXxkJ"
      },
      "source": [
        "At this stage we have an image recognizer that is working very well, but we have no idea what it is actually doing! Although many people complain that deep learning results in impenetrable \"black box\" models (that is, something that gives predictions but that no one can understand), this really couldn't be further from the truth. There is a vast body of research showing how to deeply inspect deep learning models, and get rich insights from them. Having said that, all kinds of machine learning models (including deep learning, and traditional statistical models) can be challenging to fully understand, especially when considering how they will behave when coming across data that is very different to the data used to train them. We'll be discussing this issue throughout this book.\n",
        "\n",
        "이 단계에서는 매우 잘 작동하는 이미지 인식기가 있지만 실제로 무엇을 하는지 전혀 모릅니다! 많은 사람들이 딥 러닝이 이해할 수 없는 \"블랙박스\" 모델(즉, 예측을 제공하지만 아무도 이해할 수 없는 것)을 만들어낸다고 불평하지만, 이는 사실과는 거리가 멉니다. 딥 러닝 모델을 심층적으로 검사하고 이를 통해 풍부한 통찰력을 얻는 방법을 보여주는 방대한 연구 자료가 있습니다. 그렇긴 하지만 모든 종류의 머신 러닝 모델(딥 러닝 및 기존 통계 모델 포함)은 완전히 이해하기 어려울 수 있으며, 특히 이를 훈련하는 데 사용된 데이터와 매우 다른 데이터를 접했을 때 어떻게 동작할지 고려할 때 더욱 그렇습니다. 이 책 전체에서 이 문제에 대해 논의할 것입니다.\n",
        "\n",
        "In 2013 a PhD student, Matt Zeiler, and his supervisor, Rob Fergus, published the paper [\"Visualizing and Understanding Convolutional Networks\"](https://arxiv.org/pdf/1311.2901.pdf), which showed how to visualize the neural network weights learned in each layer of a model. They carefully analyzed the model that won the 2012 ImageNet competition, and used this analysis to greatly improve the model, such that they were able to go on to win the 2013 competition! <<img_layer1>> is the picture that they published of the first layer's weights.\n",
        "\n",
        "2013년에 박사과정 학생인 Matt Zeiler와 그의 지도교수인 Rob Fergus는 \"Visualizing and Understanding Convolutional Networks\"라는 논문을 발표했는데 , 이는 모델의 각 계층에서 학습한 신경망 가중치를 시각화하는 방법을 보여주었습니다. 그들은 2012년 ImageNet 대회에서 우승한 모델을 주의 깊게 분석했고, 이 분석을 사용하여 모델을 크게 개선하여 2013년 대회에서 우승할 수 있었습니다! < >는 그들이 발표한 첫 번째 계층의 가중치 사진입니다.\n"
      ]
    },
    {
      "cell_type": "markdown",
      "metadata": {
        "id": "yHOg9SYIXxkJ"
      },
      "source": [
        "<img src=\"https://github.com/fastai/fastbook/blob/master/images/layer1.png?raw=1\" alt=\"Activations of the first layer of a CNN\" width=\"300\" caption=\"Activations of the first layer of a CNN (courtesy of Matthew D. Zeiler and Rob Fergus)\" id=\"img_layer1\">"
      ]
    },
    {
      "cell_type": "markdown",
      "metadata": {
        "id": "kVrB-tomXxkJ"
      },
      "source": [
        "This picture requires some explanation. For each layer, the image part with the light gray background shows the reconstructed weights pictures, and the larger section at the bottom shows the parts of the training images that most strongly matched each set of weights. For layer 1, what we can see is that the model has discovered weights that represent diagonal, horizontal, and vertical edges, as well as various different gradients. (Note that for each layer only a subset of the features are shown; in practice there are thousands across all of the layers.) These are the basic building blocks that the model has learned for computer vision. They have been widely analyzed by neuroscientists and computer vision researchers, and it turns out that these learned building blocks are very similar to the basic visual machinery in the human eye, as well as the handcrafted computer vision features that were developed prior to the days of deep learning. The next layer is represented in <<img_layer2>>.\n",
        "\n",
        "이 그림에는 약간의 설명이 필요합니다. 각 계층에서 밝은 회색 배경의 이미지 부분은 재구성된 가중치 그림을 보여주고, 하단의 더 큰 섹션은 각 가중치 세트와 가장 강력하게 일치하는 훈련 이미지 부분을 보여줍니다. 계층 1의 경우, 모델이 대각선, 수평 및 수직 모서리와 다양한 다른 그래디언트를 나타내는 가중치를 발견했다는 것을 알 수 있습니다. (각 계층에서 기능의 하위 집합만 표시되며 실제로는 모든 계층에 걸쳐 수천 개가 있습니다.) 이것들은 모델이 컴퓨터 비전을 위해 학습한 기본 구성 요소입니다. 이것들은 신경 과학자와 컴퓨터 비전 연구자에 의해 광범위하게 분석되었으며, 이러한 학습된 구성 요소는 인간 눈의 기본 시각 기계와 딥 러닝 시대 이전에 개발된 수작업 컴퓨터 비전 기능과 매우 유사하다는 것이 밝혀졌습니다. 다음 계층은 < >로 표현됩니다.\n"
      ]
    },
    {
      "cell_type": "markdown",
      "metadata": {
        "id": "wvVusRAQXxkJ"
      },
      "source": [
        "<img src=\"https://github.com/fastai/fastbook/blob/master/images/layer2.png?raw=1\" alt=\"Activations of the second layer of a CNN\" width=\"800\" caption=\"Activations of the second layer of a CNN (courtesy of Matthew D. Zeiler and Rob Fergus)\" id=\"img_layer2\">"
      ]
    },
    {
      "cell_type": "markdown",
      "metadata": {
        "id": "ay5Dy_H3XxkJ"
      },
      "source": [
        "For layer 2, there are nine examples of weight reconstructions for each of the features found by the model. We can see that the model has learned to create feature detectors that look for corners, repeating lines, circles, and other simple patterns. These are built from the basic building blocks developed in the first layer. For each of these, the right-hand side of the picture shows small patches from actual images which these features most closely match. For instance, the particular pattern in row 2, column 1 matches the gradients and textures associated with sunsets.\n",
        "\n",
        "레이어 2의 경우 모델에서 찾은 각 피처에 대한 가중치 재구성의 예가 9개 있습니다. 모델이 모서리, 반복되는 선, 원 및 기타 간단한 패턴을 찾는 피처 감지기를 만드는 방법을 배웠음을 알 수 있습니다. 이는 첫 번째 레이어에서 개발한 기본 구성 요소에서 구축됩니다. 이러한 각 피처에 대해 그림의 오른쪽에는 이러한 피처가 가장 밀접하게 일치하는 실제 이미지의 작은 패치가 표시됩니다. 예를 들어, 행 2, 열 1의 특정 패턴은 일몰과 관련된 그라디언트 및 텍스처와 일치합니다.\n",
        "\n",
        "<<img_layer3>> shows the image from the paper showing the results of reconstructing the features of layer 3.\n",
        "\n",
        "< >는 3번째 레이어의 특징을 재구성한 결과를 보여주는 논문의 이미지를 보여줍니다."
      ]
    },
    {
      "cell_type": "markdown",
      "metadata": {
        "id": "zPHZZj8GXxkJ"
      },
      "source": [
        "<img src=\"https://github.com/fastai/fastbook/blob/master/images/chapter2_layer3.PNG?raw=1\" alt=\"Activations of the third layer of a CNN\" width=\"800\" caption=\"Activations of the third layer of a CNN (courtesy of Matthew D. Zeiler and Rob Fergus)\" id=\"img_layer3\">"
      ]
    },
    {
      "cell_type": "markdown",
      "metadata": {
        "id": "rZG_NT7FXxkJ"
      },
      "source": [
        "As you can see by looking at the righthand side of this picture, the features are now able to identify and match with higher-level semantic components, such as car wheels, text, and flower petals. Using these components, layers four and five can identify even higher-level concepts, as shown in <<img_layer4>>.\n",
        "\n",
        "이 그림의 오른쪽을 보면 알 수 있듯이, 이제 피처는 자동차 바퀴, 텍스트, 꽃잎과 같은 상위 수준의 의미적 구성 요소를 식별하고 일치시킬 수 있습니다. 이러한 구성 요소를 사용하면 레이어 4와 5는 < >에 표시된 것처럼 더 높은 수준의 개념을 식별할 수 있습니다."
      ]
    },
    {
      "cell_type": "markdown",
      "metadata": {
        "id": "5F_UYyDvXxkJ"
      },
      "source": [
        "<img src=\"https://github.com/fastai/fastbook/blob/master/images/chapter2_layer4and5.PNG?raw=1\" alt=\"Activations of layers 4 and 5 of a CNN\" width=\"800\" caption=\"Activations of layers 4 and 5 of a CNN (courtesy of Matthew D. Zeiler and Rob Fergus)\" id=\"img_layer4\">"
      ]
    },
    {
      "cell_type": "markdown",
      "metadata": {
        "id": "3Zahisa5XxkJ"
      },
      "source": [
        "This article was studying an older model called *AlexNet* that only contained five layers. Networks developed since then can have hundreds of layers—so you can imagine how rich the features developed by these models can be!\n",
        "\n",
        "이 글은 AlexNet 이라는 오래된 모델을 연구했는데, 이 모델 은 5개의 레이어만 포함하고 있었습니다. 그 이후로 개발된 네트워크는 수백 개의 레이어를 가질 수 있습니다. 따라서 이 모델에서 개발된 피처가 얼마나 풍부할 수 있는지 상상해 보세요!\n",
        "\n",
        "When we fine-tuned our pretrained model earlier, we adapted what those last layers focus on (flowers, humans, animals) to specialize on the cats versus dogs problem. More generally, we could specialize such a pretrained model on many different tasks. Let's have a look at some examples.\n",
        "\n",
        "이전에 사전 학습된 모델을 미세 조정할 때, 우리는 마지막 레이어가 집중하는 것(꽃, 사람, 동물)을 고양이 대 개 문제에 특화하도록 조정했습니다. 더 일반적으로, 우리는 이러한 사전 학습된 모델을 여러 가지 다른 작업에 특화할 수 있습니다. 몇 가지 예를 살펴보겠습니다.\n"
      ]
    },
    {
      "cell_type": "markdown",
      "metadata": {
        "id": "YNJTeJ2TXxkJ"
      },
      "source": [
        "### Image Recognizers Can Tackle Non-Image Tasks"
      ]
    },
    {
      "cell_type": "markdown",
      "metadata": {
        "id": "Xj5l-4jaXxkJ"
      },
      "source": [
        "An image recognizer can, as its name suggests, only recognize images. But a lot of things can be represented as images, which means that an image recogniser can learn to complete many tasks.\n",
        "\n",
        "이미지 인식기는 이름에서 알 수 있듯이 이미지만 인식할 수 있습니다. 하지만 많은 것들이 이미지로 표현될 수 있으므로 이미지 인식기는 많은 작업을 완료하는 법을 배울 수 있습니다.\n",
        "\n",
        "For instance, a sound can be converted to a spectrogram, which is a chart that shows the amount of each frequency at each time in an audio file. Fast.ai student Ethan Sutin used this approach to easily beat the published accuracy of a state-of-the-art [environmental sound detection model](https://medium.com/@etown/great-results-on-audio-classification-with-fastai-library-ccaf906c5f52) using a dataset of 8,732 urban sounds. fastai's `show_batch` clearly shows how each different sound has a quite distinctive spectrogram, as you can see in <<img_spect>>.\n",
        "\n",
        "예를 들어, 소리는 스펙트로그램으로 변환될 수 있는데, 스펙트로그램은 오디오 파일에서 각 시간의 각 주파수의 양을 보여주는 차트입니다. Fast.ai 학생인 Ethan Sutin은 이 접근 방식을 사용하여 8,732개의 도시 소리 데이터 세트를 사용하여 최첨단 환경 소리 감지 모델 게시된 정확도를 쉽게 이겼습니다. fastai show_batch 는 < >에서 볼 수 있듯이 각기 다른 소리마다 상당히 독특한 스펙트로그램이 있다는 것을 명확하게 보여줍니다 .\n"
      ]
    },
    {
      "cell_type": "markdown",
      "metadata": {
        "id": "g1OasdKkXxkJ"
      },
      "source": [
        "<img alt=\"show_batch with spectrograms of sounds\" width=\"400\" caption=\"show_batch with spectrograms of sounds\" id=\"img_spect\" src=\"https://github.com/fastai/fastbook/blob/master/images/att_00012.png?raw=1\">"
      ]
    },
    {
      "cell_type": "markdown",
      "metadata": {
        "id": "u7CCCgbEXxkJ"
      },
      "source": [
        "A time series can easily be converted into an image by simply plotting the time series on a graph. However, it is often a good idea to try to represent your data in a way that makes it as easy as possible to pull out the most important components. In a time series, things like seasonality and anomalies are most likely to be of interest. There are various transformations available for time series data. For instance, fast.ai student Ignacio Oguiza created images from a time series dataset for olive oil classification, using a technique called Gramian Angular Difference Field (GADF); you can see the result in <<ts_image>>. He then fed those images to an image classification model just like the one you see in this chapter. His results, despite having only 30 training set images, were well over 90% accurate, and close to the state of the art.\n",
        "\n",
        "시계열은 그래프에 시계열을 표시하기만 하면 쉽게 이미지로 변환할 수 있습니다. 그러나 가장 중요한 구성 요소를 최대한 쉽게 추출할 수 있는 방식으로 데이터를 표현하는 것이 좋습니다. 시계열에서 계절성 및 이상치와 같은 사항이 가장 관심을 끌 가능성이 높습니다. 시계열 데이터에는 다양한 변환이 가능합니다. 예를 들어, fast.ai 학생 Ignacio Oguiza는 Gramian Angular Difference Field(GADF)라는 기술을 사용하여 올리브 오일 분류를 위한 시계열 데이터 세트에서 이미지를 만들었습니다. < >에서 결과를 볼 수 있습니다. 그런 다음 그는 이 장에서 볼 수 있는 것과 같은 이미지 분류 모델에 해당 이미지를 제공했습니다. 그의 결과는 훈련 세트 이미지가 30개에 불과했음에도 불구하고 90%가 넘는 정확도를 보였으며 최첨단 기술에 가깝습니다."
      ]
    },
    {
      "cell_type": "markdown",
      "metadata": {
        "id": "kARD5HDWXxkJ"
      },
      "source": [
        "<img alt=\"Converting a time series into an image\" width=\"700\" caption=\"Converting a time series into an image\" id=\"ts_image\" src=\"https://github.com/fastai/fastbook/blob/master/images/att_00013.png?raw=1\">"
      ]
    },
    {
      "cell_type": "markdown",
      "metadata": {
        "id": "i7rODr0LXxkJ"
      },
      "source": [
        "Another interesting fast.ai student project example comes from Gleb Esman. He was working on fraud detection at Splunk, using a dataset of users' mouse movements and mouse clicks. He turned these into pictures by drawing an image where the position, speed, and acceleration of the mouse pointer was displayed using coloured lines, and the clicks were displayed using [small colored circles](https://www.splunk.com/en_us/blog/security/deep-learning-with-splunk-and-tensorflow-for-security-catching-the-fraudster-in-neural-networks-with-behavioral-biometrics.html), as shown in <<splunk>>. He then fed this into an image recognition model just like the one we've used in this chapter, and it worked so well that it led to a patent for this approach to fraud analytics!\n",
        "\n",
        "또 다른 흥미로운 fast.ai 학생 프로젝트 사례는 Gleb Esman 에게서 나왔습니다. 그는 Splunk에서 사용자의 마우스 움직임과 마우스 클릭 데이터 세트를 사용하여 사기 탐지 작업을 하고 있었습니다. 그는 마우스 포인터의 위치, 속도, 가속도가 컬러 선을 사용하여 표시되고 클릭은 작은 컬러 원 으로 표시되는 이미지를 그려서 이를 그림으로 바꾸었습니다 (< > 참조 ). 그런 다음 그는 이것을 이 장에서 사용한 것과 똑같은 이미지 인식 모델에 입력했고, 매우 잘 작동하여 사기 분석에 대한 이 접근 방식에 대한 특허로 이어졌습니다!"
      ]
    },
    {
      "cell_type": "markdown",
      "metadata": {
        "id": "Eh9etyedXxkJ"
      },
      "source": [
        "<img alt=\"Converting computer mouse behavior to an image\" width=\"450\" caption=\"Converting computer mouse behavior to an image\" id=\"splunk\" src=\"https://github.com/fastai/fastbook/blob/master/images/att_00014.png?raw=1\">"
      ]
    },
    {
      "cell_type": "markdown",
      "metadata": {
        "id": "nULu3T1DXxkJ"
      },
      "source": [
        "Another example comes from the paper [\"Malware Classification with Deep Convolutional Neural Networks\"](https://ieeexplore.ieee.org/abstract/document/8328749) by Mahmoud Kalash et al., which explains that \"the malware binary file is divided into 8-bit sequences which are then converted to equivalent decimal values. This decimal vector is reshaped and a gray-scale image is generated that represents the malware sample,\" like in <<malware_proc>>.\n",
        "\n",
        "또 다른 예는 Mahmoud Kalash 등이 쓴 논문 \"Malware Classification with Deep Convolutional Neural Networks\" 에서 나온 것으로, \"맬웨어 바이너리 파일을 8비트 시퀀스로 나누어 동등한 10진수 값으로 변환합니다. 이 10진수 벡터를 재구성하고 맬웨어 샘플을 나타내는 회색조 이미지를 생성합니다.\"라고 설명합니다(< > 참조)."
      ]
    },
    {
      "cell_type": "markdown",
      "metadata": {
        "id": "8d8hZ5C-XxkJ"
      },
      "source": [
        "<img alt=\"Malware classification process\" width=\"623\" caption=\"Malware classification process\" id=\"malware_proc\" src=\"https://github.com/fastai/fastbook/blob/master/images/att_00055.png?raw=1\">"
      ]
    },
    {
      "cell_type": "markdown",
      "metadata": {
        "id": "uR-ShgYoXxkJ"
      },
      "source": [
        "The authors then show \"pictures\" generated through this process of malware in different categories, as shown in <<malware_eg>>.\n",
        "\n",
        "그런 다음 저자는 < >에서와 같이 다양한 범주의 맬웨어에 대한 이러한 프로세스를 통해 생성된 \"그림\"을 보여줍니다."
      ]
    },
    {
      "cell_type": "markdown",
      "metadata": {
        "id": "SSBh_rjRXxkJ"
      },
      "source": [
        "<img alt=\"Malware examples\" width=\"650\" caption=\"Malware examples\" id=\"malware_eg\" src=\"https://github.com/fastai/fastbook/blob/master/images/att_00056.png?raw=1\">"
      ]
    },
    {
      "cell_type": "markdown",
      "metadata": {
        "id": "c8zgcsZkXxkJ"
      },
      "source": [
        "As you can see, the different types of malware look very distinctive to the human eye. The model the researchers trained based on this image representation was more accurate at malware classification than any previous approach shown in the academic literature. This suggests a good rule of thumb for converting a dataset into an image representation: if the human eye can recognize categories from the images, then a deep learning model should be able to do so too.\n",
        "\n",
        "보시다시피, 다양한 유형의 맬웨어는 인간의 눈에 매우 독특하게 보입니다. 연구자들이 이 이미지 표현을 기반으로 훈련한 모델은 학술 문헌에 나와 있는 이전 접근 방식보다 맬웨어 분류에 더 정확했습니다. 이는 데이터 세트를 이미지 표현으로 변환하는 데 좋은 경험 법칙을 시사합니다. 인간의 눈이 이미지에서 범주를 인식할 수 있다면 딥 러닝 모델도 그렇게 할 수 있어야 합니다.\n",
        "\n",
        "In general, you'll find that a small number of general approaches in deep learning can go a long way, if you're a bit creative in how you represent your data! You shouldn't think of approaches like the ones described here as \"hacky workarounds,\" because actually they often (as here) beat previously state-of-the-art results. These really are the right ways to think about these problem domains.\n",
        "\n",
        "일반적으로, 데이터를 표현하는 방법에 약간 창의적이라면 딥 러닝에서 소수의 일반적인 접근 방식이 큰 도움이 될 수 있습니다! 여기에 설명된 것과 같은 접근 방식을 \"해킹 해결책\"이라고 생각해서는 안 됩니다. 실제로 이러한 접근 방식은 종종(여기에서처럼) 이전의 최첨단 결과를 능가하기 때문입니다. 이러한 문제 도메인에 대해 생각하는 올바른 방법입니다."
      ]
    },
    {
      "cell_type": "markdown",
      "metadata": {
        "id": "ImIUtKTeXxkJ"
      },
      "source": [
        "### Jargon Recap"
      ]
    },
    {
      "cell_type": "markdown",
      "metadata": {
        "id": "rkY2czFkXxkJ"
      },
      "source": [
        "We just covered a lot of information so let's recap briefly, <<dljargon>> provides a handy vocabulary.\n",
        "\n",
        "```asciidoc\n",
        "[[dljargon]]\n",
        ".Deep learning vocabulary\n",
        "[options=\"header\"]\n",
        "|=====\n",
        "| Term | Meaning\n",
        "|Label | The data that we're trying to predict, such as \"dog\" or \"cat\"\n",
        "|Architecture | The _template_ of the model that we're trying to fit; the actual mathematical function that we're passing the input data and parameters to\n",
        "|Model | The combination of the architecture with a particular set of parameters\n",
        "|Parameters | The values in the model that change what task it can do, and are updated through model training\n",
        "|Fit | Update the parameters of the model such that the predictions of the model using the input data match the target labels\n",
        "|Train | A synonym for _fit_\n",
        "|Pretrained model | A model that has already been trained, generally using a large dataset, and will be fine-tuned\n",
        "|Fine-tune | Update a pretrained model for a different task\n",
        "|Epoch | One complete pass through the input data\n",
        "|Loss | A measure of how good the model is, chosen to drive training via SGD\n",
        "|Metric | A measurement of how good the model is, using the validation set, chosen for human consumption\n",
        "|Validation set | A set of data held out from training, used only for measuring how good the model is\n",
        "|Training set | The data used for fitting the model; does not include any data from the validation set\n",
        "|Overfitting | Training a model in such a way that it _remembers_ specific features of the input data, rather than generalizing well to data not seen during training\n",
        "|CNN | Convolutional neural network; a type of neural network that works particularly well for computer vision tasks\n",
        "|=====\n",
        "```"
      ]
    },
    {
      "cell_type": "markdown",
      "metadata": {
        "id": "BEDtTzNgXxkJ"
      },
      "source": [
        "With this vocabulary in hand, we are now in a position to bring together all the key concepts introduced so far. Take a moment to review those definitions and read the following summary. If you can follow the explanation, then you're well equipped to understand the discussions to come.\n",
        "\n",
        "*Machine learning* is a discipline where we define a program not by writing it entirely ourselves, but by learning from data. *Deep learning* is a specialty within machine learning that uses *neural networks* with multiple *layers*. *Image classification* is a representative example (also known as *image recognition*). We start with *labeled data*; that is, a set of images where we have assigned a *label* to each image indicating what it represents. Our goal is to produce a program, called a *model*, which, given a new image, will make an accurate *prediction* regarding what that new image represents.\n",
        "\n",
        "Every model starts with a choice of *architecture*, a general template for how that kind of model works internally. The process of *training* (or *fitting*) the model is the process of finding a set of *parameter values* (or *weights*) that specialize that general architecture into a model that works well for our particular kind of data. In order to define how well a model does on a single prediction, we need to define a *loss function*, which determines how we score a prediction as good or bad.\n",
        "\n",
        "To make the training process go faster, we might start with a *pretrained model*—a model that has already been trained on someone else's data. We can then adapt it to our data by training it a bit more on our data, a process called *fine-tuning*.\n",
        "\n",
        "When we train a model, a key concern is to ensure that our model *generalizes*—that is, that it learns general lessons from our data which also apply to new items it will encounter, so that it can make good predictions on those items. The risk is that if we train our model badly, instead of learning general lessons it effectively memorizes what it has already seen, and then it will make poor predictions about new images. Such a failure is called *overfitting*. In order to avoid this, we always divide our data into two parts, the *training set* and the *validation set*. We train the model by showing it only the training set and then we evaluate how well the model is doing by seeing how well it performs on items from the validation set. In this way, we check if the lessons the model learns from the training set are lessons that generalize to the validation set. In order for a person to assess how well the model is doing on the validation set overall, we define a *metric*. During the training process, when the model has seen every item in the training set, we call that an *epoch*.\n",
        "\n",
        "All these concepts apply to machine learning in general. That is, they apply to all sorts of schemes for defining a model by training it with data. What makes deep learning distinctive is a particular class of architectures: the architectures based on *neural networks*. In particular, tasks like image classification rely heavily on *convolutional neural networks*, which we will discuss shortly."
      ]
    },
    {
      "cell_type": "markdown",
      "metadata": {
        "id": "RSKRpKXJXxkK"
      },
      "source": [
        "## Deep Learning Is Not Just for Image Classification"
      ]
    },
    {
      "cell_type": "markdown",
      "metadata": {
        "id": "Pcywp1O3XxkK"
      },
      "source": [
        "Deep learning's effectiveness for classifying images has been widely discussed in recent years, even showing _superhuman_ results on complex tasks like recognizing malignant tumors in CT scans. But it can do a lot more than this, as we will show here.\n",
        "\n",
        "최근 몇 년 동안 이미지 분류에 대한 딥 러닝의 효과에 대한 논의가 널리 진행되었으며, CT 스캔에서 악성 종양을 인식하는 것과 같은 복잡한 작업에서도 초인적인 결과를 보였습니다. 하지만 여기서 보여드리겠지만, 이보다 훨씬 더 많은 것을 할 수 있습니다.\n",
        "\n",
        "For instance, let's talk about something that is critically important for autonomous vehicles: localizing objects in a picture. If a self-driving car doesn't know where a pedestrian is, then it doesn't know how to avoid one! Creating a model that can recognize the content of every individual pixel in an image is called *segmentation*. Here is how we can train a segmentation model with fastai, using a subset of the [*Camvid* dataset](http://www0.cs.ucl.ac.uk/staff/G.Brostow/papers/Brostow_2009-PRL.pdf) from the paper \"Semantic Object Classes in Video: A High-Definition Ground Truth Database\" by Gabruel J. Brostow, Julien Fauqueur, and Roberto Cipolla:\n",
        "\n",
        "예를 들어, 자율 주행차에 매우 중요한 것, 즉 사진 속 물체의 위치를 ​​파악하는 것에 대해 이야기해 보겠습니다. 자율 주행차가 보행자가 어디에 있는지 모른다면 보행자를 피하는 방법도 모릅니다! 이미지 속의 모든 개별 픽셀의 내용을 인식할 수 있는 모델을 만드는 것을 분할 이라고 합니다. Gabruel J. Brostow, Julien Fauqueur, Roberto Cipolla의 논문 \"Semantic Object Classes in Video: A High-Definition Ground Truth Database\"에서 Camvid 데이터 세트 의 하위 집합을 사용하여 fastai로 분할 모델을 학습하는 방법은 다음과 같습니다."
      ]
    },
    {
      "cell_type": "code",
      "execution_count": 18,
      "metadata": {
        "colab": {
          "base_uri": "https://localhost:8080/",
          "height": 384
        },
        "id": "X5A7GL99XxkK",
        "outputId": "df4f237e-3217-4172-a1ed-580c94984704"
      },
      "outputs": [
        {
          "output_type": "display_data",
          "data": {
            "text/plain": [
              "<IPython.core.display.HTML object>"
            ],
            "text/html": [
              "\n",
              "<style>\n",
              "    /* Turns off some styling */\n",
              "    progress {\n",
              "        /* gets rid of default border in Firefox and Opera. */\n",
              "        border: none;\n",
              "        /* Needs to be in here for Safari polyfill so background images work as expected. */\n",
              "        background-size: auto;\n",
              "    }\n",
              "    progress:not([value]), progress:not([value])::-webkit-progress-bar {\n",
              "        background: repeating-linear-gradient(45deg, #7e7e7e, #7e7e7e 10px, #5c5c5c 10px, #5c5c5c 20px);\n",
              "    }\n",
              "    .progress-bar-interrupted, .progress-bar-interrupted::-webkit-progress-bar {\n",
              "        background: #F44336;\n",
              "    }\n",
              "</style>\n"
            ]
          },
          "metadata": {}
        },
        {
          "output_type": "display_data",
          "data": {
            "text/plain": [
              "<IPython.core.display.HTML object>"
            ],
            "text/html": [
              "\n",
              "    <div>\n",
              "      <progress value='2318336' class='' max='2314212' style='width:300px; height:20px; vertical-align: middle;'></progress>\n",
              "      100.18% [2318336/2314212 00:00&lt;00:00]\n",
              "    </div>\n",
              "    "
            ]
          },
          "metadata": {}
        },
        {
          "output_type": "display_data",
          "data": {
            "text/plain": [
              "<IPython.core.display.HTML object>"
            ],
            "text/html": [
              "\n",
              "<style>\n",
              "    /* Turns off some styling */\n",
              "    progress {\n",
              "        /* gets rid of default border in Firefox and Opera. */\n",
              "        border: none;\n",
              "        /* Needs to be in here for Safari polyfill so background images work as expected. */\n",
              "        background-size: auto;\n",
              "    }\n",
              "    progress:not([value]), progress:not([value])::-webkit-progress-bar {\n",
              "        background: repeating-linear-gradient(45deg, #7e7e7e, #7e7e7e 10px, #5c5c5c 10px, #5c5c5c 20px);\n",
              "    }\n",
              "    .progress-bar-interrupted, .progress-bar-interrupted::-webkit-progress-bar {\n",
              "        background: #F44336;\n",
              "    }\n",
              "</style>\n"
            ]
          },
          "metadata": {}
        },
        {
          "output_type": "display_data",
          "data": {
            "text/plain": [
              "<IPython.core.display.HTML object>"
            ],
            "text/html": [
              "<table border=\"1\" class=\"dataframe\">\n",
              "  <thead>\n",
              "    <tr style=\"text-align: left;\">\n",
              "      <th>epoch</th>\n",
              "      <th>train_loss</th>\n",
              "      <th>valid_loss</th>\n",
              "      <th>time</th>\n",
              "    </tr>\n",
              "  </thead>\n",
              "  <tbody>\n",
              "    <tr>\n",
              "      <td>0</td>\n",
              "      <td>3.192086</td>\n",
              "      <td>2.641425</td>\n",
              "      <td>00:02</td>\n",
              "    </tr>\n",
              "  </tbody>\n",
              "</table>"
            ]
          },
          "metadata": {}
        },
        {
          "output_type": "display_data",
          "data": {
            "text/plain": [
              "<IPython.core.display.HTML object>"
            ],
            "text/html": [
              "\n",
              "<style>\n",
              "    /* Turns off some styling */\n",
              "    progress {\n",
              "        /* gets rid of default border in Firefox and Opera. */\n",
              "        border: none;\n",
              "        /* Needs to be in here for Safari polyfill so background images work as expected. */\n",
              "        background-size: auto;\n",
              "    }\n",
              "    progress:not([value]), progress:not([value])::-webkit-progress-bar {\n",
              "        background: repeating-linear-gradient(45deg, #7e7e7e, #7e7e7e 10px, #5c5c5c 10px, #5c5c5c 20px);\n",
              "    }\n",
              "    .progress-bar-interrupted, .progress-bar-interrupted::-webkit-progress-bar {\n",
              "        background: #F44336;\n",
              "    }\n",
              "</style>\n"
            ]
          },
          "metadata": {}
        },
        {
          "output_type": "display_data",
          "data": {
            "text/plain": [
              "<IPython.core.display.HTML object>"
            ],
            "text/html": [
              "<table border=\"1\" class=\"dataframe\">\n",
              "  <thead>\n",
              "    <tr style=\"text-align: left;\">\n",
              "      <th>epoch</th>\n",
              "      <th>train_loss</th>\n",
              "      <th>valid_loss</th>\n",
              "      <th>time</th>\n",
              "    </tr>\n",
              "  </thead>\n",
              "  <tbody>\n",
              "    <tr>\n",
              "      <td>0</td>\n",
              "      <td>2.039812</td>\n",
              "      <td>1.812756</td>\n",
              "      <td>00:02</td>\n",
              "    </tr>\n",
              "    <tr>\n",
              "      <td>1</td>\n",
              "      <td>1.702449</td>\n",
              "      <td>1.332637</td>\n",
              "      <td>00:02</td>\n",
              "    </tr>\n",
              "    <tr>\n",
              "      <td>2</td>\n",
              "      <td>1.530496</td>\n",
              "      <td>1.397009</td>\n",
              "      <td>00:01</td>\n",
              "    </tr>\n",
              "    <tr>\n",
              "      <td>3</td>\n",
              "      <td>1.381098</td>\n",
              "      <td>1.079585</td>\n",
              "      <td>00:01</td>\n",
              "    </tr>\n",
              "    <tr>\n",
              "      <td>4</td>\n",
              "      <td>1.242561</td>\n",
              "      <td>0.921947</td>\n",
              "      <td>00:01</td>\n",
              "    </tr>\n",
              "    <tr>\n",
              "      <td>5</td>\n",
              "      <td>1.116105</td>\n",
              "      <td>0.902602</td>\n",
              "      <td>00:01</td>\n",
              "    </tr>\n",
              "    <tr>\n",
              "      <td>6</td>\n",
              "      <td>1.018028</td>\n",
              "      <td>0.839516</td>\n",
              "      <td>00:01</td>\n",
              "    </tr>\n",
              "    <tr>\n",
              "      <td>7</td>\n",
              "      <td>0.938538</td>\n",
              "      <td>0.839180</td>\n",
              "      <td>00:01</td>\n",
              "    </tr>\n",
              "  </tbody>\n",
              "</table>"
            ]
          },
          "metadata": {}
        }
      ],
      "source": [
        "path = untar_data(URLs.CAMVID_TINY)\n",
        "dls = SegmentationDataLoaders.from_label_func(\n",
        "    path, bs=8, fnames = get_image_files(path/\"images\"),\n",
        "    label_func = lambda o: path/'labels'/f'{o.stem}_P{o.suffix}',\n",
        "    codes = np.loadtxt(path/'codes.txt', dtype=str)\n",
        ")\n",
        "\n",
        "learn = unet_learner(dls, resnet34)\n",
        "learn.fine_tune(8)"
      ]
    },
    {
      "cell_type": "markdown",
      "metadata": {
        "id": "PRQ3AbzPXxkK"
      },
      "source": [
        "We are not even going to walk through this code line by line, because it is nearly identical to our previous example! (Although we will be doing a deep dive into segmentation models in <<chapter_arch_details>>, along with all of the other models that we are briefly introducing in this chapter, and many, many more.)\n",
        "\n",
        "우리는 이 코드를 줄마다 살펴보지도 않을 것입니다. 왜냐하면 이 코드는 이전 예제와 거의 동일하기 때문입니다!(하지만 우리는 < >에서 세그먼테이션 모델에 대해 심층적으로 살펴볼 것이고, 이 장에서 간략하게 소개하는 다른 모든 모델과 더불어, 훨씬 더 많은 모델에 대해서도 살펴볼 것입니다.)\n",
        "\n",
        "We can visualize how well it achieved its task, by asking the model to color-code each pixel of an image. As you can see, it nearly perfectly classifies every pixel in every object. For instance, notice that all of the cars are overlaid with the same color and all of the trees are overlaid with the same color (in each pair of images, the lefthand image is the ground truth label and the right is the prediction from the model):\n",
        "\n",
        "모델에 이미지의 각 픽셀에 색상 코드를 지정하도록 요청하면 작업을 얼마나 잘 달성했는지 시각화할 수 있습니다. 보시다시피, 모든 객체의 모든 픽셀을 거의 완벽하게 분류합니다. 예를 들어, 모든 자동차가 같은 색상으로 겹쳐져 있고 모든 나무가 같은 색상으로 겹쳐져 있습니다(각 이미지 쌍에서 왼쪽 이미지는 기준 진실 레이블이고 오른쪽은 모델의 예측입니다)."
      ]
    },
    {
      "cell_type": "code",
      "execution_count": 19,
      "metadata": {
        "colab": {
          "base_uri": "https://localhost:8080/",
          "height": 732
        },
        "id": "Oxzfoot2XxkK",
        "outputId": "4e1b79e1-c9f7-4c6b-d0a4-ff2cacda4297"
      },
      "outputs": [
        {
          "output_type": "display_data",
          "data": {
            "text/plain": [
              "<IPython.core.display.HTML object>"
            ],
            "text/html": [
              "\n",
              "<style>\n",
              "    /* Turns off some styling */\n",
              "    progress {\n",
              "        /* gets rid of default border in Firefox and Opera. */\n",
              "        border: none;\n",
              "        /* Needs to be in here for Safari polyfill so background images work as expected. */\n",
              "        background-size: auto;\n",
              "    }\n",
              "    progress:not([value]), progress:not([value])::-webkit-progress-bar {\n",
              "        background: repeating-linear-gradient(45deg, #7e7e7e, #7e7e7e 10px, #5c5c5c 10px, #5c5c5c 20px);\n",
              "    }\n",
              "    .progress-bar-interrupted, .progress-bar-interrupted::-webkit-progress-bar {\n",
              "        background: #F44336;\n",
              "    }\n",
              "</style>\n"
            ]
          },
          "metadata": {}
        },
        {
          "output_type": "display_data",
          "data": {
            "text/plain": [
              "<IPython.core.display.HTML object>"
            ],
            "text/html": []
          },
          "metadata": {}
        },
        {
          "output_type": "display_data",
          "data": {
            "text/plain": [
              "<Figure size 700x800 with 12 Axes>"
            ],
            "image/png": "[encoded data removed]"
          },
          "metadata": {}
        }
      ],
      "source": [
        "learn.show_results(max_n=6, figsize=(7,8))"
      ]
    },
    {
      "cell_type": "markdown",
      "metadata": {
        "id": "HlQNP-trXxkK"
      },
      "source": [
        "One other area where deep learning has dramatically improved in the last couple of years is natural language processing (NLP). Computers can now generate text, translate automatically from one language to another, analyze comments, label words in sentences, and much more. Here is all of the code necessary to train a model that can classify the sentiment of a movie review better than anything that existed in the world just five years ago:\n",
        "\n",
        "지난 몇 년 동안 딥 러닝이 극적으로 개선된 또 다른 분야는 자연어 처리(NLP)입니다. 컴퓨터는 이제 텍스트를 생성하고, 한 언어에서 다른 언어로 자동 번역하고, 댓글을 분석하고, 문장의 단어에 레이블을 붙이는 등의 작업을 할 수 있습니다. 5년 전만 해도 세상에 존재했던 어떤 것보다 영화 리뷰의 감정을 더 잘 분류할 수 있는 모델을 훈련하는 데 필요한 모든 코드는 다음과 같습니다."
      ]
    },
    {
      "cell_type": "code",
      "execution_count": 21,
      "metadata": {
        "colab": {
          "base_uri": "https://localhost:8080/",
          "height": 407
        },
        "id": "9uA7tcE2XxkK",
        "outputId": "d72b9905-fa50-4f53-872e-485c06d57bc8"
      },
      "outputs": [
        {
          "output_type": "display_data",
          "data": {
            "text/plain": [
              "<IPython.core.display.HTML object>"
            ],
            "text/html": [
              "\n",
              "<style>\n",
              "    /* Turns off some styling */\n",
              "    progress {\n",
              "        /* gets rid of default border in Firefox and Opera. */\n",
              "        border: none;\n",
              "        /* Needs to be in here for Safari polyfill so background images work as expected. */\n",
              "        background-size: auto;\n",
              "    }\n",
              "    progress:not([value]), progress:not([value])::-webkit-progress-bar {\n",
              "        background: repeating-linear-gradient(45deg, #7e7e7e, #7e7e7e 10px, #5c5c5c 10px, #5c5c5c 20px);\n",
              "    }\n",
              "    .progress-bar-interrupted, .progress-bar-interrupted::-webkit-progress-bar {\n",
              "        background: #F44336;\n",
              "    }\n",
              "</style>\n"
            ]
          },
          "metadata": {}
        },
        {
          "output_type": "display_data",
          "data": {
            "text/plain": [
              "<IPython.core.display.HTML object>"
            ],
            "text/html": [
              "\n",
              "    <div>\n",
              "      <progress value='0' class='' max='1' style='width:300px; height:20px; vertical-align: middle;'></progress>\n",
              "      0.00% [0/1 00:00&lt;?]\n",
              "    </div>\n",
              "    \n",
              "<table border=\"1\" class=\"dataframe\">\n",
              "  <thead>\n",
              "    <tr style=\"text-align: left;\">\n",
              "      <th>epoch</th>\n",
              "      <th>train_loss</th>\n",
              "      <th>valid_loss</th>\n",
              "      <th>accuracy</th>\n",
              "      <th>time</th>\n",
              "    </tr>\n",
              "  </thead>\n",
              "  <tbody>\n",
              "  </tbody>\n",
              "</table><p>\n",
              "\n",
              "    <div>\n",
              "      <progress value='714' class='' max='1562' style='width:300px; height:20px; vertical-align: middle;'></progress>\n",
              "      45.71% [714/1562 01:44&lt;02:04 0.4927]\n",
              "    </div>\n",
              "    "
            ]
          },
          "metadata": {}
        },
        {
          "output_type": "error",
          "ename": "KeyboardInterrupt",
          "evalue": "",
          "traceback": [
            "\u001b[0;31m---------------------------------------------------------------------------\u001b[0m",
            "\u001b[0;31mKeyboardInterrupt\u001b[0m                         Traceback (most recent call last)",
            "\u001b[0;32m<ipython-input-21-c1b52624de93>\u001b[0m in \u001b[0;36m<cell line: 0>\u001b[0;34m()\u001b[0m\n\u001b[1;32m      3\u001b[0m \u001b[0mdls\u001b[0m \u001b[0;34m=\u001b[0m \u001b[0mTextDataLoaders\u001b[0m\u001b[0;34m.\u001b[0m\u001b[0mfrom_folder\u001b[0m\u001b[0;34m(\u001b[0m\u001b[0muntar_data\u001b[0m\u001b[0;34m(\u001b[0m\u001b[0mURLs\u001b[0m\u001b[0;34m.\u001b[0m\u001b[0mIMDB\u001b[0m\u001b[0;34m)\u001b[0m\u001b[0;34m,\u001b[0m \u001b[0mvalid\u001b[0m\u001b[0;34m=\u001b[0m\u001b[0;34m'test'\u001b[0m\u001b[0;34m,\u001b[0m \u001b[0mbs\u001b[0m\u001b[0;34m=\u001b[0m\u001b[0;36m16\u001b[0m\u001b[0;34m)\u001b[0m\u001b[0;34m\u001b[0m\u001b[0;34m\u001b[0m\u001b[0m\n\u001b[1;32m      4\u001b[0m \u001b[0mlearn\u001b[0m \u001b[0;34m=\u001b[0m \u001b[0mtext_classifier_learner\u001b[0m\u001b[0;34m(\u001b[0m\u001b[0mdls\u001b[0m\u001b[0;34m,\u001b[0m \u001b[0mAWD_LSTM\u001b[0m\u001b[0;34m,\u001b[0m \u001b[0mdrop_mult\u001b[0m\u001b[0;34m=\u001b[0m\u001b[0;36m0.5\u001b[0m\u001b[0;34m,\u001b[0m \u001b[0mmetrics\u001b[0m\u001b[0;34m=\u001b[0m\u001b[0maccuracy\u001b[0m\u001b[0;34m)\u001b[0m\u001b[0;34m\u001b[0m\u001b[0;34m\u001b[0m\u001b[0m\n\u001b[0;32m----> 5\u001b[0;31m \u001b[0mlearn\u001b[0m\u001b[0;34m.\u001b[0m\u001b[0mfine_tune\u001b[0m\u001b[0;34m(\u001b[0m\u001b[0;36m4\u001b[0m\u001b[0;34m,\u001b[0m \u001b[0;36m1e-2\u001b[0m\u001b[0;34m)\u001b[0m\u001b[0;34m\u001b[0m\u001b[0;34m\u001b[0m\u001b[0m\n\u001b[0m",
            "\u001b[0;32m/usr/local/lib/python3.11/dist-packages/fastai/callback/schedule.py\u001b[0m in \u001b[0;36mfine_tune\u001b[0;34m(self, epochs, base_lr, freeze_epochs, lr_mult, pct_start, div, **kwargs)\u001b[0m\n\u001b[1;32m    165\u001b[0m     \u001b[0;34m\"Fine tune with `Learner.freeze` for `freeze_epochs`, then with `Learner.unfreeze` for `epochs`, using discriminative LR.\"\u001b[0m\u001b[0;34m\u001b[0m\u001b[0;34m\u001b[0m\u001b[0m\n\u001b[1;32m    166\u001b[0m     \u001b[0mself\u001b[0m\u001b[0;34m.\u001b[0m\u001b[0mfreeze\u001b[0m\u001b[0;34m(\u001b[0m\u001b[0;34m)\u001b[0m\u001b[0;34m\u001b[0m\u001b[0;34m\u001b[0m\u001b[0m\n\u001b[0;32m--> 167\u001b[0;31m     \u001b[0mself\u001b[0m\u001b[0;34m.\u001b[0m\u001b[0mfit_one_cycle\u001b[0m\u001b[0;34m(\u001b[0m\u001b[0mfreeze_epochs\u001b[0m\u001b[0;34m,\u001b[0m \u001b[0mslice\u001b[0m\u001b[0;34m(\u001b[0m\u001b[0mbase_lr\u001b[0m\u001b[0;34m)\u001b[0m\u001b[0;34m,\u001b[0m \u001b[0mpct_start\u001b[0m\u001b[0;34m=\u001b[0m\u001b[0;36m0.99\u001b[0m\u001b[0;34m,\u001b[0m \u001b[0;34m**\u001b[0m\u001b[0mkwargs\u001b[0m\u001b[0;34m)\u001b[0m\u001b[0;34m\u001b[0m\u001b[0;34m\u001b[0m\u001b[0m\n\u001b[0m\u001b[1;32m    168\u001b[0m     \u001b[0mbase_lr\u001b[0m \u001b[0;34m/=\u001b[0m \u001b[0;36m2\u001b[0m\u001b[0;34m\u001b[0m\u001b[0;34m\u001b[0m\u001b[0m\n\u001b[1;32m    169\u001b[0m     \u001b[0mself\u001b[0m\u001b[0;34m.\u001b[0m\u001b[0munfreeze\u001b[0m\u001b[0;34m(\u001b[0m\u001b[0;34m)\u001b[0m\u001b[0;34m\u001b[0m\u001b[0;34m\u001b[0m\u001b[0m\n",
            "\u001b[0;32m/usr/local/lib/python3.11/dist-packages/fastai/callback/schedule.py\u001b[0m in \u001b[0;36mfit_one_cycle\u001b[0;34m(self, n_epoch, lr_max, div, div_final, pct_start, wd, moms, cbs, reset_opt, start_epoch)\u001b[0m\n\u001b[1;32m    119\u001b[0m     scheds = {'lr': combined_cos(pct_start, lr_max/div, lr_max, lr_max/div_final),\n\u001b[1;32m    120\u001b[0m               'mom': combined_cos(pct_start, *(self.moms if moms is None else moms))}\n\u001b[0;32m--> 121\u001b[0;31m     \u001b[0mself\u001b[0m\u001b[0;34m.\u001b[0m\u001b[0mfit\u001b[0m\u001b[0;34m(\u001b[0m\u001b[0mn_epoch\u001b[0m\u001b[0;34m,\u001b[0m \u001b[0mcbs\u001b[0m\u001b[0;34m=\u001b[0m\u001b[0mParamScheduler\u001b[0m\u001b[0;34m(\u001b[0m\u001b[0mscheds\u001b[0m\u001b[0;34m)\u001b[0m\u001b[0;34m+\u001b[0m\u001b[0mL\u001b[0m\u001b[0;34m(\u001b[0m\u001b[0mcbs\u001b[0m\u001b[0;34m)\u001b[0m\u001b[0;34m,\u001b[0m \u001b[0mreset_opt\u001b[0m\u001b[0;34m=\u001b[0m\u001b[0mreset_opt\u001b[0m\u001b[0;34m,\u001b[0m \u001b[0mwd\u001b[0m\u001b[0;34m=\u001b[0m\u001b[0mwd\u001b[0m\u001b[0;34m,\u001b[0m \u001b[0mstart_epoch\u001b[0m\u001b[0;34m=\u001b[0m\u001b[0mstart_epoch\u001b[0m\u001b[0;34m)\u001b[0m\u001b[0;34m\u001b[0m\u001b[0;34m\u001b[0m\u001b[0m\n\u001b[0m\u001b[1;32m    122\u001b[0m \u001b[0;34m\u001b[0m\u001b[0m\n\u001b[1;32m    123\u001b[0m \u001b[0;31m# %% ../../nbs/14_callback.schedule.ipynb 50\u001b[0m\u001b[0;34m\u001b[0m\u001b[0;34m\u001b[0m\u001b[0m\n",
            "\u001b[0;32m/usr/local/lib/python3.11/dist-packages/fastai/learner.py\u001b[0m in \u001b[0;36mfit\u001b[0;34m(self, n_epoch, lr, wd, cbs, reset_opt, start_epoch)\u001b[0m\n\u001b[1;32m    270\u001b[0m             \u001b[0mself\u001b[0m\u001b[0;34m.\u001b[0m\u001b[0mopt\u001b[0m\u001b[0;34m.\u001b[0m\u001b[0mset_hypers\u001b[0m\u001b[0;34m(\u001b[0m\u001b[0mlr\u001b[0m\u001b[0;34m=\u001b[0m\u001b[0mself\u001b[0m\u001b[0;34m.\u001b[0m\u001b[0mlr\u001b[0m \u001b[0;32mif\u001b[0m \u001b[0mlr\u001b[0m \u001b[0;32mis\u001b[0m \u001b[0;32mNone\u001b[0m \u001b[0;32melse\u001b[0m \u001b[0mlr\u001b[0m\u001b[0;34m)\u001b[0m\u001b[0;34m\u001b[0m\u001b[0;34m\u001b[0m\u001b[0m\n\u001b[1;32m    271\u001b[0m             \u001b[0mself\u001b[0m\u001b[0;34m.\u001b[0m\u001b[0mn_epoch\u001b[0m \u001b[0;34m=\u001b[0m \u001b[0mn_epoch\u001b[0m\u001b[0;34m\u001b[0m\u001b[0;34m\u001b[0m\u001b[0m\n\u001b[0;32m--> 272\u001b[0;31m             \u001b[0mself\u001b[0m\u001b[0;34m.\u001b[0m\u001b[0m_with_events\u001b[0m\u001b[0;34m(\u001b[0m\u001b[0mself\u001b[0m\u001b[0;34m.\u001b[0m\u001b[0m_do_fit\u001b[0m\u001b[0;34m,\u001b[0m \u001b[0;34m'fit'\u001b[0m\u001b[0;34m,\u001b[0m \u001b[0mCancelFitException\u001b[0m\u001b[0;34m,\u001b[0m \u001b[0mself\u001b[0m\u001b[0;34m.\u001b[0m\u001b[0m_end_cleanup\u001b[0m\u001b[0;34m)\u001b[0m\u001b[0;34m\u001b[0m\u001b[0;34m\u001b[0m\u001b[0m\n\u001b[0m\u001b[1;32m    273\u001b[0m \u001b[0;34m\u001b[0m\u001b[0m\n\u001b[1;32m    274\u001b[0m     \u001b[0;32mdef\u001b[0m \u001b[0m_end_cleanup\u001b[0m\u001b[0;34m(\u001b[0m\u001b[0mself\u001b[0m\u001b[0;34m)\u001b[0m\u001b[0;34m:\u001b[0m \u001b[0mself\u001b[0m\u001b[0;34m.\u001b[0m\u001b[0mdl\u001b[0m\u001b[0;34m,\u001b[0m\u001b[0mself\u001b[0m\u001b[0;34m.\u001b[0m\u001b[0mxb\u001b[0m\u001b[0;34m,\u001b[0m\u001b[0mself\u001b[0m\u001b[0;34m.\u001b[0m\u001b[0myb\u001b[0m\u001b[0;34m,\u001b[0m\u001b[0mself\u001b[0m\u001b[0;34m.\u001b[0m\u001b[0mpred\u001b[0m\u001b[0;34m,\u001b[0m\u001b[0mself\u001b[0m\u001b[0;34m.\u001b[0m\u001b[0mloss\u001b[0m \u001b[0;34m=\u001b[0m \u001b[0;32mNone\u001b[0m\u001b[0;34m,\u001b[0m\u001b[0;34m(\u001b[0m\u001b[0;32mNone\u001b[0m\u001b[0;34m,\u001b[0m\u001b[0;34m)\u001b[0m\u001b[0;34m,\u001b[0m\u001b[0;34m(\u001b[0m\u001b[0;32mNone\u001b[0m\u001b[0;34m,\u001b[0m\u001b[0;34m)\u001b[0m\u001b[0;34m,\u001b[0m\u001b[0;32mNone\u001b[0m\u001b[0;34m,\u001b[0m\u001b[0;32mNone\u001b[0m\u001b[0;34m\u001b[0m\u001b[0;34m\u001b[0m\u001b[0m\n",
            "\u001b[0;32m/usr/local/lib/python3.11/dist-packages/fastai/learner.py\u001b[0m in \u001b[0;36m_with_events\u001b[0;34m(self, f, event_type, ex, final)\u001b[0m\n\u001b[1;32m    205\u001b[0m \u001b[0;34m\u001b[0m\u001b[0m\n\u001b[1;32m    206\u001b[0m     \u001b[0;32mdef\u001b[0m \u001b[0m_with_events\u001b[0m\u001b[0;34m(\u001b[0m\u001b[0mself\u001b[0m\u001b[0;34m,\u001b[0m \u001b[0mf\u001b[0m\u001b[0;34m,\u001b[0m \u001b[0mevent_type\u001b[0m\u001b[0;34m,\u001b[0m \u001b[0mex\u001b[0m\u001b[0;34m,\u001b[0m \u001b[0mfinal\u001b[0m\u001b[0;34m=\u001b[0m\u001b[0mnoop\u001b[0m\u001b[0;34m)\u001b[0m\u001b[0;34m:\u001b[0m\u001b[0;34m\u001b[0m\u001b[0;34m\u001b[0m\u001b[0m\n\u001b[0;32m--> 207\u001b[0;31m         \u001b[0;32mtry\u001b[0m\u001b[0;34m:\u001b[0m \u001b[0mself\u001b[0m\u001b[0;34m(\u001b[0m\u001b[0;34mf'before_{event_type}'\u001b[0m\u001b[0;34m)\u001b[0m\u001b[0;34m;\u001b[0m  \u001b[0mf\u001b[0m\u001b[0;34m(\u001b[0m\u001b[0;34m)\u001b[0m\u001b[0;34m\u001b[0m\u001b[0;34m\u001b[0m\u001b[0m\n\u001b[0m\u001b[1;32m    208\u001b[0m         \u001b[0;32mexcept\u001b[0m \u001b[0mex\u001b[0m\u001b[0;34m:\u001b[0m \u001b[0mself\u001b[0m\u001b[0;34m(\u001b[0m\u001b[0;34mf'after_cancel_{event_type}'\u001b[0m\u001b[0;34m)\u001b[0m\u001b[0;34m\u001b[0m\u001b[0;34m\u001b[0m\u001b[0m\n\u001b[1;32m    209\u001b[0m         \u001b[0mself\u001b[0m\u001b[0;34m(\u001b[0m\u001b[0;34mf'after_{event_type}'\u001b[0m\u001b[0;34m)\u001b[0m\u001b[0;34m;\u001b[0m  \u001b[0mfinal\u001b[0m\u001b[0;34m(\u001b[0m\u001b[0;34m)\u001b[0m\u001b[0;34m\u001b[0m\u001b[0;34m\u001b[0m\u001b[0m\n",
            "\u001b[0;32m/usr/local/lib/python3.11/dist-packages/fastai/learner.py\u001b[0m in \u001b[0;36m_do_fit\u001b[0;34m(self)\u001b[0m\n\u001b[1;32m    259\u001b[0m         \u001b[0;32mfor\u001b[0m \u001b[0mepoch\u001b[0m \u001b[0;32min\u001b[0m \u001b[0mrange\u001b[0m\u001b[0;34m(\u001b[0m\u001b[0mself\u001b[0m\u001b[0;34m.\u001b[0m\u001b[0mn_epoch\u001b[0m\u001b[0;34m)\u001b[0m\u001b[0;34m:\u001b[0m\u001b[0;34m\u001b[0m\u001b[0;34m\u001b[0m\u001b[0m\n\u001b[1;32m    260\u001b[0m             \u001b[0mself\u001b[0m\u001b[0;34m.\u001b[0m\u001b[0mepoch\u001b[0m\u001b[0;34m=\u001b[0m\u001b[0mepoch\u001b[0m\u001b[0;34m\u001b[0m\u001b[0;34m\u001b[0m\u001b[0m\n\u001b[0;32m--> 261\u001b[0;31m             \u001b[0mself\u001b[0m\u001b[0;34m.\u001b[0m\u001b[0m_with_events\u001b[0m\u001b[0;34m(\u001b[0m\u001b[0mself\u001b[0m\u001b[0;34m.\u001b[0m\u001b[0m_do_epoch\u001b[0m\u001b[0;34m,\u001b[0m \u001b[0;34m'epoch'\u001b[0m\u001b[0;34m,\u001b[0m \u001b[0mCancelEpochException\u001b[0m\u001b[0;34m)\u001b[0m\u001b[0;34m\u001b[0m\u001b[0;34m\u001b[0m\u001b[0m\n\u001b[0m\u001b[1;32m    262\u001b[0m \u001b[0;34m\u001b[0m\u001b[0m\n\u001b[1;32m    263\u001b[0m     \u001b[0;32mdef\u001b[0m \u001b[0mfit\u001b[0m\u001b[0;34m(\u001b[0m\u001b[0mself\u001b[0m\u001b[0;34m,\u001b[0m \u001b[0mn_epoch\u001b[0m\u001b[0;34m,\u001b[0m \u001b[0mlr\u001b[0m\u001b[0;34m=\u001b[0m\u001b[0;32mNone\u001b[0m\u001b[0;34m,\u001b[0m \u001b[0mwd\u001b[0m\u001b[0;34m=\u001b[0m\u001b[0;32mNone\u001b[0m\u001b[0;34m,\u001b[0m \u001b[0mcbs\u001b[0m\u001b[0;34m=\u001b[0m\u001b[0;32mNone\u001b[0m\u001b[0;34m,\u001b[0m \u001b[0mreset_opt\u001b[0m\u001b[0;34m=\u001b[0m\u001b[0;32mFalse\u001b[0m\u001b[0;34m,\u001b[0m \u001b[0mstart_epoch\u001b[0m\u001b[0;34m=\u001b[0m\u001b[0;36m0\u001b[0m\u001b[0;34m)\u001b[0m\u001b[0;34m:\u001b[0m\u001b[0;34m\u001b[0m\u001b[0;34m\u001b[0m\u001b[0m\n",
            "\u001b[0;32m/usr/local/lib/python3.11/dist-packages/fastai/learner.py\u001b[0m in \u001b[0;36m_with_events\u001b[0;34m(self, f, event_type, ex, final)\u001b[0m\n\u001b[1;32m    205\u001b[0m \u001b[0;34m\u001b[0m\u001b[0m\n\u001b[1;32m    206\u001b[0m     \u001b[0;32mdef\u001b[0m \u001b[0m_with_events\u001b[0m\u001b[0;34m(\u001b[0m\u001b[0mself\u001b[0m\u001b[0;34m,\u001b[0m \u001b[0mf\u001b[0m\u001b[0;34m,\u001b[0m \u001b[0mevent_type\u001b[0m\u001b[0;34m,\u001b[0m \u001b[0mex\u001b[0m\u001b[0;34m,\u001b[0m \u001b[0mfinal\u001b[0m\u001b[0;34m=\u001b[0m\u001b[0mnoop\u001b[0m\u001b[0;34m)\u001b[0m\u001b[0;34m:\u001b[0m\u001b[0;34m\u001b[0m\u001b[0;34m\u001b[0m\u001b[0m\n\u001b[0;32m--> 207\u001b[0;31m         \u001b[0;32mtry\u001b[0m\u001b[0;34m:\u001b[0m \u001b[0mself\u001b[0m\u001b[0;34m(\u001b[0m\u001b[0;34mf'before_{event_type}'\u001b[0m\u001b[0;34m)\u001b[0m\u001b[0;34m;\u001b[0m  \u001b[0mf\u001b[0m\u001b[0;34m(\u001b[0m\u001b[0;34m)\u001b[0m\u001b[0;34m\u001b[0m\u001b[0;34m\u001b[0m\u001b[0m\n\u001b[0m\u001b[1;32m    208\u001b[0m         \u001b[0;32mexcept\u001b[0m \u001b[0mex\u001b[0m\u001b[0;34m:\u001b[0m \u001b[0mself\u001b[0m\u001b[0;34m(\u001b[0m\u001b[0;34mf'after_cancel_{event_type}'\u001b[0m\u001b[0;34m)\u001b[0m\u001b[0;34m\u001b[0m\u001b[0;34m\u001b[0m\u001b[0m\n\u001b[1;32m    209\u001b[0m         \u001b[0mself\u001b[0m\u001b[0;34m(\u001b[0m\u001b[0;34mf'after_{event_type}'\u001b[0m\u001b[0;34m)\u001b[0m\u001b[0;34m;\u001b[0m  \u001b[0mfinal\u001b[0m\u001b[0;34m(\u001b[0m\u001b[0;34m)\u001b[0m\u001b[0;34m\u001b[0m\u001b[0;34m\u001b[0m\u001b[0m\n",
            "\u001b[0;32m/usr/local/lib/python3.11/dist-packages/fastai/learner.py\u001b[0m in \u001b[0;36m_do_epoch\u001b[0;34m(self)\u001b[0m\n\u001b[1;32m    253\u001b[0m \u001b[0;34m\u001b[0m\u001b[0m\n\u001b[1;32m    254\u001b[0m     \u001b[0;32mdef\u001b[0m \u001b[0m_do_epoch\u001b[0m\u001b[0;34m(\u001b[0m\u001b[0mself\u001b[0m\u001b[0;34m)\u001b[0m\u001b[0;34m:\u001b[0m\u001b[0;34m\u001b[0m\u001b[0;34m\u001b[0m\u001b[0m\n\u001b[0;32m--> 255\u001b[0;31m         \u001b[0mself\u001b[0m\u001b[0;34m.\u001b[0m\u001b[0m_do_epoch_train\u001b[0m\u001b[0;34m(\u001b[0m\u001b[0;34m)\u001b[0m\u001b[0;34m\u001b[0m\u001b[0;34m\u001b[0m\u001b[0m\n\u001b[0m\u001b[1;32m    256\u001b[0m         \u001b[0mself\u001b[0m\u001b[0;34m.\u001b[0m\u001b[0m_do_epoch_validate\u001b[0m\u001b[0;34m(\u001b[0m\u001b[0;34m)\u001b[0m\u001b[0;34m\u001b[0m\u001b[0;34m\u001b[0m\u001b[0m\n\u001b[1;32m    257\u001b[0m \u001b[0;34m\u001b[0m\u001b[0m\n",
            "\u001b[0;32m/usr/local/lib/python3.11/dist-packages/fastai/learner.py\u001b[0m in \u001b[0;36m_do_epoch_train\u001b[0;34m(self)\u001b[0m\n\u001b[1;32m    245\u001b[0m     \u001b[0;32mdef\u001b[0m \u001b[0m_do_epoch_train\u001b[0m\u001b[0;34m(\u001b[0m\u001b[0mself\u001b[0m\u001b[0;34m)\u001b[0m\u001b[0;34m:\u001b[0m\u001b[0;34m\u001b[0m\u001b[0;34m\u001b[0m\u001b[0m\n\u001b[1;32m    246\u001b[0m         \u001b[0mself\u001b[0m\u001b[0;34m.\u001b[0m\u001b[0mdl\u001b[0m \u001b[0;34m=\u001b[0m \u001b[0mself\u001b[0m\u001b[0;34m.\u001b[0m\u001b[0mdls\u001b[0m\u001b[0;34m.\u001b[0m\u001b[0mtrain\u001b[0m\u001b[0;34m\u001b[0m\u001b[0;34m\u001b[0m\u001b[0m\n\u001b[0;32m--> 247\u001b[0;31m         \u001b[0mself\u001b[0m\u001b[0;34m.\u001b[0m\u001b[0m_with_events\u001b[0m\u001b[0;34m(\u001b[0m\u001b[0mself\u001b[0m\u001b[0;34m.\u001b[0m\u001b[0mall_batches\u001b[0m\u001b[0;34m,\u001b[0m \u001b[0;34m'train'\u001b[0m\u001b[0;34m,\u001b[0m \u001b[0mCancelTrainException\u001b[0m\u001b[0;34m)\u001b[0m\u001b[0;34m\u001b[0m\u001b[0;34m\u001b[0m\u001b[0m\n\u001b[0m\u001b[1;32m    248\u001b[0m \u001b[0;34m\u001b[0m\u001b[0m\n\u001b[1;32m    249\u001b[0m     \u001b[0;32mdef\u001b[0m \u001b[0m_do_epoch_validate\u001b[0m\u001b[0;34m(\u001b[0m\u001b[0mself\u001b[0m\u001b[0;34m,\u001b[0m \u001b[0mds_idx\u001b[0m\u001b[0;34m=\u001b[0m\u001b[0;36m1\u001b[0m\u001b[0;34m,\u001b[0m \u001b[0mdl\u001b[0m\u001b[0;34m=\u001b[0m\u001b[0;32mNone\u001b[0m\u001b[0;34m)\u001b[0m\u001b[0;34m:\u001b[0m\u001b[0;34m\u001b[0m\u001b[0;34m\u001b[0m\u001b[0m\n",
            "\u001b[0;32m/usr/local/lib/python3.11/dist-packages/fastai/learner.py\u001b[0m in \u001b[0;36m_with_events\u001b[0;34m(self, f, event_type, ex, final)\u001b[0m\n\u001b[1;32m    205\u001b[0m \u001b[0;34m\u001b[0m\u001b[0m\n\u001b[1;32m    206\u001b[0m     \u001b[0;32mdef\u001b[0m \u001b[0m_with_events\u001b[0m\u001b[0;34m(\u001b[0m\u001b[0mself\u001b[0m\u001b[0;34m,\u001b[0m \u001b[0mf\u001b[0m\u001b[0;34m,\u001b[0m \u001b[0mevent_type\u001b[0m\u001b[0;34m,\u001b[0m \u001b[0mex\u001b[0m\u001b[0;34m,\u001b[0m \u001b[0mfinal\u001b[0m\u001b[0;34m=\u001b[0m\u001b[0mnoop\u001b[0m\u001b[0;34m)\u001b[0m\u001b[0;34m:\u001b[0m\u001b[0;34m\u001b[0m\u001b[0;34m\u001b[0m\u001b[0m\n\u001b[0;32m--> 207\u001b[0;31m         \u001b[0;32mtry\u001b[0m\u001b[0;34m:\u001b[0m \u001b[0mself\u001b[0m\u001b[0;34m(\u001b[0m\u001b[0;34mf'before_{event_type}'\u001b[0m\u001b[0;34m)\u001b[0m\u001b[0;34m;\u001b[0m  \u001b[0mf\u001b[0m\u001b[0;34m(\u001b[0m\u001b[0;34m)\u001b[0m\u001b[0;34m\u001b[0m\u001b[0;34m\u001b[0m\u001b[0m\n\u001b[0m\u001b[1;32m    208\u001b[0m         \u001b[0;32mexcept\u001b[0m \u001b[0mex\u001b[0m\u001b[0;34m:\u001b[0m \u001b[0mself\u001b[0m\u001b[0;34m(\u001b[0m\u001b[0;34mf'after_cancel_{event_type}'\u001b[0m\u001b[0;34m)\u001b[0m\u001b[0;34m\u001b[0m\u001b[0;34m\u001b[0m\u001b[0m\n\u001b[1;32m    209\u001b[0m         \u001b[0mself\u001b[0m\u001b[0;34m(\u001b[0m\u001b[0;34mf'after_{event_type}'\u001b[0m\u001b[0;34m)\u001b[0m\u001b[0;34m;\u001b[0m  \u001b[0mfinal\u001b[0m\u001b[0;34m(\u001b[0m\u001b[0;34m)\u001b[0m\u001b[0;34m\u001b[0m\u001b[0;34m\u001b[0m\u001b[0m\n",
            "\u001b[0;32m/usr/local/lib/python3.11/dist-packages/fastai/learner.py\u001b[0m in \u001b[0;36mall_batches\u001b[0;34m(self)\u001b[0m\n\u001b[1;32m    211\u001b[0m     \u001b[0;32mdef\u001b[0m \u001b[0mall_batches\u001b[0m\u001b[0;34m(\u001b[0m\u001b[0mself\u001b[0m\u001b[0;34m)\u001b[0m\u001b[0;34m:\u001b[0m\u001b[0;34m\u001b[0m\u001b[0;34m\u001b[0m\u001b[0m\n\u001b[1;32m    212\u001b[0m         \u001b[0mself\u001b[0m\u001b[0;34m.\u001b[0m\u001b[0mn_iter\u001b[0m \u001b[0;34m=\u001b[0m \u001b[0mlen\u001b[0m\u001b[0;34m(\u001b[0m\u001b[0mself\u001b[0m\u001b[0;34m.\u001b[0m\u001b[0mdl\u001b[0m\u001b[0;34m)\u001b[0m\u001b[0;34m\u001b[0m\u001b[0;34m\u001b[0m\u001b[0m\n\u001b[0;32m--> 213\u001b[0;31m         \u001b[0;32mfor\u001b[0m \u001b[0mo\u001b[0m \u001b[0;32min\u001b[0m \u001b[0menumerate\u001b[0m\u001b[0;34m(\u001b[0m\u001b[0mself\u001b[0m\u001b[0;34m.\u001b[0m\u001b[0mdl\u001b[0m\u001b[0;34m)\u001b[0m\u001b[0;34m:\u001b[0m \u001b[0mself\u001b[0m\u001b[0;34m.\u001b[0m\u001b[0mone_batch\u001b[0m\u001b[0;34m(\u001b[0m\u001b[0;34m*\u001b[0m\u001b[0mo\u001b[0m\u001b[0;34m)\u001b[0m\u001b[0;34m\u001b[0m\u001b[0;34m\u001b[0m\u001b[0m\n\u001b[0m\u001b[1;32m    214\u001b[0m \u001b[0;34m\u001b[0m\u001b[0m\n\u001b[1;32m    215\u001b[0m     \u001b[0;32mdef\u001b[0m \u001b[0m_backward\u001b[0m\u001b[0;34m(\u001b[0m\u001b[0mself\u001b[0m\u001b[0;34m)\u001b[0m\u001b[0;34m:\u001b[0m \u001b[0mself\u001b[0m\u001b[0;34m.\u001b[0m\u001b[0mloss_grad\u001b[0m\u001b[0;34m.\u001b[0m\u001b[0mbackward\u001b[0m\u001b[0;34m(\u001b[0m\u001b[0;34m)\u001b[0m\u001b[0;34m\u001b[0m\u001b[0;34m\u001b[0m\u001b[0m\n",
            "\u001b[0;32m/usr/local/lib/python3.11/dist-packages/fastai/learner.py\u001b[0m in \u001b[0;36mone_batch\u001b[0;34m(self, i, b)\u001b[0m\n\u001b[1;32m    241\u001b[0m         \u001b[0mb\u001b[0m \u001b[0;34m=\u001b[0m \u001b[0mself\u001b[0m\u001b[0;34m.\u001b[0m\u001b[0m_set_device\u001b[0m\u001b[0;34m(\u001b[0m\u001b[0mb\u001b[0m\u001b[0;34m)\u001b[0m\u001b[0;34m\u001b[0m\u001b[0;34m\u001b[0m\u001b[0m\n\u001b[1;32m    242\u001b[0m         \u001b[0mself\u001b[0m\u001b[0;34m.\u001b[0m\u001b[0m_split\u001b[0m\u001b[0;34m(\u001b[0m\u001b[0mb\u001b[0m\u001b[0;34m)\u001b[0m\u001b[0;34m\u001b[0m\u001b[0;34m\u001b[0m\u001b[0m\n\u001b[0;32m--> 243\u001b[0;31m         \u001b[0mself\u001b[0m\u001b[0;34m.\u001b[0m\u001b[0m_with_events\u001b[0m\u001b[0;34m(\u001b[0m\u001b[0mself\u001b[0m\u001b[0;34m.\u001b[0m\u001b[0m_do_one_batch\u001b[0m\u001b[0;34m,\u001b[0m \u001b[0;34m'batch'\u001b[0m\u001b[0;34m,\u001b[0m \u001b[0mCancelBatchException\u001b[0m\u001b[0;34m)\u001b[0m\u001b[0;34m\u001b[0m\u001b[0;34m\u001b[0m\u001b[0m\n\u001b[0m\u001b[1;32m    244\u001b[0m \u001b[0;34m\u001b[0m\u001b[0m\n\u001b[1;32m    245\u001b[0m     \u001b[0;32mdef\u001b[0m \u001b[0m_do_epoch_train\u001b[0m\u001b[0;34m(\u001b[0m\u001b[0mself\u001b[0m\u001b[0;34m)\u001b[0m\u001b[0;34m:\u001b[0m\u001b[0;34m\u001b[0m\u001b[0;34m\u001b[0m\u001b[0m\n",
            "\u001b[0;32m/usr/local/lib/python3.11/dist-packages/fastai/learner.py\u001b[0m in \u001b[0;36m_with_events\u001b[0;34m(self, f, event_type, ex, final)\u001b[0m\n\u001b[1;32m    205\u001b[0m \u001b[0;34m\u001b[0m\u001b[0m\n\u001b[1;32m    206\u001b[0m     \u001b[0;32mdef\u001b[0m \u001b[0m_with_events\u001b[0m\u001b[0;34m(\u001b[0m\u001b[0mself\u001b[0m\u001b[0;34m,\u001b[0m \u001b[0mf\u001b[0m\u001b[0;34m,\u001b[0m \u001b[0mevent_type\u001b[0m\u001b[0;34m,\u001b[0m \u001b[0mex\u001b[0m\u001b[0;34m,\u001b[0m \u001b[0mfinal\u001b[0m\u001b[0;34m=\u001b[0m\u001b[0mnoop\u001b[0m\u001b[0;34m)\u001b[0m\u001b[0;34m:\u001b[0m\u001b[0;34m\u001b[0m\u001b[0;34m\u001b[0m\u001b[0m\n\u001b[0;32m--> 207\u001b[0;31m         \u001b[0;32mtry\u001b[0m\u001b[0;34m:\u001b[0m \u001b[0mself\u001b[0m\u001b[0;34m(\u001b[0m\u001b[0;34mf'before_{event_type}'\u001b[0m\u001b[0;34m)\u001b[0m\u001b[0;34m;\u001b[0m  \u001b[0mf\u001b[0m\u001b[0;34m(\u001b[0m\u001b[0;34m)\u001b[0m\u001b[0;34m\u001b[0m\u001b[0;34m\u001b[0m\u001b[0m\n\u001b[0m\u001b[1;32m    208\u001b[0m         \u001b[0;32mexcept\u001b[0m \u001b[0mex\u001b[0m\u001b[0;34m:\u001b[0m \u001b[0mself\u001b[0m\u001b[0;34m(\u001b[0m\u001b[0;34mf'after_cancel_{event_type}'\u001b[0m\u001b[0;34m)\u001b[0m\u001b[0;34m\u001b[0m\u001b[0;34m\u001b[0m\u001b[0m\n\u001b[1;32m    209\u001b[0m         \u001b[0mself\u001b[0m\u001b[0;34m(\u001b[0m\u001b[0;34mf'after_{event_type}'\u001b[0m\u001b[0;34m)\u001b[0m\u001b[0;34m;\u001b[0m  \u001b[0mfinal\u001b[0m\u001b[0;34m(\u001b[0m\u001b[0;34m)\u001b[0m\u001b[0;34m\u001b[0m\u001b[0;34m\u001b[0m\u001b[0m\n",
            "\u001b[0;32m/usr/local/lib/python3.11/dist-packages/fastai/learner.py\u001b[0m in \u001b[0;36m_do_one_batch\u001b[0;34m(self)\u001b[0m\n\u001b[1;32m    222\u001b[0m \u001b[0;34m\u001b[0m\u001b[0m\n\u001b[1;32m    223\u001b[0m     \u001b[0;32mdef\u001b[0m \u001b[0m_do_one_batch\u001b[0m\u001b[0;34m(\u001b[0m\u001b[0mself\u001b[0m\u001b[0;34m)\u001b[0m\u001b[0;34m:\u001b[0m\u001b[0;34m\u001b[0m\u001b[0;34m\u001b[0m\u001b[0m\n\u001b[0;32m--> 224\u001b[0;31m         \u001b[0mself\u001b[0m\u001b[0;34m.\u001b[0m\u001b[0mpred\u001b[0m \u001b[0;34m=\u001b[0m \u001b[0mself\u001b[0m\u001b[0;34m.\u001b[0m\u001b[0mmodel\u001b[0m\u001b[0;34m(\u001b[0m\u001b[0;34m*\u001b[0m\u001b[0mself\u001b[0m\u001b[0;34m.\u001b[0m\u001b[0mxb\u001b[0m\u001b[0;34m)\u001b[0m\u001b[0;34m\u001b[0m\u001b[0;34m\u001b[0m\u001b[0m\n\u001b[0m\u001b[1;32m    225\u001b[0m         \u001b[0mself\u001b[0m\u001b[0;34m(\u001b[0m\u001b[0;34m'after_pred'\u001b[0m\u001b[0;34m)\u001b[0m\u001b[0;34m\u001b[0m\u001b[0;34m\u001b[0m\u001b[0m\n\u001b[1;32m    226\u001b[0m         \u001b[0;32mif\u001b[0m \u001b[0mlen\u001b[0m\u001b[0;34m(\u001b[0m\u001b[0mself\u001b[0m\u001b[0;34m.\u001b[0m\u001b[0myb\u001b[0m\u001b[0;34m)\u001b[0m\u001b[0;34m:\u001b[0m\u001b[0;34m\u001b[0m\u001b[0;34m\u001b[0m\u001b[0m\n",
            "\u001b[0;32m/usr/local/lib/python3.11/dist-packages/torch/nn/modules/module.py\u001b[0m in \u001b[0;36m_wrapped_call_impl\u001b[0;34m(self, *args, **kwargs)\u001b[0m\n\u001b[1;32m   1737\u001b[0m             \u001b[0;32mreturn\u001b[0m \u001b[0mself\u001b[0m\u001b[0;34m.\u001b[0m\u001b[0m_compiled_call_impl\u001b[0m\u001b[0;34m(\u001b[0m\u001b[0;34m*\u001b[0m\u001b[0margs\u001b[0m\u001b[0;34m,\u001b[0m \u001b[0;34m**\u001b[0m\u001b[0mkwargs\u001b[0m\u001b[0;34m)\u001b[0m  \u001b[0;31m# type: ignore[misc]\u001b[0m\u001b[0;34m\u001b[0m\u001b[0;34m\u001b[0m\u001b[0m\n\u001b[1;32m   1738\u001b[0m         \u001b[0;32melse\u001b[0m\u001b[0;34m:\u001b[0m\u001b[0;34m\u001b[0m\u001b[0;34m\u001b[0m\u001b[0m\n\u001b[0;32m-> 1739\u001b[0;31m             \u001b[0;32mreturn\u001b[0m \u001b[0mself\u001b[0m\u001b[0;34m.\u001b[0m\u001b[0m_call_impl\u001b[0m\u001b[0;34m(\u001b[0m\u001b[0;34m*\u001b[0m\u001b[0margs\u001b[0m\u001b[0;34m,\u001b[0m \u001b[0;34m**\u001b[0m\u001b[0mkwargs\u001b[0m\u001b[0;34m)\u001b[0m\u001b[0;34m\u001b[0m\u001b[0;34m\u001b[0m\u001b[0m\n\u001b[0m\u001b[1;32m   1740\u001b[0m \u001b[0;34m\u001b[0m\u001b[0m\n\u001b[1;32m   1741\u001b[0m     \u001b[0;31m# torchrec tests the code consistency with the following code\u001b[0m\u001b[0;34m\u001b[0m\u001b[0;34m\u001b[0m\u001b[0m\n",
            "\u001b[0;32m/usr/local/lib/python3.11/dist-packages/torch/nn/modules/module.py\u001b[0m in \u001b[0;36m_call_impl\u001b[0;34m(self, *args, **kwargs)\u001b[0m\n\u001b[1;32m   1748\u001b[0m                 \u001b[0;32mor\u001b[0m \u001b[0m_global_backward_pre_hooks\u001b[0m \u001b[0;32mor\u001b[0m \u001b[0m_global_backward_hooks\u001b[0m\u001b[0;34m\u001b[0m\u001b[0;34m\u001b[0m\u001b[0m\n\u001b[1;32m   1749\u001b[0m                 or _global_forward_hooks or _global_forward_pre_hooks):\n\u001b[0;32m-> 1750\u001b[0;31m             \u001b[0;32mreturn\u001b[0m \u001b[0mforward_call\u001b[0m\u001b[0;34m(\u001b[0m\u001b[0;34m*\u001b[0m\u001b[0margs\u001b[0m\u001b[0;34m,\u001b[0m \u001b[0;34m**\u001b[0m\u001b[0mkwargs\u001b[0m\u001b[0;34m)\u001b[0m\u001b[0;34m\u001b[0m\u001b[0;34m\u001b[0m\u001b[0m\n\u001b[0m\u001b[1;32m   1751\u001b[0m \u001b[0;34m\u001b[0m\u001b[0m\n\u001b[1;32m   1752\u001b[0m         \u001b[0mresult\u001b[0m \u001b[0;34m=\u001b[0m \u001b[0;32mNone\u001b[0m\u001b[0;34m\u001b[0m\u001b[0;34m\u001b[0m\u001b[0m\n",
            "\u001b[0;32m/usr/local/lib/python3.11/dist-packages/torch/nn/modules/container.py\u001b[0m in \u001b[0;36mforward\u001b[0;34m(self, input)\u001b[0m\n\u001b[1;32m    248\u001b[0m     \u001b[0;32mdef\u001b[0m \u001b[0mforward\u001b[0m\u001b[0;34m(\u001b[0m\u001b[0mself\u001b[0m\u001b[0;34m,\u001b[0m \u001b[0minput\u001b[0m\u001b[0;34m)\u001b[0m\u001b[0;34m:\u001b[0m\u001b[0;34m\u001b[0m\u001b[0;34m\u001b[0m\u001b[0m\n\u001b[1;32m    249\u001b[0m         \u001b[0;32mfor\u001b[0m \u001b[0mmodule\u001b[0m \u001b[0;32min\u001b[0m \u001b[0mself\u001b[0m\u001b[0;34m:\u001b[0m\u001b[0;34m\u001b[0m\u001b[0;34m\u001b[0m\u001b[0m\n\u001b[0;32m--> 250\u001b[0;31m             \u001b[0minput\u001b[0m \u001b[0;34m=\u001b[0m \u001b[0mmodule\u001b[0m\u001b[0;34m(\u001b[0m\u001b[0minput\u001b[0m\u001b[0;34m)\u001b[0m\u001b[0;34m\u001b[0m\u001b[0;34m\u001b[0m\u001b[0m\n\u001b[0m\u001b[1;32m    251\u001b[0m         \u001b[0;32mreturn\u001b[0m \u001b[0minput\u001b[0m\u001b[0;34m\u001b[0m\u001b[0;34m\u001b[0m\u001b[0m\n\u001b[1;32m    252\u001b[0m \u001b[0;34m\u001b[0m\u001b[0m\n",
            "\u001b[0;32m/usr/local/lib/python3.11/dist-packages/torch/nn/modules/module.py\u001b[0m in \u001b[0;36m_wrapped_call_impl\u001b[0;34m(self, *args, **kwargs)\u001b[0m\n\u001b[1;32m   1737\u001b[0m             \u001b[0;32mreturn\u001b[0m \u001b[0mself\u001b[0m\u001b[0;34m.\u001b[0m\u001b[0m_compiled_call_impl\u001b[0m\u001b[0;34m(\u001b[0m\u001b[0;34m*\u001b[0m\u001b[0margs\u001b[0m\u001b[0;34m,\u001b[0m \u001b[0;34m**\u001b[0m\u001b[0mkwargs\u001b[0m\u001b[0;34m)\u001b[0m  \u001b[0;31m# type: ignore[misc]\u001b[0m\u001b[0;34m\u001b[0m\u001b[0;34m\u001b[0m\u001b[0m\n\u001b[1;32m   1738\u001b[0m         \u001b[0;32melse\u001b[0m\u001b[0;34m:\u001b[0m\u001b[0;34m\u001b[0m\u001b[0;34m\u001b[0m\u001b[0m\n\u001b[0;32m-> 1739\u001b[0;31m             \u001b[0;32mreturn\u001b[0m \u001b[0mself\u001b[0m\u001b[0;34m.\u001b[0m\u001b[0m_call_impl\u001b[0m\u001b[0;34m(\u001b[0m\u001b[0;34m*\u001b[0m\u001b[0margs\u001b[0m\u001b[0;34m,\u001b[0m \u001b[0;34m**\u001b[0m\u001b[0mkwargs\u001b[0m\u001b[0;34m)\u001b[0m\u001b[0;34m\u001b[0m\u001b[0;34m\u001b[0m\u001b[0m\n\u001b[0m\u001b[1;32m   1740\u001b[0m \u001b[0;34m\u001b[0m\u001b[0m\n\u001b[1;32m   1741\u001b[0m     \u001b[0;31m# torchrec tests the code consistency with the following code\u001b[0m\u001b[0;34m\u001b[0m\u001b[0;34m\u001b[0m\u001b[0m\n",
            "\u001b[0;32m/usr/local/lib/python3.11/dist-packages/torch/nn/modules/module.py\u001b[0m in \u001b[0;36m_call_impl\u001b[0;34m(self, *args, **kwargs)\u001b[0m\n\u001b[1;32m   1748\u001b[0m                 \u001b[0;32mor\u001b[0m \u001b[0m_global_backward_pre_hooks\u001b[0m \u001b[0;32mor\u001b[0m \u001b[0m_global_backward_hooks\u001b[0m\u001b[0;34m\u001b[0m\u001b[0;34m\u001b[0m\u001b[0m\n\u001b[1;32m   1749\u001b[0m                 or _global_forward_hooks or _global_forward_pre_hooks):\n\u001b[0;32m-> 1750\u001b[0;31m             \u001b[0;32mreturn\u001b[0m \u001b[0mforward_call\u001b[0m\u001b[0;34m(\u001b[0m\u001b[0;34m*\u001b[0m\u001b[0margs\u001b[0m\u001b[0;34m,\u001b[0m \u001b[0;34m**\u001b[0m\u001b[0mkwargs\u001b[0m\u001b[0;34m)\u001b[0m\u001b[0;34m\u001b[0m\u001b[0;34m\u001b[0m\u001b[0m\n\u001b[0m\u001b[1;32m   1751\u001b[0m \u001b[0;34m\u001b[0m\u001b[0m\n\u001b[1;32m   1752\u001b[0m         \u001b[0mresult\u001b[0m \u001b[0;34m=\u001b[0m \u001b[0;32mNone\u001b[0m\u001b[0;34m\u001b[0m\u001b[0;34m\u001b[0m\u001b[0m\n",
            "\u001b[0;32m/usr/local/lib/python3.11/dist-packages/fastai/text/models/core.py\u001b[0m in \u001b[0;36mforward\u001b[0;34m(self, input)\u001b[0m\n\u001b[1;32m     98\u001b[0m             \u001b[0;31m#Note: this expects that sequence really begins on a round multiple of bptt\u001b[0m\u001b[0;34m\u001b[0m\u001b[0;34m\u001b[0m\u001b[0m\n\u001b[1;32m     99\u001b[0m             \u001b[0mreal_bs\u001b[0m \u001b[0;34m=\u001b[0m \u001b[0;34m(\u001b[0m\u001b[0minput\u001b[0m\u001b[0;34m[\u001b[0m\u001b[0;34m:\u001b[0m\u001b[0;34m,\u001b[0m\u001b[0mi\u001b[0m\u001b[0;34m]\u001b[0m \u001b[0;34m!=\u001b[0m \u001b[0mself\u001b[0m\u001b[0;34m.\u001b[0m\u001b[0mpad_idx\u001b[0m\u001b[0;34m)\u001b[0m\u001b[0;34m.\u001b[0m\u001b[0mlong\u001b[0m\u001b[0;34m(\u001b[0m\u001b[0;34m)\u001b[0m\u001b[0;34m.\u001b[0m\u001b[0msum\u001b[0m\u001b[0;34m(\u001b[0m\u001b[0;34m)\u001b[0m\u001b[0;34m\u001b[0m\u001b[0;34m\u001b[0m\u001b[0m\n\u001b[0;32m--> 100\u001b[0;31m             \u001b[0mo\u001b[0m \u001b[0;34m=\u001b[0m \u001b[0mself\u001b[0m\u001b[0;34m.\u001b[0m\u001b[0mmodule\u001b[0m\u001b[0;34m(\u001b[0m\u001b[0minput\u001b[0m\u001b[0;34m[\u001b[0m\u001b[0;34m:\u001b[0m\u001b[0mreal_bs\u001b[0m\u001b[0;34m,\u001b[0m\u001b[0mi\u001b[0m\u001b[0;34m:\u001b[0m \u001b[0mmin\u001b[0m\u001b[0;34m(\u001b[0m\u001b[0mi\u001b[0m\u001b[0;34m+\u001b[0m\u001b[0mself\u001b[0m\u001b[0;34m.\u001b[0m\u001b[0mbptt\u001b[0m\u001b[0;34m,\u001b[0m \u001b[0msl\u001b[0m\u001b[0;34m)\u001b[0m\u001b[0;34m]\u001b[0m\u001b[0;34m)\u001b[0m\u001b[0;34m\u001b[0m\u001b[0;34m\u001b[0m\u001b[0m\n\u001b[0m\u001b[1;32m    101\u001b[0m             \u001b[0;32mif\u001b[0m \u001b[0mself\u001b[0m\u001b[0;34m.\u001b[0m\u001b[0mmax_len\u001b[0m \u001b[0;32mis\u001b[0m \u001b[0;32mNone\u001b[0m \u001b[0;32mor\u001b[0m \u001b[0msl\u001b[0m\u001b[0;34m-\u001b[0m\u001b[0mi\u001b[0m \u001b[0;34m<=\u001b[0m \u001b[0mself\u001b[0m\u001b[0;34m.\u001b[0m\u001b[0mmax_len\u001b[0m\u001b[0;34m:\u001b[0m\u001b[0;34m\u001b[0m\u001b[0;34m\u001b[0m\u001b[0m\n\u001b[1;32m    102\u001b[0m                 \u001b[0mouts\u001b[0m\u001b[0;34m.\u001b[0m\u001b[0mappend\u001b[0m\u001b[0;34m(\u001b[0m\u001b[0mo\u001b[0m\u001b[0;34m)\u001b[0m\u001b[0;34m\u001b[0m\u001b[0;34m\u001b[0m\u001b[0m\n",
            "\u001b[0;32m/usr/local/lib/python3.11/dist-packages/torch/nn/modules/module.py\u001b[0m in \u001b[0;36m_wrapped_call_impl\u001b[0;34m(self, *args, **kwargs)\u001b[0m\n\u001b[1;32m   1733\u001b[0m         \u001b[0;32mreturn\u001b[0m \u001b[0mresult\u001b[0m\u001b[0;34m\u001b[0m\u001b[0;34m\u001b[0m\u001b[0m\n\u001b[1;32m   1734\u001b[0m \u001b[0;34m\u001b[0m\u001b[0m\n\u001b[0;32m-> 1735\u001b[0;31m     \u001b[0;32mdef\u001b[0m \u001b[0m_wrapped_call_impl\u001b[0m\u001b[0;34m(\u001b[0m\u001b[0mself\u001b[0m\u001b[0;34m,\u001b[0m \u001b[0;34m*\u001b[0m\u001b[0margs\u001b[0m\u001b[0;34m,\u001b[0m \u001b[0;34m**\u001b[0m\u001b[0mkwargs\u001b[0m\u001b[0;34m)\u001b[0m\u001b[0;34m:\u001b[0m\u001b[0;34m\u001b[0m\u001b[0;34m\u001b[0m\u001b[0m\n\u001b[0m\u001b[1;32m   1736\u001b[0m         \u001b[0;32mif\u001b[0m \u001b[0mself\u001b[0m\u001b[0;34m.\u001b[0m\u001b[0m_compiled_call_impl\u001b[0m \u001b[0;32mis\u001b[0m \u001b[0;32mnot\u001b[0m \u001b[0;32mNone\u001b[0m\u001b[0;34m:\u001b[0m\u001b[0;34m\u001b[0m\u001b[0;34m\u001b[0m\u001b[0m\n\u001b[1;32m   1737\u001b[0m             \u001b[0;32mreturn\u001b[0m \u001b[0mself\u001b[0m\u001b[0;34m.\u001b[0m\u001b[0m_compiled_call_impl\u001b[0m\u001b[0;34m(\u001b[0m\u001b[0;34m*\u001b[0m\u001b[0margs\u001b[0m\u001b[0;34m,\u001b[0m \u001b[0;34m**\u001b[0m\u001b[0mkwargs\u001b[0m\u001b[0;34m)\u001b[0m  \u001b[0;31m# type: ignore[misc]\u001b[0m\u001b[0;34m\u001b[0m\u001b[0;34m\u001b[0m\u001b[0m\n",
            "\u001b[0;31mKeyboardInterrupt\u001b[0m: "
          ]
        }
      ],
      "source": [
        "from fastai.text.all import *\n",
        "\n",
        "dls = TextDataLoaders.from_folder(untar_data(URLs.IMDB), valid='test', bs=16)\n",
        "learn = text_classifier_learner(dls, AWD_LSTM, drop_mult=0.5, metrics=accuracy)\n",
        "learn.fine_tune(4, 1e-2)"
      ]
    },
    {
      "cell_type": "markdown",
      "metadata": {
        "id": "Vs1sX-J_XxkK"
      },
      "source": [
        "#clean\n",
        "If you hit a \"CUDA out of memory error\" after running this cell, click on the menu Kernel, then restart. Instead of executing the cell above, copy and paste the following code in it:\n",
        "\n",
        "이 셀을 실행한 후 \"CUDA 메모리 부족 오류\"가 발생하면 Kernel 메뉴를 클릭한 다음 다시 시작하세요. 위의 셀을 실행하는 대신 다음 코드를 복사하여 붙여넣으세요.\n",
        "\n",
        "```\n",
        "from fastai.text.all import *\n",
        "\n",
        "dls = TextDataLoaders.from_folder(untar_data(URLs.IMDB), valid='test', bs=32)\n",
        "learn = text_classifier_learner(dls, AWD_LSTM, drop_mult=0.5, metrics=accuracy)\n",
        "learn.fine_tune(4, 1e-2)\n",
        "```\n",
        "\n",
        "This reduces the batch size to 32 (we will explain this later). If you keep hitting the same error, change 32 to 16.\n",
        "\n",
        "이렇게 하면 배치 크기가 32로 줄어듭니다(나중에 설명하겠습니다). 계속 같은 오류가 발생하면 32를 16으로 변경하세요.\n"
      ]
    },
    {
      "cell_type": "markdown",
      "metadata": {
        "id": "b1wtZNWRXxkK"
      },
      "source": [
        "This model is using the [\"IMDb Large Movie Review dataset\"](https://ai.stanford.edu/~ang/papers/acl11-WordVectorsSentimentAnalysis.pdf) from the paper \"Learning Word Vectors for Sentiment Analysis\" by Andrew Maas et al. It works well with movie reviews of many thousands of words, but let's test it out on a very short one to see how it does its thing:\n",
        "\n",
        "이 모델은 Andrew Maas 등이 쓴 논문 \"Learning Word Vectors for Sentiment Analysis\"의 \"IMDb Large Movie Review dataset\"를 사용합니다 . 수천 단어의 영화 리뷰에 잘 작동하지만, 매우 짧은 리뷰에서 어떻게 작동하는지 테스트해 보겠습니다."
      ]
    },
    {
      "cell_type": "code",
      "execution_count": null,
      "metadata": {
        "id": "suGJ4M69XxkK",
        "outputId": "245c4f95-48bf-4b98-a7bb-9cadedf65343"
      },
      "outputs": [
        {
          "data": {
            "text/html": [],
            "text/plain": [
              "<IPython.core.display.HTML object>"
            ]
          },
          "metadata": {},
          "output_type": "display_data"
        },
        {
          "data": {
            "text/plain": [
              "('pos', tensor(1), tensor([0.0040, 0.9960]))"
            ]
          },
          "execution_count": null,
          "metadata": {},
          "output_type": "execute_result"
        }
      ],
      "source": [
        "learn.predict(\"I really liked that movie!\")"
      ]
    },
    {
      "cell_type": "markdown",
      "metadata": {
        "id": "m-8FY4rAXxkK"
      },
      "source": [
        "Here we can see the model has considered the review to be positive. The second part of the result is the index of \"pos\" in our data vocabulary and the last part is the probabilities attributed to each class (99.6% for \"pos\" and 0.4% for \"neg\").\n",
        "\n",
        "여기서 우리는 모델이 리뷰를 긍정적으로 간주했음을 볼 수 있습니다. 결과의 두 번째 부분은 데이터 어휘에서 \"pos\"의 인덱스이고 마지막 부분은 각 클래스에 기인한 확률(\"pos\"의 경우 99.6%, \"neg\"의 경우 0.4%)입니다.\n",
        "\n",
        "Now it's your turn! Write your own mini movie review, or copy one from the internet, and you can see what this model thinks about it.\n",
        "\n",
        "이제 당신 차례입니다! 당신만의 미니 영화 리뷰를 쓰거나 인터넷에서 복사하면 이 모델이 그것에 대해 어떻게 생각하는지 볼 수 있습니다."
      ]
    },
    {
      "cell_type": "markdown",
      "metadata": {
        "id": "mVEBV2eAXxkK"
      },
      "source": [
        "### Sidebar: The Order Matters"
      ]
    },
    {
      "cell_type": "markdown",
      "metadata": {
        "id": "AMzg4PTrXxkK"
      },
      "source": [
        "In a Jupyter notebook, the order in which you execute each cell is very important. It's not like Excel, where everything gets updated as soon as you type something anywhere—it has an inner state that gets updated each time you execute a cell. For instance, when you run the first cell of the notebook (with the \"CLICK ME\" comment), you create an object called `learn` that contains a model and data for an image classification problem. If we were to run the cell just shown in the text (the one that predicts if a review is good or not) straight after, we would get an error as this `learn` object does not contain a text classification model. This cell needs to be run after the one containing:\n",
        "\n",
        "Jupyter 노트북에서 각 셀을 실행하는 순서는 매우 중요합니다. Excel과 달리 어디에든 무언가를 입력하자마자 모든 것이 업데이트되는 것은 아닙니다. 셀을 실행할 때마다 업데이트되는 내부 상태가 있습니다. 예를 들어, 노트북의 첫 번째 셀(\"CLICK ME\" 주석 포함)을 실행하면 learn이미지 분류 문제에 대한 모델과 데이터가 포함된 이라는 객체를 만듭니다. 텍스트에 표시된 셀(리뷰가 좋은지 나쁜지를 예측하는 셀)을 바로 이어서 실행하면 이 learn객체에 텍스트 분류 모델이 없으므로 오류가 발생합니다. 이 셀은 다음을 포함하는 셀 다음에 실행해야 합니다.\n",
        "\n",
        "```python\n",
        "from fastai.text.all import *\n",
        "\n",
        "dls = TextDataLoaders.from_folder(untar_data(URLs.IMDB), valid='test')\n",
        "learn = text_classifier_learner(dls, AWD_LSTM, drop_mult=0.5,\n",
        "                                metrics=accuracy)\n",
        "learn.fine_tune(4, 1e-2)\n",
        "```\n",
        "\n",
        "The outputs themselves can be deceiving, because they include the results of the last time the cell was executed; if you change the code inside a cell without executing it, the old (misleading) results will remain.\n",
        "\n",
        "출력 자체는 셀이 마지막으로 실행된 시간의 결과를 포함하기 때문에 기만적일 수 있습니다. 셀을 실행하지 않고 셀 내부의 코드를 변경하면 이전의 (오해의 소지가 있는) 결과가 그대로 유지됩니다.\n",
        "\n",
        "Except when we mention it explicitly, the notebooks provided on the [book website](https://book.fast.ai/) are meant to be run in order, from top to bottom. In general, when experimenting, you will find yourself executing cells in any order to go fast (which is a super neat feature of Jupyter Notebook), but once you have explored and arrived at the final version of your code, make sure you can run the cells of your notebooks in order (your future self won't necessarily remember the convoluted path you took otherwise!).\n",
        "\n",
        "명확하게 언급하지 않는 한, 책 웹사이트 에 제공된 노트북은 위에서 아래로 순서대로 실행되도록 되어 있습니다. 일반적으로 실험할 때, 빠르게 진행하기 위해 어떤 순서로든 셀을 실행하게 될 것입니다(Jupyter Notebook의 매우 멋진 기능입니다). 하지만 탐색하고 코드의 최종 버전에 도달하면 노트북의 셀을 순서대로 실행할 수 있는지 확인하세요(그렇지 않으면 미래의 자신이 당신이 취한 복잡한 경로를 반드시 기억하지 못할 것입니다!).\n",
        "\n",
        "In command mode, pressing `0` twice will restart the *kernel* (which is the engine powering your notebook). This will wipe your state clean and make it as if you had just started in the notebook. Choose Run All Above from the Cell menu to run all cells above the point where you are. We have found this to be very useful when developing the fastai library.\n",
        "\n",
        "명령 모드에서 두 번 누르면 커널0 (노트북에 전원을 공급하는 엔진)이 다시 시작됩니다 . 이렇게 하면 상태가 깨끗이 지워지고 노트북에서 방금 시작한 것처럼 됩니다. 셀 메뉴에서 모든 셀을 실행하여 현재 지점 위의 모든 셀을 실행합니다. fastai 라이브러리를 개발할 때 이 기능이 매우 유용하다는 것을 알게 되었습니다.\n"
      ]
    },
    {
      "cell_type": "markdown",
      "metadata": {
        "id": "-bDLBDdSXxkK"
      },
      "source": [
        "### End sidebar"
      ]
    },
    {
      "cell_type": "markdown",
      "metadata": {
        "id": "rC--_5cpXxkK"
      },
      "source": [
        "If you ever have any questions about a fastai method, you should use the function `doc`, passing it the method name:\n",
        "\n",
        "fastai 메서드에 대해 궁금한 점이 있으면 doc메서드 이름을 전달하여 함수를 사용해야 합니다.\n",
        "\n",
        "```python\n",
        "doc(learn.predict)\n",
        "```\n",
        "\n",
        "This will make a small window pop up with content like this:\n",
        "\n",
        "<img src=\"https://github.com/fastai/fastbook/blob/master/images/doc_ex.png?raw=1\" width=\"600\">"
      ]
    },
    {
      "cell_type": "code",
      "source": [
        "doc(learn.predict)"
      ],
      "metadata": {
        "id": "pOOAh12izmsL"
      },
      "execution_count": null,
      "outputs": []
    },
    {
      "cell_type": "markdown",
      "metadata": {
        "id": "ffCyJl7-XxkK"
      },
      "source": [
        "A brief one-line explanation is provided by `doc`. The \"Show in docs\" link takes you to the full documentation, where you'll find all the details and lots of examples. Also, most of fastai's methods are just a handful of lines, so you can click the \"source\" link to see exactly what's going on behind the scenes.\n",
        "\n",
        "doc 에서 간단한 한 줄 설명을 제공합니다. \"문서에 표시\" 링크를 클릭하면 전체 문서로 이동하며, 모든 세부 정보와 많은 예를 찾을 수 있습니다. 또한, fastai의 대부분 메서드는 몇 줄에 불과하므로 \"소스\" 링크를 클릭하면 정확히 무슨 일이 일어나고 있는지 볼 수 있습니다.\n",
        "\n",
        "Let's move on to something much less sexy, but perhaps significantly more widely commercially useful: building models from plain *tabular* data.\n",
        "\n",
        "이제 그다지 매력적이지는 않지만 상업적으로 훨씬 더 유용한 것으로 넘어가 보겠습니다. 일반적인 표 형식 데이터에서 모델을 구축하는 것입니다.\n"
      ]
    },
    {
      "cell_type": "markdown",
      "metadata": {
        "id": "Nbo8-Tb0XxkK"
      },
      "source": [
        "> jargon: Tabular: Data that is in the form of a table, such as from a spreadsheet, database, or CSV file. A tabular model is a model that tries to predict one column of a table based on information in other columns of the table.\n",
        "\n",
        "> 전문 용어: 표 형식: 스프레드시트, 데이터베이스 또는 CSV 파일과 같은 표 형태의 데이터. 표 형식 모델은 표의 다른 열에 있는 정보를 기반으로 표의 한 열을 예측하려는 모델입니다."
      ]
    },
    {
      "cell_type": "markdown",
      "metadata": {
        "id": "2Ejj6B7VXxkL"
      },
      "source": [
        "It turns out that looks very similar too. Here is the code necessary to train a model that will predict whether a person is a high-income earner, based on their socioeconomic background:\n",
        "\n",
        "매우 유사해 보입니다. 사회경제적 배경에 따라 사람이 고소득자인지 예측하는 모델을 학습하는 데 필요한 코드는 다음과 같습니다."
      ]
    },
    {
      "cell_type": "code",
      "execution_count": null,
      "metadata": {
        "id": "f8GjTRnbXxkL"
      },
      "outputs": [],
      "source": [
        "from fastai.tabular.all import *\n",
        "path = untar_data(URLs.ADULT_SAMPLE)\n",
        "\n",
        "dls = TabularDataLoaders.from_csv(path/'adult.csv', path=path, y_names=\"salary\",\n",
        "    cat_names = ['workclass', 'education', 'marital-status', 'occupation',\n",
        "                 'relationship', 'race'],\n",
        "    cont_names = ['age', 'fnlwgt', 'education-num'],\n",
        "    procs = [Categorify, FillMissing, Normalize])\n",
        "\n",
        "learn = tabular_learner(dls, metrics=accuracy)"
      ]
    },
    {
      "cell_type": "markdown",
      "metadata": {
        "id": "posgDz_4XxkL"
      },
      "source": [
        "As you see, we had to tell fastai which columns are *categorical* (that is, contain values that are one of a discrete set of choices, such as `occupation`) and which are *continuous* (that is, contain a number that represents a quantity, such as `age`).\n",
        "\n",
        "보시다시피, 우리는 fastai에 어떤 열이 범주형 인지 (즉, 와 같은 이산적인 선택 집합 중 하나를 포함하는 값 occupation)이고 어떤 열 이 연속형 인지 (즉, 와 같이 양을 나타내는 숫자를 포함하는 값 age) 알려줘야 했습니다.\n",
        "\n",
        "There is no pretrained model available for this task (in general, pretrained models are not widely available for any tabular modeling tasks, although some organizations have created them for internal use), so we don't use `fine_tune` in this case. Instead we use `fit_one_cycle`, the most commonly used method for training fastai models *from scratch* (i.e. without transfer learning):\n",
        "\n",
        "이 작업에 사용할 수 있는 사전 학습된 모델이 없습니다(일반적으로 사전 학습된 모델은 모든 표 모델링 작업에 널리 사용할 수 없지만 일부 조직에서는 내부적으로 사용하기 위해 만들었습니다). 따라서 이 경우에는 사용하지 않습니다 . 대신, 처음부터 (즉, 전이 학습 없이) fastai 모델을 학습하는 데 가장 일반적으로 사용되는 방법인 을 fine_tune사용합니다 .fit_one_cycle"
      ]
    },
    {
      "cell_type": "code",
      "execution_count": null,
      "metadata": {
        "id": "NiytEHHOXxkL",
        "outputId": "08ac3e7e-75a1-4dc7-cab2-f70aae15cc9a"
      },
      "outputs": [
        {
          "data": {
            "text/html": [
              "<table border=\"1\" class=\"dataframe\">\n",
              "  <thead>\n",
              "    <tr style=\"text-align: left;\">\n",
              "      <th>epoch</th>\n",
              "      <th>train_loss</th>\n",
              "      <th>valid_loss</th>\n",
              "      <th>accuracy</th>\n",
              "      <th>time</th>\n",
              "    </tr>\n",
              "  </thead>\n",
              "  <tbody>\n",
              "    <tr>\n",
              "      <td>0</td>\n",
              "      <td>0.372397</td>\n",
              "      <td>0.357177</td>\n",
              "      <td>0.832463</td>\n",
              "      <td>00:08</td>\n",
              "    </tr>\n",
              "    <tr>\n",
              "      <td>1</td>\n",
              "      <td>0.351544</td>\n",
              "      <td>0.341505</td>\n",
              "      <td>0.841523</td>\n",
              "      <td>00:08</td>\n",
              "    </tr>\n",
              "    <tr>\n",
              "      <td>2</td>\n",
              "      <td>0.338763</td>\n",
              "      <td>0.339184</td>\n",
              "      <td>0.845670</td>\n",
              "      <td>00:08</td>\n",
              "    </tr>\n",
              "  </tbody>\n",
              "</table>"
            ],
            "text/plain": [
              "<IPython.core.display.HTML object>"
            ]
          },
          "metadata": {},
          "output_type": "display_data"
        }
      ],
      "source": [
        "learn.fit_one_cycle(3)"
      ]
    },
    {
      "cell_type": "markdown",
      "metadata": {
        "id": "h_tG__rXXxkL"
      },
      "source": [
        "This model is using the [*Adult* dataset](http://robotics.stanford.edu/~ronnyk/nbtree.pdf), from the paper \"Scaling Up the Accuracy of Naive-Bayes Classifiers: a Decision-Tree Hybrid\" by Rob Kohavi, which contains some demographic data about individuals (like their education, marital status, race, sex, and whether or not they have an annual income greater than \\$50k). The model is over 80\\% accurate, and took around 30 seconds to train.\n",
        "\n",
        "이 모델은 Rob Kohavi의 논문 \"Scaling Up the Accuracy of Naive-Bayes Classifiers: a Decision-Tree Hybrid\"에서 Adult 데이터 세트를 사용 하는데, 여기에는 개인에 대한 일부 인구 통계 데이터(교육, 결혼 상태, 인종, 성별, 연간 소득이 5만 달러 이상인지 여부 등)가 포함되어 있습니다. 이 모델은 80% 이상의 정확도를 보이며, 훈련하는 데 약 30초가 걸렸습니다.\n"
      ]
    },
    {
      "cell_type": "markdown",
      "metadata": {
        "id": "_Cdo1VhnXxkL"
      },
      "source": [
        "Let's look at one more. Recommendation systems are very important, particularly in e-commerce. Companies like Amazon and Netflix try hard to recommend products or movies that users might like. Here's how to train a model that will predict movies people might like, based on their previous viewing habits, using the [MovieLens dataset](https://doi.org/10.1145/2827872):\n",
        "\n",
        "하나 더 살펴보겠습니다. 추천 시스템은 특히 전자상거래에서 매우 중요합니다. Amazon과 Netflix와 같은 회사는 사용자가 좋아할 만한 제품이나 영화를 추천하기 위해 노력합니다. MovieLens 데이터 세트를 사용하여 이전 시청 습관을 기반으로 사람들이 좋아할 만한 영화를 예측하는 모델을 학습하는 방법은 다음과 같습니다 ."
      ]
    },
    {
      "cell_type": "code",
      "execution_count": null,
      "metadata": {
        "id": "wyhBlQZWXxkL",
        "outputId": "431dd74c-0e45-4b6a-9de6-30ce2c30766d"
      },
      "outputs": [
        {
          "data": {
            "text/html": [
              "<table border=\"1\" class=\"dataframe\">\n",
              "  <thead>\n",
              "    <tr style=\"text-align: left;\">\n",
              "      <th>epoch</th>\n",
              "      <th>train_loss</th>\n",
              "      <th>valid_loss</th>\n",
              "      <th>time</th>\n",
              "    </tr>\n",
              "  </thead>\n",
              "  <tbody>\n",
              "    <tr>\n",
              "      <td>0</td>\n",
              "      <td>1.510897</td>\n",
              "      <td>1.410028</td>\n",
              "      <td>00:00</td>\n",
              "    </tr>\n",
              "  </tbody>\n",
              "</table>"
            ],
            "text/plain": [
              "<IPython.core.display.HTML object>"
            ]
          },
          "metadata": {},
          "output_type": "display_data"
        },
        {
          "data": {
            "text/html": [
              "<table border=\"1\" class=\"dataframe\">\n",
              "  <thead>\n",
              "    <tr style=\"text-align: left;\">\n",
              "      <th>epoch</th>\n",
              "      <th>train_loss</th>\n",
              "      <th>valid_loss</th>\n",
              "      <th>time</th>\n",
              "    </tr>\n",
              "  </thead>\n",
              "  <tbody>\n",
              "    <tr>\n",
              "      <td>0</td>\n",
              "      <td>1.375435</td>\n",
              "      <td>1.350930</td>\n",
              "      <td>00:00</td>\n",
              "    </tr>\n",
              "    <tr>\n",
              "      <td>1</td>\n",
              "      <td>1.270062</td>\n",
              "      <td>1.173962</td>\n",
              "      <td>00:00</td>\n",
              "    </tr>\n",
              "    <tr>\n",
              "      <td>2</td>\n",
              "      <td>1.023159</td>\n",
              "      <td>0.879298</td>\n",
              "      <td>00:00</td>\n",
              "    </tr>\n",
              "    <tr>\n",
              "      <td>3</td>\n",
              "      <td>0.797398</td>\n",
              "      <td>0.739787</td>\n",
              "      <td>00:00</td>\n",
              "    </tr>\n",
              "    <tr>\n",
              "      <td>4</td>\n",
              "      <td>0.685500</td>\n",
              "      <td>0.700903</td>\n",
              "      <td>00:00</td>\n",
              "    </tr>\n",
              "    <tr>\n",
              "      <td>5</td>\n",
              "      <td>0.646508</td>\n",
              "      <td>0.686387</td>\n",
              "      <td>00:00</td>\n",
              "    </tr>\n",
              "    <tr>\n",
              "      <td>6</td>\n",
              "      <td>0.623985</td>\n",
              "      <td>0.681087</td>\n",
              "      <td>00:00</td>\n",
              "    </tr>\n",
              "    <tr>\n",
              "      <td>7</td>\n",
              "      <td>0.606319</td>\n",
              "      <td>0.676885</td>\n",
              "      <td>00:00</td>\n",
              "    </tr>\n",
              "    <tr>\n",
              "      <td>8</td>\n",
              "      <td>0.606975</td>\n",
              "      <td>0.675833</td>\n",
              "      <td>00:00</td>\n",
              "    </tr>\n",
              "    <tr>\n",
              "      <td>9</td>\n",
              "      <td>0.602670</td>\n",
              "      <td>0.675682</td>\n",
              "      <td>00:00</td>\n",
              "    </tr>\n",
              "  </tbody>\n",
              "</table>"
            ],
            "text/plain": [
              "<IPython.core.display.HTML object>"
            ]
          },
          "metadata": {},
          "output_type": "display_data"
        }
      ],
      "source": [
        "from fastai.collab import *\n",
        "path = untar_data(URLs.ML_SAMPLE)\n",
        "dls = CollabDataLoaders.from_csv(path/'ratings.csv')\n",
        "learn = collab_learner(dls, y_range=(0.5,5.5))\n",
        "learn.fine_tune(10)"
      ]
    },
    {
      "cell_type": "markdown",
      "metadata": {
        "id": "AH1ZtH_CXxkL"
      },
      "source": [
        "This model is predicting movie ratings on a scale of 0.5 to 5.0 to within around 0.6 average error. Since we're predicting a continuous number, rather than a category, we have to tell fastai what range our target has, using the `y_range` parameter.\n",
        "\n",
        "이 모델은 영화 평점을 0.5에서 5.0까지의 척도로 평균 오차 범위 0.6 이내로 예측합니다. 범주가 아닌 연속 숫자를 예측하기 때문에 y_range매개변수를 사용하여 fastai에 타겟 범위를 알려야 합니다.\n",
        "\n",
        "Although we're not actually using a pretrained model (for the same reason that we didn't for the tabular model), this example shows that fastai lets us use `fine_tune` anyway in this case (you'll learn how and why this works in <<chapter_pet_breeds>>). Sometimes it's best to experiment with `fine_tune` versus `fit_one_cycle` to see which works best for your dataset.\n",
        "\n",
        "실제로 사전 학습된 모델을 사용하지는 않지만(테이블 모델에서 사용하지 않은 것과 같은 이유로), 이 예는 fastai가 fine_tune이 경우에 어쨌든 사용할 수 있음을 보여줍니다(< >에서 이것이 어떻게 그리고 왜 작동하는지 알아볼 수 있습니다 ). 때로는 versus를 실험하여 데이터 세트에 가장 적합한 것을 확인하는 것이 가장 좋습니다.fine_tunefit_one_cycle\n",
        "\n",
        "We can use the same `show_results` call we saw earlier to view a few examples of user and movie IDs, actual ratings, and predictions:\n",
        "\n",
        "이전에 본 것과 동일한 show_results호출을 사용하여 사용자 및 영화 ID, 실제 평가 및 예측의 몇 가지 예를 볼 수 있습니다."
      ]
    },
    {
      "cell_type": "code",
      "execution_count": null,
      "metadata": {
        "id": "byduJQSQXxkL",
        "outputId": "9fb938ac-14a5-43cf-88a9-248cbc1b4f4d"
      },
      "outputs": [
        {
          "data": {
            "text/html": [],
            "text/plain": [
              "<IPython.core.display.HTML object>"
            ]
          },
          "metadata": {},
          "output_type": "display_data"
        },
        {
          "data": {
            "text/html": [
              "<table border=\"1\" class=\"dataframe\">\n",
              "  <thead>\n",
              "    <tr style=\"text-align: right;\">\n",
              "      <th></th>\n",
              "      <th>userId</th>\n",
              "      <th>movieId</th>\n",
              "      <th>rating</th>\n",
              "      <th>rating_pred</th>\n",
              "    </tr>\n",
              "  </thead>\n",
              "  <tbody>\n",
              "    <tr>\n",
              "      <th>0</th>\n",
              "      <td>66.0</td>\n",
              "      <td>79.0</td>\n",
              "      <td>4.0</td>\n",
              "      <td>3.978900</td>\n",
              "    </tr>\n",
              "    <tr>\n",
              "      <th>1</th>\n",
              "      <td>97.0</td>\n",
              "      <td>15.0</td>\n",
              "      <td>4.0</td>\n",
              "      <td>3.851795</td>\n",
              "    </tr>\n",
              "    <tr>\n",
              "      <th>2</th>\n",
              "      <td>55.0</td>\n",
              "      <td>79.0</td>\n",
              "      <td>3.5</td>\n",
              "      <td>3.945623</td>\n",
              "    </tr>\n",
              "    <tr>\n",
              "      <th>3</th>\n",
              "      <td>98.0</td>\n",
              "      <td>91.0</td>\n",
              "      <td>4.0</td>\n",
              "      <td>4.458704</td>\n",
              "    </tr>\n",
              "    <tr>\n",
              "      <th>4</th>\n",
              "      <td>53.0</td>\n",
              "      <td>7.0</td>\n",
              "      <td>5.0</td>\n",
              "      <td>4.670005</td>\n",
              "    </tr>\n",
              "    <tr>\n",
              "      <th>5</th>\n",
              "      <td>26.0</td>\n",
              "      <td>69.0</td>\n",
              "      <td>5.0</td>\n",
              "      <td>4.319870</td>\n",
              "    </tr>\n",
              "    <tr>\n",
              "      <th>6</th>\n",
              "      <td>81.0</td>\n",
              "      <td>16.0</td>\n",
              "      <td>4.5</td>\n",
              "      <td>4.426761</td>\n",
              "    </tr>\n",
              "    <tr>\n",
              "      <th>7</th>\n",
              "      <td>80.0</td>\n",
              "      <td>7.0</td>\n",
              "      <td>4.0</td>\n",
              "      <td>4.046183</td>\n",
              "    </tr>\n",
              "    <tr>\n",
              "      <th>8</th>\n",
              "      <td>51.0</td>\n",
              "      <td>94.0</td>\n",
              "      <td>5.0</td>\n",
              "      <td>3.499996</td>\n",
              "    </tr>\n",
              "  </tbody>\n",
              "</table>"
            ],
            "text/plain": [
              "<IPython.core.display.HTML object>"
            ]
          },
          "metadata": {},
          "output_type": "display_data"
        }
      ],
      "source": [
        "learn.show_results()"
      ]
    },
    {
      "cell_type": "markdown",
      "metadata": {
        "id": "Ms5RdoVtXxkL"
      },
      "source": [
        "### Sidebar: Datasets: Food for Models"
      ]
    },
    {
      "cell_type": "markdown",
      "metadata": {
        "id": "6IKZOM-FXxkL"
      },
      "source": [
        "You’ve already seen quite a few models in this section, each one trained using a different dataset to do a different task. In machine learning and deep learning, we can’t do anything without data. So, the people that create datasets for us to train our models on are the (often underappreciated) heroes. Some of the most useful and important datasets are those that become important *academic baselines*; that is, datasets that are widely studied by researchers and used to compare algorithmic changes. Some of these become household names (at least, among households that train models!), such as MNIST, CIFAR-10, and ImageNet.\n",
        "\n",
        "이 섹션에서 이미 꽤 많은 모델을 보았는데, 각각은 다른 작업을 수행하기 위해 다른 데이터 세트를 사용하여 학습되었습니다. 머신 러닝과 딥 러닝에서 우리는 데이터 없이는 아무것도 할 수 없습니다. 따라서 모델을 학습할 데이터 세트를 만드는 사람들은 (종종 과소평가되는) 영웅입니다. 가장 유용하고 중요한 데이터 세트 중 일부는 중요한 학술적 기준이 되는 데이터 세트입니다 . 즉, 연구자들이 광범위하게 연구하고 알고리즘 변경 사항을 비교하는 데 사용되는 데이터 세트입니다. 이 중 일부는 MNIST, CIFAR-10, ImageNet과 같이 (적어도 모델을 학습하는 가정에서는!) 가정의 이름이 되었습니다.\n",
        "\n",
        "The datasets used in this book have been selected because they provide great examples of the kinds of data that you are likely to encounter, and the academic literature has many examples of model results using these datasets to which you can compare your work.\n",
        "\n",
        "이 책에서 사용된 데이터 세트는 여러분이 접할 가능성이 높은 데이터 종류에 대한 좋은 예를 제공하기 때문에 선택되었으며, 학술 문헌에는 이 데이터 세트를 사용한 모델 결과의 많은 예가 있어 여러분의 작업을 비교할 수 있습니다.\n",
        "\n",
        "Most datasets used in this book took the creators a lot of work to build. For instance, later in the book we’ll be showing you how to create a model that can translate between French and English. The key input to this is a French/English parallel text corpus prepared back in 2009 by Professor Chris Callison-Burch of the University of Pennsylvania. This dataset contains over 20 million sentence pairs in French and English. He built the dataset in a really clever way: by crawling millions of Canadian web pages (which are often multilingual) and then using a set of simple heuristics to transform URLs of French content onto URLs pointing to the same content in English.\n",
        "\n",
        "이 책에서 사용된 대부분의 데이터세트는 작성자가 구축하는 데 많은 노력이 필요했습니다. 예를 들어, 이 책의 후반부에서는 프랑스어와 영어를 번역할 수 있는 모델을 만드는 방법을 보여드리겠습니다. 여기에 대한 핵심 입력은 2009년 펜실베이니아 대학교의 Chris Callison-Burch 교수가 준비한 프랑스어/영어 병렬 텍스트 코퍼스입니다. 이 데이터세트에는 프랑스어와 영어로 된 2,000만 개 이상의 문장 쌍이 포함되어 있습니다. 그는 매우 영리한 방법으로 데이터세트를 구축했습니다. 수백만 개의 캐나다 웹 페이지(종종 다국어)를 크롤링한 다음 간단한 휴리스틱 세트를 사용하여 프랑스어 콘텐츠의 URL을 영어로 된 동일한 콘텐츠를 가리키는 URL로 변환했습니다.\n",
        "\n",
        "As you look at datasets throughout this book, think about where they might have come from, and how they might have been curated. Then think about what kinds of interesting datasets you could create for your own projects. (We’ll even take you step by step through the process of creating your own image dataset soon.)\n",
        "\n",
        "이 책 전반에 걸쳐 데이터 세트를 살펴보면서, 그것들이 어디에서 왔을지, 어떻게 큐레이션되었을지 생각해 보세요. 그런 다음, 자신의 프로젝트를 위해 어떤 종류의 흥미로운 데이터 세트를 만들 수 있을지 생각해 보세요. (곧 자신의 이미지 데이터 세트를 만드는 과정을 단계별로 안내해 드리겠습니다.)\n",
        "\n",
        "fast.ai has spent a lot of time creating cut-down versions of popular datasets that are specially designed to support rapid prototyping and experimentation, and to be easier to learn with. In this book we will often start by using one of the cut-down versions and later scale up to the full-size version (just as we're doing in this chapter!). In fact, this is how the world’s top practitioners do their modeling in practice; they do most of their experimentation and prototyping with subsets of their data, and only use the full dataset when they have a good understanding of what they have to do.\n",
        "\n",
        "fast.ai는 인기 있는 데이터세트의 축소 버전을 만드는 데 많은 시간을 투자했는데, 이는 신속한 프로토타입 제작과 실험을 지원하고 학습하기 쉽도록 특별히 설계되었습니다. 이 책에서는 축소 버전 중 하나를 사용하여 시작한 다음 나중에 전체 크기 버전으로 확장합니다(이 장에서 하는 것처럼!). 사실, 이것이 세계 최고의 실무자들이 실제로 모델링을 하는 방식입니다. 그들은 대부분의 실험과 프로토타입 제작을 데이터의 하위 집합으로 수행하고, 해야 할 일을 잘 이해할 때만 전체 데이터세트를 사용합니다.\n"
      ]
    },
    {
      "cell_type": "markdown",
      "metadata": {
        "id": "rbS-j0BwXxkL"
      },
      "source": [
        "### End sidebar"
      ]
    },
    {
      "cell_type": "markdown",
      "metadata": {
        "id": "yNOEq4LNXxkL"
      },
      "source": [
        "Each of the models we trained showed a training and validation loss. A good validation set is one of the most important pieces of the training process. Let's see why and learn how to create one."
      ]
    },
    {
      "cell_type": "markdown",
      "metadata": {
        "id": "wIKqWnXRXxkL"
      },
      "source": [
        "## Validation Sets and Test Sets"
      ]
    },
    {
      "cell_type": "markdown",
      "metadata": {
        "id": "JdCbD57RXxkL"
      },
      "source": [
        "As we've discussed, the goal of a model is to make predictions about data. But the model training process is fundamentally dumb. If we trained a model with all our data, and then evaluated the model using that same data, we would not be able to tell how well our model can perform on data it hasn’t seen. Without this very valuable piece of information to guide us in training our model, there is a very good chance it would become good at making predictions about that data but would perform poorly on new data.\n",
        "\n",
        "논의했듯이 모델의 목표는 데이터에 대한 예측을 하는 것입니다. 하지만 모델 학습 과정은 근본적으로 멍청합니다. 모든 데이터로 모델을 학습한 다음 동일한 데이터를 사용하여 모델을 평가하면 모델이 보지 못한 데이터에서 얼마나 잘 수행할 수 있는지 알 수 없습니다. 모델을 학습하는 데 도움이 되는 이 매우 귀중한 정보가 없다면 해당 데이터에 대한 예측을 잘 수행할 가능성이 매우 높지만 새로운 데이터에서는 성능이 좋지 않을 것입니다.\n",
        "\n",
        "To avoid this, our first step was to split our dataset into two sets: the *training set* (which our model sees in training) and the *validation set*, also known as the *development set* (which is used only for evaluation). This lets us test that the model learns lessons from the training data that generalize to new data, the validation data.\n",
        "\n",
        "이를 피하기 위해 첫 번째 단계는 데이터 세트를 두 세트로 나누는 것이었습니다. 훈련 세트 (모델이 훈련에서 보는 것)와 검증 세트 ( 개발 세트 라고도 함 , 평가에만 사용됨)입니다. 이를 통해 모델이 훈련 데이터에서 교훈을 얻어 새 데이터인 검증 데이터로 일반화하는지 테스트할 수 있습니다.\n",
        "\n",
        "One way to understand this situation is that, in a sense, we don't want our model to get good results by \"cheating.\" If it makes an accurate prediction for a data item, that should be because it has learned characteristics of that kind of item, and not because the model has been shaped by *actually having seen that particular item*.\n",
        "\n",
        "이 상황을 이해하는 한 가지 방법은 어떤 의미에서 우리는 우리의 모델이 \"속임수\"를 써서 좋은 결과를 얻는 것을 원하지 않는다는 것입니다. 만약 그것이 데이터 항목에 대한 정확한 예측을 한다면 그것은 그 종류의 항목의 특성을 학습했기 때문이지, 그 특정 항목을 실제로 본 것에 의해 모델이 형성되었기 때문이 아닙니다 .\n",
        "\n",
        "Splitting off our validation data means our model never sees it in training and so is completely untainted by it, and is not cheating in any way. Right?\n",
        "\n",
        "검증 데이터를 분리한다는 것은 우리 모델이 훈련에서 그것을 결코 보지 못한다는 것을 의미하므로 그것에 완전히 오염되지 않았고 어떤 식으로든 부정행위를 하지 않는다는 것을 의미합니다. 맞죠?\n",
        "\n",
        "In fact, not necessarily. The situation is more subtle. This is because in realistic scenarios we rarely build a model just by training its weight parameters once. Instead, we are likely to explore many versions of a model through various modeling choices regarding network architecture, learning rates, data augmentation strategies, and other factors we will discuss in upcoming chapters. Many of these choices can be described as choices of *hyperparameters*. The word reflects that they are parameters about parameters, since they are the higher-level choices that govern the meaning of the weight parameters.\n",
        "\n",
        "사실, 반드시 그렇지는 않습니다. 상황은 더 미묘합니다. 이는 현실적인 시나리오에서 가중치 매개변수를 한 번만 학습하여 모델을 빌드하는 경우가 드물기 때문입니다. 대신, 네트워크 아키텍처, 학습률, 데이터 증강 전략 및 향후 장에서 논의할 기타 요소에 대한 다양한 모델링 선택을 통해 모델의 여러 버전을 탐색할 가능성이 높습니다. 이러한 선택 사항 중 다수는 하이퍼파라미터 의 선택으로 설명할 수 있습니다 . 이 단어는 가중치 매개변수의 의미를 지배하는 상위 수준 선택 사항이므로 매개변수에 대한 매개변수라는 것을 반영합니다.\n"
      ]
    },
    {
      "cell_type": "markdown",
      "metadata": {
        "id": "IrdX-GGlXxkL"
      },
      "source": [
        "The problem is that even though the ordinary training process is only looking at predictions on the training data when it learns values for the weight parameters, the same is not true of us. We, as modelers, are evaluating the model by looking at predictions on the validation data when we decide to explore new hyperparameter values! So subsequent versions of the model are, indirectly, shaped by us having seen the validation data. Just as the automatic training process is in danger of overfitting the training data, we are in danger of overfitting the validation data through human trial and error and exploration.\n",
        "\n",
        "문제는 일반적인 학습 프로세스가 가중치 매개변수 값을 학습할 때 학습 데이터에 대한 예측만 살펴보지만, 우리에게는 그렇지 않다는 것입니다. 모델러인 우리는 새로운 하이퍼 매개변수 값을 탐색하기로 결정할 때 검증 데이터에 대한 예측을 살펴보며 모델을 평가합니다! 따라서 모델의 후속 버전은 우리가 검증 데이터를 본 것에 의해 간접적으로 형성됩니다. 자동 학습 프로세스가 학습 데이터를 과대적합할 위험이 있는 것처럼, 우리는 인간의 시행착오와 탐색을 통해 검증 데이터를 과대적합할 위험이 있습니다.\n",
        "\n",
        "The solution to this conundrum is to introduce another level of even more highly reserved data, the *test set*. Just as we hold back the validation data from the training process, we must hold back the test set data even from ourselves. It cannot be used to improve the model; it can only be used to evaluate the model at the very end of our efforts. In effect, we define a hierarchy of cuts of our data, based on how fully we want to hide it from training and modeling processes: training data is fully exposed, the validation data is less exposed, and test data is totally hidden. This hierarchy parallels the different kinds of modeling and evaluation processes themselves—the automatic training process with back propagation, the more manual process of trying different hyper-parameters between training sessions, and the assessment of our final result.\n",
        "\n",
        "이 난제에 대한 해결책은 훨씬 더 높은 수준으로 보존된 데이터인 테스트 세트를 도입하는 것입니다 . 학습 프로세스에서 검증 데이터를 보류하는 것처럼, 테스트 세트 데이터도 우리 자신에게서 보류해야 합니다. 테스트 세트 데이터는 모델을 개선하는 데 사용할 수 없으며, 노력의 맨 마지막에 모델을 평가하는 데만 사용할 수 있습니다. 실제로, 우리는 학습 및 모델링 프로세스에서 얼마나 완전히 숨기고 싶은지에 따라 데이터 컷의 계층을 정의합니다. 학습 데이터는 완전히 노출되고, 검증 데이터는 덜 노출되고, 테스트 데이터는 완전히 숨겨집니다. 이 계층은 다양한 종류의 모델링 및 평가 프로세스 자체와 유사합니다. 즉, 역전파를 사용한 자동 학습 프로세스, 학습 세션 간에 다양한 하이퍼 매개변수를 시도하는 수동 프로세스, 최종 결과 평가입니다.\n",
        "\n",
        "The test and validation sets should have enough data to ensure that you get a good estimate of your accuracy. If you're creating a cat detector, for instance, you generally want at least 30 cats in your validation set. That means that if you have a dataset with thousands of items, using the default 20% validation set size may be more than you need. On the other hand, if you have lots of data, using some of it for validation probably doesn't have any downsides.\n",
        "\n",
        "테스트 및 검증 세트에는 정확도에 대한 좋은 추정치를 얻을 수 있을 만큼 충분한 데이터가 있어야 합니다. 예를 들어 고양이 탐지기를 만드는 경우 일반적으로 검증 세트에 최소 30마리의 고양이가 필요합니다. 즉, 수천 개의 항목이 있는 데이터 세트가 있는 경우 기본 20% 검증 세트 크기를 사용하면 필요 이상으로 클 수 있습니다. 반면에 데이터가 많은 경우 일부를 검증에 사용하는 것은 단점이 없을 것입니다.\n",
        "\n",
        "Having two levels of \"reserved data\"—a validation set and a test set, with one level representing data that you are virtually hiding from yourself—may seem a bit extreme. But the reason it is often necessary is because models tend to gravitate toward the simplest way to do good predictions (memorization), and we as fallible humans tend to gravitate toward fooling ourselves about how well our models are performing. The discipline of the test set helps us keep ourselves intellectually honest. That doesn't mean we *always* need a separate test set—if you have very little data, you may need to just have a validation set—but generally it's best to use one if at all possible.\n",
        "\n",
        "\"예약된 데이터\"의 두 가지 수준(검증 세트와 테스트 세트, 한 수준은 사실상 자신에게서 숨기고 있는 데이터를 나타냄)을 갖는 것은 약간 극단적으로 보일 수 있습니다. 하지만 종종 필요한 이유는 모델이 좋은 예측을 하는 가장 간단한 방법(암기)으로 끌리는 경향이 있고, 우리는 실수를 잘 하는 인간으로서 우리 모델의 수행 능력에 대해 스스로를 속이는 경향이 있기 때문입니다. 테스트 세트의 규율은 우리가 지적으로 정직하게 유지하는 데 도움이 됩니다. 그렇다고 해서 항상 별도의 테스트 세트가 필요하다는 것은 아닙니다. 데이터가 매우 적은 경우 검증 세트만 있으면 될 수 있지만, 일반적으로 가능하다면 하나를 사용하는 것이 가장 좋습니다.\n",
        "\n",
        "This same discipline can be critical if you intend to hire a third party to perform modeling work on your behalf. A third party might not understand your requirements accurately, or their incentives might even encourage them to misunderstand them. A good test set can greatly mitigate these risks and let you evaluate whether their work solves your actual problem.\n",
        "\n",
        "이와 동일한 규율은 귀하를 대신하여 모델링 작업을 수행하도록 제3자를 고용하려는 경우에도 중요할 수 있습니다. 제3자는 귀하의 요구 사항을 정확하게 이해하지 못할 수도 있고, 그들의 인센티브가 그들을 오해하도록 부추길 수도 있습니다. 좋은 테스트 세트는 이러한 위험을 크게 완화하고 그들의 작업이 귀하의 실제 문제를 해결하는지 평가할 수 있게 해줍니다.\n",
        "\n",
        "To put it bluntly, if you're a senior decision maker in your organization (or you're advising senior decision makers), the most important takeaway is this: if you ensure that you really understand what test and validation sets are and why they're important, then you'll avoid the single biggest source of failures we've seen when organizations decide to use AI. For instance, if you're considering bringing in an external vendor or service, make sure that you hold out some test data that the vendor *never gets to see*. Then *you* check their model on your test data, using a metric that *you* choose based on what actually matters to you in practice, and *you* decide what level of performance is adequate. (It's also a good idea for you to try out some simple baseline yourself, so you know what a really simple model can achieve. Often it'll turn out that your simple model performs just as well as one produced by an external \"expert\"!)\n",
        "\n",
        "솔직히 말해서, 여러분이 조직의 고위 의사결정권자라면(또는 고위 의사결정권자에게 조언을 한다면), 가장 중요한 요점은 이것입니다. 테스트 및 검증 세트가 무엇이고 왜 중요한지 정말로 이해한다면, 조직이 AI를 사용하기로 결정할 때 우리가 본 가장 큰 실패의 원천을 피할 수 있습니다. 예를 들어, 외부 공급업체나 서비스를 도입하는 것을 고려하고 있다면 공급업체가 결코 볼 수 없는 테스트 데이터를 보관해야 합니다 . 그런 다음 실제로 여러분에게 중요한 사항을 기반으로 선택한 지표 를 사용하여 테스트 데이터에서 해당 모델을 확인하고 적절한 수준의 성능을 결정 합니다. (또한 간단한 기준선을 직접 시도하여 정말 간단한 모델이 무엇을 달성할 수 있는지 알아보는 것도 좋습니다. 종종 여러분의 간단한 모델이 외부 \"전문가\"가 생성한 모델만큼 잘 수행된다는 것이 밝혀질 것입니다!)\n"
      ]
    },
    {
      "cell_type": "markdown",
      "metadata": {
        "id": "WX2BTSb2XxkL"
      },
      "source": [
        "### Use Judgment in Defining Test Sets"
      ]
    },
    {
      "cell_type": "markdown",
      "metadata": {
        "id": "fT1Z2FdJXxkL"
      },
      "source": [
        "To do a good job of defining a validation set (and possibly a test set), you will sometimes want to do more than just randomly grab a fraction of your original dataset. Remember: a key property of the validation and test sets is that they must be representative of the new data you will see in the future. This may sound like an impossible order! By definition, you haven’t seen this data yet. But you usually still do know some things.\n",
        "\n",
        "검증 세트(그리고 아마도 테스트 세트)를 잘 정의하려면 원래 데이터 세트의 일부를 무작위로 가져오는 것 이상을 하고 싶을 때가 있습니다. 기억하세요: 검증 세트와 테스트 세트의 핵심 속성은 미래에 볼 새 데이터를 대표해야 한다는 것입니다. 불가능한 조건 처럼 들릴 수 있습니다! 정의에 따르면 아직 이 데이터를 본 적이 없습니다. 하지만 보통은 여전히 ​​몇 가지 사실을 알고 있습니다.\n",
        "\n",
        "It's instructive to look at a few example cases. Many of these examples come from predictive modeling competitions on the [Kaggle](https://www.kaggle.com/) platform, which is a good representation of problems and methods you might see in practice.\n",
        "\n",
        "몇 가지 사례를 살펴보는 것이 유익합니다. 이러한 사례 중 다수는 Kaggle 플랫폼의 예측 모델링 경연 대회에서 나온 것으로, 실제로 볼 수 있는 문제와 방법을 잘 보여줍니다.\n",
        "\n",
        "One case might be if you are looking at time series data. For a time series, choosing a random subset of the data will be both too easy (you can look at the data both before and after the dates you are trying to predict) and not representative of most business use cases (where you are using historical data to build a model for use in the future). If your data includes the date and you are building a model to use in the future, you will want to choose a continuous section with the latest dates as your validation set (for instance, the last two weeks or last month of available data).\n",
        "\n",
        "시계열 데이터를 살펴보는 경우가 한 가지 사례일 수 있습니다. 시계열의 경우 데이터의 무작위 하위 집합을 선택하는 것은 너무 쉬울 것입니다(예측하려는 날짜의 이전과 이후의 데이터를 모두 볼 수 있음). 또한 대부분의 비즈니스 사용 사례(과거 데이터를 사용하여 미래에 사용할 모델을 빌드하는 경우)를 대표하지 못할 것입니다. 데이터에 날짜가 포함되어 있고 미래에 사용할 모델을 빌드하는 경우 최신 날짜가 있는 연속 섹션을 검증 세트로 선택해야 합니다(예: 사용 가능한 데이터의 마지막 2주 또는 마지막 달).\n",
        "\n",
        "Suppose you want to split the time series data in <<timeseries1>> into training and validation sets.\n",
        "\n",
        "< >의 시계열 데이터를 훈련 세트와 검증 세트로 분할하려 한다고 가정해 보겠습니다."
      ]
    },
    {
      "cell_type": "markdown",
      "metadata": {
        "id": "hDWWdlvYXxkL"
      },
      "source": [
        "<img src=\"https://github.com/fastai/fastbook/blob/master/images/timeseries1.png?raw=1\" width=\"400\" id=\"timeseries1\" caption=\"A time series\" alt=\"A serie of values\">"
      ]
    },
    {
      "cell_type": "markdown",
      "metadata": {
        "id": "MhGq_QreXxkL"
      },
      "source": [
        "A random subset is a poor choice (too easy to fill in the gaps, and not indicative of what you'll need in production), as we can see in <<timeseries2>>.\n",
        "\n",
        "\n",
        "< > 에서 볼 수 있듯이 무작위 하위 집합은 좋지 않은 선택입니다(빈틈을 메우기가 너무 쉽고, 프로덕션에 필요한 것을 나타내지 않음) ."
      ]
    },
    {
      "cell_type": "markdown",
      "metadata": {
        "id": "y2FHYOcYXxkL"
      },
      "source": [
        "<img src=\"https://github.com/fastai/fastbook/blob/master/images/timeseries2.png?raw=1\" width=\"400\" id=\"timeseries2\" caption=\"A poor training subset\" alt=\"Random training subset\">"
      ]
    },
    {
      "cell_type": "markdown",
      "metadata": {
        "id": "rmiOS0-zXxkM"
      },
      "source": [
        "Instead, use the earlier data as your training set (and the later data for the validation set), as shown in <<timeseries3>>.\n",
        "\n",
        "대신, < > 에서 보듯이, 이전 데이터를 훈련 세트로 사용하고(나중 데이터를 검증 세트로 사용하세요)"
      ]
    },
    {
      "cell_type": "markdown",
      "metadata": {
        "id": "oBvlkwvSXxkM"
      },
      "source": [
        "<img src=\"https://github.com/fastai/fastbook/blob/master/images/timeseries3.png?raw=1\" width=\"400\" id=\"timeseries3\" caption=\"A good training subset\" alt=\"Training subset using the data up to a certain timestamp\">"
      ]
    },
    {
      "cell_type": "markdown",
      "metadata": {
        "id": "hyRYfKKhXxkM"
      },
      "source": [
        "For example, Kaggle had a competition to [predict the sales in a chain of Ecuadorian grocery stores](https://www.kaggle.com/c/favorita-grocery-sales-forecasting). Kaggle's training data ran from Jan 1 2013 to Aug 15 2017, and the test data spanned Aug 16 2017 to Aug 31 2017. That way, the competition organizer ensured that entrants were making predictions for a time period that was *in the future*, from the perspective of their model. This is similar to the way quant hedge fund traders do *back-testing* to check whether their models are predictive of future periods, based on past data.\n",
        "\n",
        "예를 들어, Kaggle은 에콰도르 식료품점 체인의 매출을 예측 하는 경연 대회를 열었습니다 . Kaggle의 훈련 데이터는 2013년 1월 1일부터 2017년 8월 15일까지 진행되었고, 테스트 데이터는 2017년 8월 16일부터 2017년 8월 31일까지 진행되었습니다. 이런 방식으로 경연 대회 주최측은 참가자들이 모델의 관점에서 미래의 기간에 대한 예측을 하고 있는지 확인했습니다. 이는 양적 헤지펀드 트레이더가 과거 데이터를 기반으로 모델이 미래 기간을 예측하는지 확인하기 위해 백테스팅을 하는 방식과 유사합니다 .\n"
      ]
    },
    {
      "cell_type": "markdown",
      "metadata": {
        "id": "JF6zhFyRXxkM"
      },
      "source": [
        "A second common case is when you can easily anticipate ways the data you will be making predictions for in production may be *qualitatively different* from the data you have to train your model with.\n",
        "\n",
        "두 번째로 흔한 경우는 프로덕션에서 예측을 수행하는 데이터가 모델을 훈련하는 데 필요한 데이터와 질적으로 다를 수 있는 상황을 쉽게 예상할 수 있는 경우입니다.\n",
        "\n",
        "In the Kaggle [distracted driver competition](https://www.kaggle.com/c/state-farm-distracted-driver-detection), the independent variables are pictures of drivers at the wheel of a car, and the dependent variables are categories such as texting, eating, or safely looking ahead. Lots of pictures are of the same drivers in different positions, as we can see in <<img_driver>>. If you were an insurance company building a model from this data, note that you would be most interested in how the model performs on drivers it hasn't seen before (since you would likely have training data only for a small group of people). In recognition of this, the test data for the competition consists of images of people that don't appear in the training set.\n",
        "\n",
        "Kaggle distracted driver 대회 에서 독립 변수는 자동차를 운전하는 운전자의 사진이고, 종속 변수는 문자 보내기, 식사하기, 안전하게 앞을 바라보기 등의 범주입니다. < >에서 볼 수 있듯이 많은 사진이 서로 다른 자세를 취한 동일한 운전자의 사진입니다. 이 데이터로 모델을 구축하는 보험 회사라면 모델이 이전에 본 적이 없는 운전자에 대해 어떤 성능을 보이는지에 가장 관심이 있을 것입니다(소수의 사람에 대한 훈련 데이터만 있을 가능성이 높기 때문입니다). 이를 인식하여 대회의 테스트 데이터는 훈련 세트에 나타나지 않는 사람들의 이미지로 구성됩니다."
      ]
    },
    {
      "cell_type": "markdown",
      "metadata": {
        "id": "dZLMqjUqXxkM"
      },
      "source": [
        "<img src=\"https://github.com/fastai/fastbook/blob/master/images/driver.PNG?raw=1\" width=\"600\" id=\"img_driver\" caption=\"Two pictures from the training data\" alt=\"Two pictures from the training data, showing the same driver\">"
      ]
    },
    {
      "cell_type": "markdown",
      "metadata": {
        "id": "gi9OdDMDXxkM"
      },
      "source": [
        "If you put one of the images in <<img_driver>> in your training set and one in the validation set, your model will have an easy time making a prediction for the one in the validation set, so it will seem to be performing better than it would on new people. Another perspective is that if you used all the people in training your model, your model might be overfitting to particularities of those specific people, and not just learning the states (texting, eating, etc.).\n",
        "\n",
        "< >에 있는 이미지 중 하나를 훈련 세트에 넣고 , 하나를 검증 세트에 넣으면, 모델은 검증 세트에 있는 이미지에 대한 예측을 쉽게 할 수 있으므로, 새로운 사람에 대한 예측보다 더 나은 성과를 보이는 것처럼 보일 것입니다. 또 다른 관점은 모델을 훈련하는 데 모든 사람을 사용했다면, 모델은 그 특정 사람들의 특성에 과적합할 수 있고, 상태(문자 메시지 보내기, 식사 등)만 학습하는 것은 아닐 수 있다는 것입니다.\n",
        "\n",
        "A similar dynamic was at work in the [Kaggle fisheries competition](https://www.kaggle.com/c/the-nature-conservancy-fisheries-monitoring) to identify the species of fish caught by fishing boats in order to reduce illegal fishing of endangered populations.  The test set consisted of boats that didn't appear in the training data.  This means that you'd want your validation set to include boats that are not in the training set.\n",
        "\n",
        "멸종 위기에 처한 개체군의 불법 어업을 줄이기 위해 어선이 잡은 물고기 종을 식별하기 위한 Kaggle 어업 대회 에서도 비슷한 역학이 작용했습니다 . 테스트 세트는 훈련 데이터에 나타나지 않은 보트로 구성되었습니다. 즉, 검증 세트에 훈련 세트에 없는 보트를 포함해야 한다는 의미입니다.\n",
        "\n",
        "Sometimes it may not be clear how your validation data will differ.  For instance, for a problem using satellite imagery, you'd need to gather more information on whether the training set just contained certain geographic locations, or if it came from geographically scattered data.\n",
        "\n",
        "때로는 검증 데이터가 어떻게 다를지 명확하지 않을 수 있습니다. 예를 들어, 위성 이미지를 사용하는 문제의 경우 훈련 세트에 특정 지리적 위치만 포함되었는지 또는 지리적으로 분산된 데이터에서 나왔는지에 대한 정보를 더 많이 수집해야 합니다."
      ]
    },
    {
      "cell_type": "markdown",
      "metadata": {
        "id": "dz35k50FXxkM"
      },
      "source": [
        "Now that you have gotten a taste of how to build a model, you can decide what you want to dig into next.\n",
        "\n",
        "이제 모델을 만드는 방법을 어느 정도 알게 되었으니, 다음으로 무엇을 할지 결정할 수 있습니다."
      ]
    },
    {
      "cell_type": "markdown",
      "metadata": {
        "id": "8bkhAc6NXxkM"
      },
      "source": [
        "## A _Choose Your Own Adventure_ moment"
      ]
    },
    {
      "cell_type": "markdown",
      "metadata": {
        "id": "E2q4ubP7XxkM"
      },
      "source": [
        "If you would like to learn more about how to use deep learning models in practice, including how to identify and fix errors, create a real working web application, and avoid your model causing unexpected harm to your organization or society more generally, then keep reading the next two chapters. If you would like to start learning the foundations of how deep learning works under the hood, skip to <<chapter_mnist_basics>>. (Did you ever read _Choose Your Own Adventure_ books as a kid? Well, this is kind of like that… except with more deep learning than that book series contained.)\n",
        "\n",
        "실제로 딥 러닝 모델을 사용하는 방법, 오류를 식별하고 수정하는 방법, 실제로 작동하는 웹 애플리케이션을 만드는 방법, 모델이 조직이나 사회에 예상치 못한 피해를 입히지 않는 방법에 대해 자세히 알아보려면 다음 두 장을 계속 읽어보세요. 딥 러닝이 내부적으로 작동하는 방식에 대한 기초를 배우고 싶다면 < >로 건너뛰세요 . (어렸을 때 Choose Your Own Adventure 책을 읽어본 적이 있나요 ? 글쎄요, 이 책은 그런 종류의 책입니다... 다만 그 책 시리즈보다 더 많은 딥 러닝이 들어 있습니다.)\n",
        "\n",
        "You will need to read all these chapters to progress further in the book, but it is totally up to you which order you read them in. They don't depend on each other. If you skip ahead to <<chapter_mnist_basics>>, we will remind you at the end to come back and read the chapters you skipped over before you go any further.\n",
        "\n",
        "이 책을 더 진행하려면 이 모든 장을 읽어야 하지만, 어떤 순서로 읽을지는 전적으로 당신에게 달려 있습니다. 이 장은 서로에 의존하지 않습니다. < >로 건너뛰면, 더 이상 진행하기 전에 건너뛴 장을 다시 읽으라고 마지막에 상기시켜드립니다."
      ]
    },
    {
      "cell_type": "markdown",
      "metadata": {
        "id": "F3YcOjbOXxkM"
      },
      "source": [
        "## Questionnaire"
      ]
    },
    {
      "cell_type": "markdown",
      "metadata": {
        "id": "M8urd5y3XxkM"
      },
      "source": [
        "It can be hard to know in pages and pages of prose what the key things are that you really need to focus on and remember. So, we've prepared a list of questions and suggested steps to complete at the end of each chapter. All the answers are in the text of the chapter, so if you're not sure about anything here, reread that part of the text and make sure you understand it. Answers to all these questions are also available on the [book's website](https://book.fast.ai). You can also visit [the forums](https://forums.fast.ai) if you get stuck to get help from other folks studying this material.\n",
        "\n",
        "여러 페이지에 걸친 산문에서 정말 집중하고 기억해야 할 핵심 사항이 무엇인지 아는 것은 어려울 수 있습니다. 그래서 우리는 각 장의 끝에 질문 목록과 완료해야 할 단계를 제안했습니다. 모든 답변은 장의 텍스트에 있으므로 여기에서 확신이 서지 않는 부분이 있으면 텍스트의 해당 부분을 다시 읽고 이해했는지 확인하세요. 이러한 모든 질문에 대한 답변은 책의 웹사이트 에서도 확인할 수 있습니다 . 또한 막히면 포럼을 방문하여 이 자료를 공부하는 다른 사람들의 도움을 받을 수도 있습니다.\n",
        "\n",
        "For more questions, including detailed answers and links to the video timeline, have a look at Radek Osmulski's [aiquizzes](http://aiquizzes.com/howto).\n",
        "\n",
        "더 많은 질문과 자세한 답변, 영상 타임라인 링크를 원하시면 라덱 오스물스키의 aiquizzes를 시청하세요 ."
      ]
    },
    {
      "cell_type": "markdown",
      "metadata": {
        "id": "d2Zis_ETXxkM"
      },
      "source": [
        "1. Do you need these for deep learning?\n",
        "\n",
        "   - Lots of math T / F\n",
        "   - Lots of data T / F\n",
        "   - Lots of expensive computers T / F\n",
        "   - A PhD T / F\n",
        "   \n",
        "1. Name five areas where deep learning is now the best in the world.\n",
        "1. What was the name of the first device that was based on the principle of the artificial neuron?\n",
        "1. Based on the book of the same name, what are the requirements for parallel distributed processing (PDP)?\n",
        "1. What were the two theoretical misunderstandings that held back the field of neural networks?\n",
        "1. What is a GPU?\n",
        "1. Open a notebook and execute a cell containing: `1+1`. What happens?\n",
        "1. Follow through each cell of the stripped version of the notebook for this chapter. Before executing each cell, guess what will happen.\n",
        "1. Complete the Jupyter Notebook online appendix.\n",
        "1. Why is it hard to use a traditional computer program to recognize images in a photo?\n",
        "1. What did Samuel mean by \"weight assignment\"?\n",
        "1. What term do we normally use in deep learning for what Samuel called \"weights\"?\n",
        "1. Draw a picture that summarizes Samuel's view of a machine learning model.\n",
        "1. Why is it hard to understand why a deep learning model makes a particular prediction?\n",
        "1. What is the name of the theorem that shows that a neural network can solve any mathematical problem to any level of accuracy?\n",
        "1. What do you need in order to train a model?\n",
        "1. How could a feedback loop impact the rollout of a predictive policing model?\n",
        "1. Do we always have to use 224×224-pixel images with the cat recognition model?\n",
        "1. What is the difference between classification and regression?\n",
        "1. What is a validation set? What is a test set? Why do we need them?\n",
        "1. What will fastai do if you don't provide a validation set?\n",
        "1. Can we always use a random sample for a validation set? Why or why not?\n",
        "1. What is overfitting? Provide an example.\n",
        "1. What is a metric? How does it differ from \"loss\"?\n",
        "1. How can pretrained models help?\n",
        "1. What is the \"head\" of a model?\n",
        "1. What kinds of features do the early layers of a CNN find? How about the later layers?\n",
        "1. Are image models only useful for photos?\n",
        "1. What is an \"architecture\"?\n",
        "1. What is segmentation?\n",
        "1. What is `y_range` used for? When do we need it?\n",
        "1. What are \"hyperparameters\"?\n",
        "1. What's the best way to avoid failures when using AI in an organization?\n",
        "\n",
        "---\n",
        "\n",
        "1. 딥러닝에 이런 게 필요할까?\n",
        "  1. 수학이 많아요 T / F\n",
        "  1. 많은 데이터 T / F\n",
        "  1. 비싼 컴퓨터가 많아요 T / F\n",
        "  1. 박사 학위 T / F\n",
        "1. 현재 세계 최고의 딥러닝이 적용된 분야 5개를 말해 보세요.\n",
        "1. 인공 뉴런의 원리를 기반으로 한 최초의 장치의 이름은 무엇입니까?\n",
        "1. 같은 이름의 책을 기반으로, 병렬 분산 처리(PDP)의 요구 사항은 무엇입니까?\n",
        "1. 신경망 분야를 가로막는 두 가지 이론적 오해는 무엇이었나요?\n",
        "1. GPU란 무엇인가요?\n",
        "1. 노트북을 열고 다음을 포함하는 셀을 실행합니다: 1+1. 무슨 일이 일어날까요?\n",
        "1. 이 장의 노트북 스트립 버전의 각 셀을 따라가 보세요. 각 셀을 실행하기 전에 무슨 일이 일어날지 추측해 보세요.\n",
        "1. Jupyter Notebook 온라인 부록을 완성하세요.\n",
        "1. 전통적인 컴퓨터 프로그램을 사용하여 사진 속 이미지를 인식하는 것이 어려운 이유는 무엇일까요?\n",
        "1. 사무엘은 \"가중치 할당\"이란 말로 무슨 뜻이었는가?\n",
        "1. 사무엘이 \"가중치\"라고 부르는 것에 대해 딥러닝에서 일반적으로 사용하는 용어는 무엇입니까?\n",
        "1. 머신 러닝 모델에 대한 Samuel의 견해를 요약한 그림을 그려보세요.\n",
        "1. 딥 러닝 모델이 특정 예측을 하는 이유를 이해하는 것이 어려운 이유는 무엇입니까?\n",
        "1. 신경망이 모든 수학적 문제를 원하는 정확도로 풀 수 있다는 것을 보여주는 정리의 이름은 무엇입니까?\n",
        "1. 모델을 훈련하려면 무엇이 필요한가요?\n",
        "1. 피드백 루프가 예측 경찰 모델의 도입에 어떤 영향을 미칠 수 있을까?\n",
        "1. 고양이 인식 모델에서는 항상 224×224픽셀 이미지를 사용해야 합니까?\n",
        "1. 분류와 회귀의 차이점은 무엇인가?\n",
        "1. 검증 세트란 무엇인가? 테스트 세트란 무엇인가? 왜 필요한가?\n",
        "1. 검증 세트를 제공하지 않으면 fastai는 어떻게 되나요?\n",
        "1. 검증 세트에 항상 무작위 샘플을 사용할 수 있나요? 왜 그럴까요? 아니면 왜 안 그럴까요?\n",
        "1. 오버피팅이란 무엇인가? 예를 들어보세요.\n",
        "1. 메트릭이란 무엇인가? \"손실\"과 어떻게 다른가?\n",
        "1. 사전 학습된 모델이 어떻게 도움이 될 수 있나요?\n",
        "1. 모델의 \"머리 (head)\"는 무엇입니까?\n",
        "1. CNN의 초기 레이어는 어떤 종류의 특징을 발견합니까? 후기 레이어는 어떻습니까?\n",
        "1. 이미지 모델은 사진에만 유용한가요?\n",
        "1. \"아키텍쳐\"이란 무엇인가?\n",
        "1. segmentation 세분화란 무엇인가요?\n",
        "1. y_range 는 무엇에 사용되나요? 언제 필요할까요?\n",
        "1. \"하이퍼매개변수\"란 무엇인가요?\n",
        "1. 조직에서 AI를 사용할 때 실패를 피하는 가장 좋은 방법은 무엇입니까?"
      ]
    },
    {
      "cell_type": "markdown",
      "metadata": {
        "id": "mhzMb4yzXxkM"
      },
      "source": [
        "### Further Research"
      ]
    },
    {
      "cell_type": "markdown",
      "metadata": {
        "id": "FhSX8dzyXxkM"
      },
      "source": [
        "Each chapter also has a \"Further Research\" section that poses questions that aren't fully answered in the text, or gives more advanced assignments. Answers to these questions aren't on the book's website; you'll need to do your own research!\n",
        "\n",
        "각 장에는 텍스트에서 완전히 답하지 못한 질문을 제기하거나 더 고급 과제를 제공하는 \"추가 연구\" 섹션도 있습니다. 이러한 질문에 대한 답변은 책의 웹사이트에 없습니다. 직접 조사해야 합니다!\n"
      ]
    },
    {
      "cell_type": "markdown",
      "metadata": {
        "id": "KlK_hiCYXxkM"
      },
      "source": [
        "1. Why is a GPU useful for deep learning? How is a CPU different, and why is it less effective for deep learning?\n",
        "1. Try to think of three areas where feedback loops might impact the use of machine learning. See if you can find documented examples of that happening in practice.\n",
        "\n",
        "\n",
        "1. GPU가 딥러닝에 유용한 이유는? CPU는 어떻게 다르고, 왜 딥러닝에 덜 효과적일까요?\n",
        "1. 피드백 루프가 머신 러닝 사용에 영향을 미칠 수 있는 세 가지 영역을 생각해 보세요. 실제로 그런 일이 일어나는 문서화된 사례를 찾을 수 있는지 확인해 보세요.\n"
      ]
    },
    {
      "cell_type": "code",
      "execution_count": null,
      "metadata": {
        "id": "cJ6r81RQXxkM"
      },
      "outputs": [],
      "source": []
    }
  ],
  "metadata": {
    "jupytext": {
      "split_at_heading": true
    },
    "kernelspec": {
      "display_name": "Python 3",
      "name": "python3"
    },
    "colab": {
      "provenance": [],
      "gpuType": "T4",
      "include_colab_link": true
    },
    "accelerator": "GPU",
    "widgets": {
      "application/vnd.jupyter.widget-state+json": {
        "c2522c9a861740f59983352b116ace9f": {
          "model_module": "@jupyter-widgets/controls",
          "model_name": "FileUploadModel",
          "model_module_version": "1.5.0",
          "state": {
            "_counter": 1,
            "_dom_classes": [],
            "_model_module": "@jupyter-widgets/controls",
            "_model_module_version": "1.5.0",
            "_model_name": "FileUploadModel",
            "_view_count": null,
            "_view_module": "@jupyter-widgets/controls",
            "_view_module_version": "1.5.0",
            "_view_name": "FileUploadView",
            "accept": "",
            "button_style": "",
            "data": [
              null
            ],
            "description": "Upload",
            "description_tooltip": null,
            "disabled": false,
            "error": "",
            "icon": "upload",
            "layout": "IPY_MODEL_fab632e3d4824e26a42bd77702a52adf",
            "metadata": [
              {
                "name": "th-1360303820.jpg",
                "type": "image/jpeg",
                "size": 20843,
                "lastModified": 1743949697042
              }
            ],
            "multiple": false,
            "style": "IPY_MODEL_e5e5ee47e53e4a77a385b56de251b39b"
          }
        },
        "fab632e3d4824e26a42bd77702a52adf": {
          "model_module": "@jupyter-widgets/base",
          "model_name": "LayoutModel",
          "model_module_version": "1.2.0",
          "state": {
            "_model_module": "@jupyter-widgets/base",
            "_model_module_version": "1.2.0",
            "_model_name": "LayoutModel",
            "_view_count": null,
            "_view_module": "@jupyter-widgets/base",
            "_view_module_version": "1.2.0",
            "_view_name": "LayoutView",
            "align_content": null,
            "align_items": null,
            "align_self": null,
            "border": null,
            "bottom": null,
            "display": null,
            "flex": null,
            "flex_flow": null,
            "grid_area": null,
            "grid_auto_columns": null,
            "grid_auto_flow": null,
            "grid_auto_rows": null,
            "grid_column": null,
            "grid_gap": null,
            "grid_row": null,
            "grid_template_areas": null,
            "grid_template_columns": null,
            "grid_template_rows": null,
            "height": null,
            "justify_content": null,
            "justify_items": null,
            "left": null,
            "margin": null,
            "max_height": null,
            "max_width": null,
            "min_height": null,
            "min_width": null,
            "object_fit": null,
            "object_position": null,
            "order": null,
            "overflow": null,
            "overflow_x": null,
            "overflow_y": null,
            "padding": null,
            "right": null,
            "top": null,
            "visibility": null,
            "width": null
          }
        },
        "e5e5ee47e53e4a77a385b56de251b39b": {
          "model_module": "@jupyter-widgets/controls",
          "model_name": "ButtonStyleModel",
          "model_module_version": "1.5.0",
          "state": {
            "_model_module": "@jupyter-widgets/controls",
            "_model_module_version": "1.5.0",
            "_model_name": "ButtonStyleModel",
            "_view_count": null,
            "_view_module": "@jupyter-widgets/base",
            "_view_module_version": "1.2.0",
            "_view_name": "StyleView",
            "button_color": null,
            "font_weight": ""
          }
        }
      }
    }
  },
  "nbformat": 4,
  "nbformat_minor": 0
}